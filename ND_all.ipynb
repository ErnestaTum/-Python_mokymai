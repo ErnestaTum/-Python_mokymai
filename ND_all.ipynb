{
 "cells": [
  {
   "cell_type": "code",
   "execution_count": 20,
   "metadata": {},
   "outputs": [
    {
     "name": "stdout",
     "output_type": "stream",
     "text": [
      "Ernesta Tumavice\n",
      "Mano vardas yra Ernesta, o pavarde Tumavice\n"
     ]
    }
   ],
   "source": [
    "# Atspausdinkite savo vardą ir pavardę viena print() funkcija\n",
    "# Panaudokite du kintamuosius\n",
    "# Panaudokite viengubas ir dvigubas kabutes\n",
    "\n",
    "vardas=\"Ernesta\"\n",
    "pavarde='Tumavice'\n",
    "\n",
    "print(vardas,pavarde)\n",
    "print(f\"Mano vardas yra {vardas}, o pavarde {pavarde}\")"
   ]
  },
  {
   "cell_type": "code",
   "execution_count": 21,
   "metadata": {},
   "outputs": [
    {
     "name": "stdout",
     "output_type": "stream",
     "text": [
      "Python makes me really really happy!\n",
      "PYTHON MAKES ME REALLY REALLY HAPPY!\n",
      "PyThOn makes me really really happy!\n",
      "PyThOn makes me really really happy!\n"
     ]
    }
   ],
   "source": [
    "# Iš stringo ‘Python makes me really really happy!’\n",
    "# Į ekraną išveskite string’ą tik didžiosiomis raidėmis\n",
    "# Pakeiskite žodį Python į PyThOn naudodami replace()\n",
    "\n",
    "x= 'Python makes me really really happy!'\n",
    "print(x)\n",
    "print(x.upper())\n",
    "print(x.replace('Python', 'PyThOn'))\n",
    "print(x.replace('t', 'T').replace('o', 'O')) # visas t ir o pakeiciam visam tekste\n"
   ]
  },
  {
   "cell_type": "code",
   "execution_count": 22,
   "metadata": {},
   "outputs": [
    {
     "name": "stdout",
     "output_type": "stream",
     "text": [
      "Hello World, I am happy to learn Python!\n",
      "18\n",
      "happy\n",
      "to\n",
      "40\n",
      "5\n"
     ]
    }
   ],
   "source": [
    "# Iš stringo ‘Hello World, I am happy to learn Python!’\n",
    "# Atspausdinkite ‘happy’ naudodami slice sintaksę\n",
    "#      str[0:10]\n",
    "#     .index(‘happy’)\n",
    "#     len(‘happy’)\n",
    "\n",
    "# Atspausdinkite ‘to’ naudodami slice sintaksę\n",
    "# Koks šio stringo ilgis?\n",
    "\n",
    "text = \"Hello World, I am happy to learn Python!\"\n",
    "print(text)\n",
    "print(text.index('happy')) #sita f-ja naudoti, nes gali prisitaikyti prie teksto ir automatiskai syranda ta zodi\n",
    "#print(text [18:23]) - netinka\n",
    "print(text[text.index(\"happy\"):text.index(\"happy\") + len(\"happy\")])\n",
    "#print(text.index('to'))\n",
    "print(text [text.index('to'):text.index('to') + len(\"to\")])\n",
    "print(len(text))\n",
    "print(len('happy'))\n",
    "\n",
    "# print(text[ text.index( word_to_find ) : text.index( word_to_find ) + len(word_to_find)])"
   ]
  },
  {
   "cell_type": "code",
   "execution_count": 64,
   "metadata": {},
   "outputs": [
    {
     "name": "stdout",
     "output_type": "stream",
     "text": [
      "27\n",
      "19\n",
      "92\n",
      "dalybos liekana: 3\n",
      "sveikoji dalis dalybos: 5\n",
      "5.75\n"
     ]
    }
   ],
   "source": [
    "# Deklaruokite du int tipo kintamuosius\n",
    "# Apskaičiuokite dviejų int sumą, skirtumą, sandaugą, liekaną, \n",
    "# padalinkite vieną skaičių iš kito\n",
    "\n",
    "n_1= 23\n",
    "n_2=4\n",
    "\n",
    "print(n_1+n_2)\n",
    "print(n_1-n_2)\n",
    "print(n_1*n_2)\n",
    "print('dalybos liekana:', n_1%n_2)\n",
    "print('sveikoji dalis dalybos:', n_1//n_2)\n",
    "print(n_1/n_2)"
   ]
  },
  {
   "cell_type": "code",
   "execution_count": 65,
   "metadata": {},
   "outputs": [
    {
     "name": "stdout",
     "output_type": "stream",
     "text": [
      "9.95\n",
      "-0.75\n",
      "24.609999999999996\n",
      "dalybos liekana 4.6\n",
      "sveikoji dalis dalyboje 0.0\n",
      "0.8598130841121495\n"
     ]
    }
   ],
   "source": [
    "# Deklaruokite du float tipo kintamuosius\n",
    "# Apskaičiuokite dviejų float sumą, skirtumą, sandaugą,\n",
    "#  liekaną, padalinkite vieną skaičiu iš kito\n",
    "\n",
    "N1= 4.6\n",
    "N2= 5.35\n",
    "print(N1+N2)\n",
    "print(N1-N2)\n",
    "print(N1*N2)\n",
    "print(\"dalybos liekana\", N1%N2)\n",
    "print(\"sveikoji dalis dalyboje\", N1//N2)\n",
    "print(N1/N2)\n"
   ]
  },
  {
   "cell_type": "markdown",
   "metadata": {},
   "source": []
  },
  {
   "cell_type": "code",
   "execution_count": 66,
   "metadata": {},
   "outputs": [
    {
     "name": "stdout",
     "output_type": "stream",
     "text": [
      "Atstumas iki saules yra 390.625 kartu didesnis nei iki menulio\n"
     ]
    }
   ],
   "source": [
    "#Atstumas iki Mėnulio yra apie 384,000 km, o iki \n",
    "# Saulės 150,000,000, \n",
    "# kiek kartų atstumas iki Saulės yra didesnis nei iki Mėnulio?\n",
    "\n",
    "dist_moon = 384000 #km\n",
    "dist_sun = 150000000#km\n",
    "print(f'Atstumas iki saules yra {dist_sun/dist_moon} kartu didesnis nei iki menulio')"
   ]
  },
  {
   "cell_type": "code",
   "execution_count": 67,
   "metadata": {},
   "outputs": [
    {
     "name": "stdout",
     "output_type": "stream",
     "text": [
      "valandu: 2560.0\n",
      "metu: 0.2922374429223744\n",
      "menesiu: 3.506849315068493\n",
      "dienu: 106.66666666666667\n",
      "sekundziu: 9216000.0\n"
     ]
    }
   ],
   "source": [
    "# Jeigu norėtume nuvažiuoti iki mėnulio automobiliu, \n",
    "# kurio greitis 150km/h, kiek  valandų.\n",
    "#  N.d:metų, mėnesių, dienų, sekundžių tai užtruktų?\n",
    "\n",
    "# car_speed = 150 # km/h\n",
    "# print ('valandu:',dist_moon/car_speed)\n",
    "# print ('metu:',(dist_moon/car_speed*(1/(365*24))))\n",
    "# #print ('metu:',(dist_moon/car_speed*0.000114))\n",
    "# #print ('menesiu:',(dist_moon/car_speed*0.001369))\n",
    "# print ('menesiu:',(dist_moon/car_speed*(12/(365*24))))\n",
    "# print ('dienu:',(dist_moon/car_speed)/24)\n",
    "# print ('sekundziu:',(dist_moon/car_speed)*3600)\n",
    "\n",
    "\n",
    "\n",
    "dist_moon = 384000 #km\n",
    "\n",
    "car_speed_h = 150 # km/h\n",
    "car_speed_y= car_speed_h * 24* 365\n",
    "car_speed_m= car_speed_h * 24* 30\n",
    "car_speed_d= car_speed_h * 24\n",
    "car_speed_s= car_speed_h /60/60\n",
    "\n",
    "print ('valandu:',dist_moon/car_speed_h)\n",
    "print(\"metu:\",dist_moon/car_speed_y)\n",
    "print (\"menesiu:\", dist_moon/car_speed_m)\n",
    "print ('sekundziu:',(dist_moon/car_speed_s))\n"
   ]
  },
  {
   "cell_type": "code",
   "execution_count": 3,
   "metadata": {},
   "outputs": [
    {
     "name": "stdout",
     "output_type": "stream",
     "text": [
      "Dienu skaicius nuo gimtadienio yra 10871 dienu.\n",
      "1992-05-19\n",
      "2022-02-22\n",
      "1983-05-25 00:00:00\n",
      "2022-02-22 14:18:26.260607\n",
      "<class 'datetime.timedelta'>\n",
      "Dienu skaicius nuo gimtadienio: 14153\n",
      "Sekundziu skaicius nuo gimtadienio: 1222870706.260607\n"
     ]
    }
   ],
   "source": [
    "# Kiek dienų praėjo nuo jūsų gimimo dienos?\n",
    "\n",
    "from datetime import date # ikelk is datetime bibliotekos tik date dali\n",
    "\n",
    "d0 = date(1992, 5, 19)\n",
    "d1 = date.today()\n",
    "delta = d1 - d0\n",
    "print(f\"Dienu skaicius nuo gimtadienio yra {delta.days} dienu.\") #o kaip jei menesiais?\n",
    "\n",
    "\n",
    "print(d0)\n",
    "print(d1)\n",
    "\n",
    "\n",
    "\n",
    "# import datetime\n",
    "from datetime import date, datetime\n",
    "\n",
    "# birthday = date(1983, 5, 25)\n",
    "birthday = datetime(1983, 5, 25)\n",
    "print (birthday)\n",
    "today = datetime.today()\n",
    "print (today)\n",
    "skirtumas = (today - birthday)\n",
    "print (type(skirtumas))\n",
    "print (f'Dienu skaicius nuo gimtadienio: {skirtumas.days}')\n",
    "print (f'Sekundziu skaicius nuo gimtadienio: {skirtumas.total_seconds()}')\n",
    "\n"
   ]
  },
  {
   "cell_type": "code",
   "execution_count": 69,
   "metadata": {},
   "outputs": [
    {
     "name": "stdout",
     "output_type": "stream",
     "text": [
      "True\n",
      "True\n",
      "True\n",
      "True\n",
      "True\n",
      "True\n"
     ]
    }
   ],
   "source": [
    "#Deklaruokite True reikšmę 5 skirtingais būdais\n",
    "\n",
    "print(\"ba\" in \"bananas\")\n",
    "print(True==1)\n",
    "print(20>10 and 2>=1)\n",
    "print(bool(12))\n",
    "print( not \"s\" in \"Lova\")\n",
    "print(1==1)"
   ]
  },
  {
   "cell_type": "code",
   "execution_count": 70,
   "metadata": {},
   "outputs": [
    {
     "name": "stdout",
     "output_type": "stream",
     "text": [
      "False\n",
      "False\n",
      "False\n",
      "False\n",
      "False\n",
      "False\n"
     ]
    }
   ],
   "source": [
    "#Deklaruokite False reikšmę 5 skirtingais būdais\n",
    "print(\"r\" in \"bananas\")\n",
    "print(False==8)\n",
    "print(20<10 and 2>=1)\n",
    "print(bool())\n",
    "print( \"s\" in \"Lova\" or 2>10)\n",
    "print(not 1==1)"
   ]
  },
  {
   "cell_type": "code",
   "execution_count": 71,
   "metadata": {},
   "outputs": [
    {
     "name": "stdout",
     "output_type": "stream",
     "text": [
      "['mama', 'tetis', 'mociute']\n",
      "3\n",
      "['mama', 'tetis', 'mociute', 'senelis']\n",
      "False\n"
     ]
    }
   ],
   "source": [
    "\n",
    "#Deklaruoti list tipo\u000bduomenį, gauti jo ilgį, \n",
    "# pridėti naują elementą\n",
    "#Patikrinti ar elementas yra jūsų sąraše\n",
    "\n",
    "\n",
    "sarasas=[\"mama\", 'tetis', 'mociute']\n",
    "print(sarasas)\n",
    "print(len(sarasas))\n",
    "sarasas.append('senelis')\n",
    "print(sarasas)\n",
    "print ('sese' in sarasas)\n"
   ]
  },
  {
   "cell_type": "code",
   "execution_count": 72,
   "metadata": {},
   "outputs": [
    {
     "name": "stdout",
     "output_type": "stream",
     "text": [
      "['batas', 'ratas', 'puodukas']\n",
      "['mama', 'tetis', 'mociute', 'senelis', 'batas', 'ratas', 'puodukas']\n",
      "['mama', 'tetis', 'mociute', 'senelis', 'batas', 'ratas']\n",
      "['mama', 'tetis', 'mociute', 'senelis', 'batas', 'ratas']\n",
      "1\n"
     ]
    }
   ],
   "source": [
    "# Sudėti du list’us, išimti paskutinį narį iš sudėto listo, \n",
    "# išrikiuoti list’ą, suskaičiuoti kiek yra kokios nors \n",
    "# reikšmės įvesčių list’e\n",
    "\n",
    "sarasas_2= [\"batas\", \"ratas\", \"puodukas\"]\n",
    "print(sarasas_2)\n",
    "viskas = sarasas+sarasas_2\n",
    "print(viskas)\n",
    "viskas.pop()\n",
    "print(viskas)\n",
    "viskas.sort\n",
    "print(viskas)\n",
    "print(viskas.count(\"batas\"))\n"
   ]
  },
  {
   "cell_type": "code",
   "execution_count": 73,
   "metadata": {},
   "outputs": [
    {
     "name": "stdout",
     "output_type": "stream",
     "text": [
      "(1, 2, ['3', 4, 5], [6, [7, 8]])\n",
      "8\n"
     ]
    }
   ],
   "source": [
    "# Gaukite reikšmę\n",
    "# my_tuple = (1, 2, ['3', 4, 5], [6, [7, (8)]])\n",
    "# Į ekraną išveskite 8\n",
    "\n",
    "my_tuple = (1, 2, ['3', 4, 5], [6, [7, (8)]])\n",
    "print(my_tuple)\n",
    "print(my_tuple [3][1][1])\n",
    "#print(my_tuple[-1][-1][-1] )\n"
   ]
  },
  {
   "cell_type": "code",
   "execution_count": 74,
   "metadata": {},
   "outputs": [
    {
     "name": "stdout",
     "output_type": "stream",
     "text": [
      "(11, [222, 33], 44, 55)\n",
      "(11, [222, 22], 44, 55)\n"
     ]
    }
   ],
   "source": [
    "#Pakeiskite reikšmę\n",
    "# tuple1 = (11, [222, 33], 44, 55)\n",
    "# tuple1 = (11, [222, 22], 44, 55)\n",
    "\n",
    "# 1 budas\n",
    "tuple1 = (11, [222, 33], 44, 55)\n",
    "# tuple_1[1] = [222, 22] # neveiks\n",
    "print(tuple1)\n",
    "tuple1[1][1]=22\n",
    "#tuple_1[1][-1] = 22\n",
    "print(tuple1)"
   ]
  },
  {
   "cell_type": "code",
   "execution_count": 75,
   "metadata": {},
   "outputs": [
    {
     "name": "stdout",
     "output_type": "stream",
     "text": [
      "[11, [222, 33], 44, 55]\n",
      "(11, [222, 22], 44, 55)\n"
     ]
    }
   ],
   "source": [
    "# 2 budas\n",
    "tuple_1 = (11, [222, 33], 44, 55)\n",
    "tmp_list = list(tuple_1)\n",
    "print(tmp_list)\n",
    "tmp_list[1] = [222, 22]\n",
    "tuple_1 = tuple(tmp_list)\n",
    "print (tuple_1)"
   ]
  },
  {
   "cell_type": "code",
   "execution_count": 76,
   "metadata": {},
   "outputs": [
    {
     "name": "stdout",
     "output_type": "stream",
     "text": [
      "(1, 5, [6, 34, 7], 7, 5, [7, [222], 99], 33)\n",
      "[1, 5, [6, 34, 7], 7, 5, [7, [222], 99], 33]\n",
      "[1, 5, [6, 34, 7], 7, 5, [7, [222], 99]]\n",
      "1\n",
      "2\n",
      "(1, 5, [6, 34, 7], 7, 5, [7, [222], 99])\n"
     ]
    }
   ],
   "source": [
    "# Sudėti du tuple, išimti paskutinį narį iš sudėto tuple, \n",
    "# išrikiuoti tuple, suskaičiuoti \n",
    "# kiek yra kokios nors reikšmės įvesčių tuple,\n",
    "#  rasti didžiausią reikšmę \n",
    "\n",
    "\n",
    "tpl = (1,5,[6,34,7],7) + (5,[7,[222],99],33)\n",
    "print(tpl)\n",
    "tmp_list = list(tpl)\n",
    "print(tmp_list)\n",
    "tmp_list.pop()\n",
    "print(tmp_list)\n",
    "#tmp_list.sort()\n",
    "print(tmp_list.count(7))\n",
    "print(tmp_list.count(5))\n",
    "#print(max(tmp_list))\n",
    "tpl_1= tuple(tmp_list) \n",
    "print(tpl_1)\n"
   ]
  },
  {
   "cell_type": "code",
   "execution_count": 4,
   "metadata": {},
   "outputs": [
    {
     "name": "stdout",
     "output_type": "stream",
     "text": [
      "(1, 5, 6, 34, 7, 7, 5, 7, 222, 99, 33)\n",
      "[1, 5, 6, 34, 7, 7, 5, 7, 222, 99, 33]\n",
      "[1, 5, 6, 34, 7, 7, 5, 7, 222, 99]\n",
      "[1, 5, 5, 6, 7, 7, 7, 34, 99, 222]\n",
      "[222, 99, 34, 7, 7, 7, 6, 5, 5, 1]\n",
      "3\n",
      "2\n",
      "222\n",
      "1\n",
      "(222, 99, 34, 7, 7, 7, 6, 5, 5, 1)\n",
      "(1, 5846, 3, 74, 4, 68, 4, 8, 7, 4)\n",
      "(1, 5846, 3, 74, 4, 68, 4, 8, 7)\n",
      "(1, 3, 4, 4, 7, 8, 68, 74, 5846)\n",
      "2\n",
      "5846\n",
      "5846\n"
     ]
    }
   ],
   "source": [
    "# Sudėti du tuple, išimti paskutinį narį iš sudėto tuple, \n",
    "# išrikiuoti tuple, suskaičiuoti \n",
    "# kiek yra kokios nors reikšmės įvesčių tuple,\n",
    "#  rasti didžiausią reikšmę \n",
    "\n",
    "\n",
    "tpl = (1,5,6,34,7,7) + (5,7,222,99,33)\n",
    "print(tpl)\n",
    "tmp_list = list(tpl)\n",
    "print(tmp_list)\n",
    "tmp_list.pop()\n",
    "print(tmp_list)\n",
    "tmp_list.sort()\n",
    "print(tmp_list)\n",
    "tmp_list.sort(reverse=True)\n",
    "print(tmp_list)\n",
    "print(tmp_list.count(7))\n",
    "print(tmp_list.count(5))\n",
    "print(max(tmp_list))\n",
    "print(min(tmp_list))\n",
    "tpl_1= tuple(tmp_list) \n",
    "print(tpl_1)\n",
    "\n",
    "\n",
    "\n",
    "\n",
    "\n",
    "my_tuple = (1,5846,3,74) + (4,68,4,8,7,4)\n",
    "print(my_tuple)\n",
    "my_tuple = my_tuple[:-1]\n",
    "print(my_tuple)\n",
    "my_tuple = tuple( sorted( my_tuple ) )\n",
    "print(my_tuple)\n",
    "print(my_tuple.count(4))\n",
    "print(my_tuple[-1])\n",
    "print( max(my_tuple) )\n"
   ]
  },
  {
   "cell_type": "code",
   "execution_count": 4,
   "metadata": {},
   "outputs": [
    {
     "name": "stdout",
     "output_type": "stream",
     "text": [
      "-1.0999999999999996\n",
      "-1.1\n"
     ]
    }
   ],
   "source": [
    "float_1=2.2\n",
    "float_2=3.3\n",
    "print(float_1-float_2) # tai nera klaida, taip kompiuteriai veikia dvejetaineje sistemoje\n",
    "print(round(float_1-float_2,1))\n"
   ]
  },
  {
   "cell_type": "code",
   "execution_count": 1,
   "metadata": {},
   "outputs": [
    {
     "name": "stdout",
     "output_type": "stream",
     "text": [
      "{1, 2, 3, 4, 5, 6, 7, 8, 9, 15} {3, 8, 9, 11, 15}\n",
      "[8, 9, 3, 15]\n",
      "[8, 9, 3, 15]\n"
     ]
    }
   ],
   "source": [
    "#Rasti pasikartojančius elementus tarp dviejų list.\n",
    "\n",
    "\n",
    "a = [1,2,3,4,5,6,7,8,9,15]\n",
    "b = [3,8,9,11,15]\n",
    "\n",
    "a=set(a)\n",
    "b=set(b)\n",
    "print(a,b)\n",
    "c=a.intersection(b)\n",
    "c=list(c)\n",
    "print(c)\n",
    "\n",
    "#arba\n",
    "\n",
    "print( list(set(a).intersection(b)))\n",
    "\n",
    "#Gauti rezultatą c = [3,8,9,15] nes šie skaičiai pasikartoja abiejuose list."
   ]
  },
  {
   "cell_type": "code",
   "execution_count": 2,
   "metadata": {},
   "outputs": [
    {
     "name": "stdout",
     "output_type": "stream",
     "text": [
      "[800, 1, 2, 900, 5, 8, 10, 12, 14]\n",
      "[800, 1, 2, 900, 5, 8, 10, 12, 14]\n"
     ]
    }
   ],
   "source": [
    "# 2. Išfiltruoti unikalius teigiamus numerius iš sąrašo.\n",
    "\n",
    "x = [1, 5, 1, 2, 8, -9, 10, 1, -8, -900, 14, 5, -8, 2, 1, -20, 900, 800, -6, -8, 12, 1]\n",
    "\n",
    "positive_numbers = []\n",
    "for number in set(x):\n",
    "    if number>0:\n",
    "        positive_numbers.append(number)\n",
    "\n",
    "print(positive_numbers)\n",
    "\n",
    "#arba\n",
    "\n",
    "positive_numbers_2 = [number for number in set(x) if number >0]\n",
    "print(positive_numbers_2)"
   ]
  },
  {
   "cell_type": "code",
   "execution_count": 4,
   "metadata": {},
   "outputs": [
    {
     "name": "stdout",
     "output_type": "stream",
     "text": [
      "The number of letters are 13\n",
      "The number of numbers are 7\n",
      "The number of space are 7\n",
      "The number of characters are 1\n"
     ]
    }
   ],
   "source": [
    "# 3. Parašykite funkciją, kuri priims string tipo kintamąjį, gražinkite kiek tame string'ę yra raidžių, skaičių, skyrybos (specialių) ženklų ir tarpų.\n",
    "# for loop kiekvienam simboliui string'e\n",
    "# ar simbolis yra skaičius/raidė/tarpas/nei tas nei tas +=1\n",
    "# gražinsime f stringą - “raidžiu yra: {raidziu_suma}…”\n",
    "\n",
    "def my_function (text: str):\n",
    "    letter = 0 \n",
    "    digit = 0\n",
    "    space = 0\n",
    "    other = 0\n",
    "    for character in text:\n",
    "        if character.isalpha():\n",
    "            letter += 1\n",
    "        elif character.isdigit():\n",
    "            digit += 1\n",
    "        elif character.isspace():\n",
    "            space += 1\n",
    "        else:\n",
    "            other +=1\n",
    "    print(f\"The number of letters are {letter}\")\n",
    "    print(f\"The number of numbers are {digit}\")\n",
    "    print(f\"The number of space are {space}\")\n",
    "    print(f\"The number of characters are {other}\")\n",
    "\n",
    "my_function(\"jdfchfd  =kmbkgf 53 34 5 6 7\")\n"
   ]
  },
  {
   "cell_type": "code",
   "execution_count": 5,
   "metadata": {},
   "outputs": [
    {
     "name": "stdout",
     "output_type": "stream",
     "text": [
      "Skirtumas tarp didziausio ir maziausio skaiciaus yra 99 \n"
     ]
    }
   ],
   "source": [
    "# 4. Parašyti funkciją, kuri priima vieną list tipo kintamąjį,\n",
    "#  funkcija grąžina skirtumą tarp didžiausio skaičiaus ir mažiausio skaičiaus.\n",
    "\n",
    "def my_function(my_list):\n",
    "    skirtumas = max(my_list) - min(my_list)\n",
    "    print(f'Skirtumas tarp didziausio ir maziausio skaiciaus yra {skirtumas} ')\n",
    "\n",
    "my_function([1,3,4,9, 100])"
   ]
  },
  {
   "cell_type": "code",
   "execution_count": 3,
   "metadata": {},
   "outputs": [
    {
     "name": "stdout",
     "output_type": "stream",
     "text": [
      "Tarp skaiciu 17 ir 18 anomalijos nera\n",
      "Tarp skaiciu 18 ir 19 anomalijos nera\n",
      "Tarp skaiciu 19 ir 20 anomalijos nera\n",
      "Tarp skaiciu 20 ir 21 anomalijos nera\n",
      "Anomalija yra! Skaiciai 21 ir 25 nera einantys vienas po kito! Trukstamas skaicius/skaiciai yra 22, 23, 24\n",
      "Tarp skaiciu 25 ir 26 anomalijos nera\n",
      "Anomalija yra! Skaiciai 26 ir 30 nera einantys vienas po kito! Trukstamas skaicius/skaiciai yra 27, 28, 29\n"
     ]
    }
   ],
   "source": [
    "# 5. Parašykite funkciją, kuri priims listą ir patikrins ar listo narys n+1 yra 1 didesnis nei n, \n",
    "# jeigu visi listo nariai einantys vienas po kito yra didesni per 1, vadinasi anomalijos nėra, \n",
    "# jei nors 1 narys neatitinka sekos, vadinasi yra anomalija.\n",
    "\n",
    "def anomaly(*args):\n",
    "    for i in range(len(args)-1):\n",
    "        if args[i+1] == args[i]+1:\n",
    "            print(f'Tarp skaiciu {args[i]} ir {args[i+1]} anomalijos nera')\n",
    "        else:\n",
    "            missing_numbers = \", \".join(str(e) for e in list(range(args[i]+1,args[i+1])))\n",
    "            print(f'Anomalija yra! Skaiciai {args[i]} ir {args[i+1]} nera einantys vienas po kito! Trukstamas skaicius/skaiciai yra {missing_numbers}')\n",
    "        # print(list(*args)[i])\n",
    "\n",
    "\n",
    "anomaly(17,18,19,20,21, 25,26, 30)"
   ]
  },
  {
   "cell_type": "code",
   "execution_count": 4,
   "metadata": {},
   "outputs": [],
   "source": [
    "#arba\n",
    "\n",
    "def anomaly_2( my_list):\n",
    "    \n",
    "    for left_number, right_number in zip(my_list[:-1], my_list[1:] ):\n",
    "        # print (left_number, right_number)\n",
    "        if left_number + 1 == right_number:\n",
    "            print(f'Tarp skaiciu {left_number} ir {right_number} anomalijos nera')\n",
    "        else:\n",
    "            missing_numbers = \", \".join(str(e) for e in list(range(left_number+1,right_number)))\n",
    "            print(f'Anomalija yra! Skaiciai {left_number} ir {right_number} nera einantys vienas po kito! Trukstamas skaicius/skaiciai yra {missing_numbers}')"
   ]
  },
  {
   "cell_type": "code",
   "execution_count": 5,
   "metadata": {},
   "outputs": [
    {
     "name": "stdout",
     "output_type": "stream",
     "text": [
      "[17, 18, 19, 20, 21, 25, 26]\n",
      "[18, 19, 20, 21, 25, 26, 30]\n",
      "Tarp skaiciu 17 ir 18 anomalijos nera\n",
      "Tarp skaiciu 18 ir 19 anomalijos nera\n",
      "Tarp skaiciu 19 ir 20 anomalijos nera\n",
      "Tarp skaiciu 20 ir 21 anomalijos nera\n",
      "Anomalija yra! Skaiciai 21 ir 25 nera einantys vienas po kito! Trukstamas skaicius/skaiciai yra 22, 23, 24\n",
      "Tarp skaiciu 25 ir 26 anomalijos nera\n",
      "Anomalija yra! Skaiciai 26 ir 30 nera einantys vienas po kito! Trukstamas skaicius/skaiciai yra 27, 28, 29\n"
     ]
    }
   ],
   "source": [
    "my_list = [17,18,19,20,21,25,26,30]\n",
    "print (my_list[:-1])\n",
    "print (my_list[1:])\n",
    "anomaly_2(my_list)"
   ]
  },
  {
   "cell_type": "code",
   "execution_count": null,
   "metadata": {},
   "outputs": [],
   "source": [
    "# 6. Parašykite funkciją, kuri priims list’ą, gaukite didžiausią šalia esančių skaičių sandaugą.\n",
    "\n",
    "my_list = [3, 6, 5, -5, 7, 3]\n",
    "\n",
    "# rezultatas = 21, nes 7 ir 3 sandauga yra didžiausiadef anomaly_2( my_list):\n",
    "def max_neighbors( my_list):\n",
    "    max_value = my_list[0] * my_list[1]\n",
    "    for left_number, right_number in zip(my_list[1:-1], my_list[2:] ):\n",
    "        if left_number * right_number > max_value:\n",
    "            max_value = left_number * right_number\n",
    "    return max_value\n",
    "\n",
    "max_neighbors(my_list)"
   ]
  },
  {
   "cell_type": "code",
   "execution_count": null,
   "metadata": {},
   "outputs": [],
   "source": [
    "#arba\n",
    "\n",
    "def my_fnc(my_list):\n",
    "    max = my_list[0] * my_list[1]\n",
    "    for number in range(1,len(my_list)-1):\n",
    "        multiply = my_list[number] * my_list[number +1]\n",
    "        if max < multiply:\n",
    "            max = multiply\n",
    "    return max\n",
    "\n",
    "my_list = [3, 6, -2, -5, 7, 3]\n",
    "\n",
    "my_fnc(my_list)"
   ]
  },
  {
   "cell_type": "code",
   "execution_count": null,
   "metadata": {},
   "outputs": [],
   "source": [
    "# 1. \n",
    "\n",
    "# Iš pirmų 100 skaičių, jeigu skaičius dalinasi iš 2 be liekanos, \n",
    "# atspausdinkite ‘Fizz’, jeigu skaičius dalinasi iš 3 be liekanos \n",
    "# atspausdinkite ‘Buzz’, \n",
    "# jei skaičius dalinasi iš 2 ir 3 be liekanos, atspausdinkite ‘FizzBuzz’\n",
    "\n",
    "\n",
    "\n",
    "for number in range(1,101):\n",
    "    if number %6 == 0:\n",
    "        print(number, \"-\", \"FizzBuzz\")\n",
    "    elif number % 2 == 0:\n",
    "        print (number, \"-\", \"Fizz\")\n",
    "    elif number % 3==0:\n",
    "        print(number, \"-\", \"Buzz\")\n",
    "\n",
    "\n",
    "\n"
   ]
  },
  {
   "cell_type": "code",
   "execution_count": 1,
   "metadata": {},
   "outputs": [
    {
     "name": "stdout",
     "output_type": "stream",
     "text": [
      "1 \n",
      "2 Fizz\n",
      "3 Buzz\n",
      "4 Fizz\n",
      "5 \n",
      "6 FizzBuzz\n",
      "7 \n",
      "8 Fizz\n",
      "9 Buzz\n",
      "10 Fizz\n",
      "11 \n",
      "12 FizzBuzz\n",
      "13 \n",
      "14 Fizz\n",
      "15 Buzz\n",
      "16 Fizz\n",
      "17 \n",
      "18 FizzBuzz\n",
      "19 \n",
      "20 Fizz\n",
      "21 Buzz\n",
      "22 Fizz\n",
      "23 \n",
      "24 FizzBuzz\n",
      "25 \n",
      "26 Fizz\n",
      "27 Buzz\n",
      "28 Fizz\n",
      "29 \n",
      "30 FizzBuzz\n",
      "31 \n",
      "32 Fizz\n",
      "33 Buzz\n",
      "34 Fizz\n",
      "35 \n",
      "36 FizzBuzz\n",
      "37 \n",
      "38 Fizz\n",
      "39 Buzz\n",
      "40 Fizz\n",
      "41 \n",
      "42 FizzBuzz\n",
      "43 \n",
      "44 Fizz\n",
      "45 Buzz\n",
      "46 Fizz\n",
      "47 \n",
      "48 FizzBuzz\n",
      "49 \n",
      "50 Fizz\n",
      "51 Buzz\n",
      "52 Fizz\n",
      "53 \n",
      "54 FizzBuzz\n",
      "55 \n",
      "56 Fizz\n",
      "57 Buzz\n",
      "58 Fizz\n",
      "59 \n",
      "60 FizzBuzz\n",
      "61 \n",
      "62 Fizz\n",
      "63 Buzz\n",
      "64 Fizz\n",
      "65 \n",
      "66 FizzBuzz\n",
      "67 \n",
      "68 Fizz\n",
      "69 Buzz\n",
      "70 Fizz\n",
      "71 \n",
      "72 FizzBuzz\n",
      "73 \n",
      "74 Fizz\n",
      "75 Buzz\n",
      "76 Fizz\n",
      "77 \n",
      "78 FizzBuzz\n",
      "79 \n",
      "80 Fizz\n",
      "81 Buzz\n",
      "82 Fizz\n",
      "83 \n",
      "84 FizzBuzz\n",
      "85 \n",
      "86 Fizz\n",
      "87 Buzz\n",
      "88 Fizz\n",
      "89 \n",
      "90 FizzBuzz\n",
      "91 \n",
      "92 Fizz\n",
      "93 Buzz\n",
      "94 Fizz\n",
      "95 \n",
      "96 FizzBuzz\n",
      "97 \n",
      "98 Fizz\n",
      "99 Buzz\n",
      "100 Fizz\n"
     ]
    }
   ],
   "source": [
    "#arba\n",
    "for number in range(1,101): # du if, kad jei atitinka abi salygas paraso FizzBuzz\n",
    "    result_text = ''\n",
    "    if number % 2 == 0:\n",
    "        result_text += \"Fizz\"\n",
    "    if number % 3==0:\n",
    "        result_text += \"Buzz\"\n",
    "    print(number, result_text)"
   ]
  },
  {
   "cell_type": "code",
   "execution_count": null,
   "metadata": {},
   "outputs": [],
   "source": [
    "# Leiskite pasirinkti skaičių, jeigu įvestas skaičius yra \n",
    "# daugiau arba lygus 10, atspausdinkite visus skaičius \n",
    "# kurie dalinasi iš 5 su liekana\n",
    "\n",
    "input_number = int(input(\"Iveskite skaiciu:\")) #papildyti\n",
    "\n",
    "print (f'Ivestas skaicius {input_number}')\n",
    "numbers = list(range(1,input_number+1) )\n",
    "if input_number >= 10:\n",
    "    liekana = []\n",
    "    for number in numbers:\n",
    "        if number % 5 != 0:\n",
    "            liekana.append(number)\n",
    "    print(liekana)\n",
    "else:\n",
    "    print(\"Skaicius mazesnis arba lygus 10\")\n",
    "\n",
    "\n"
   ]
  },
  {
   "cell_type": "code",
   "execution_count": null,
   "metadata": {},
   "outputs": [],
   "source": [
    "# Koks yra sąrašo ilgis sudaryto iš pateiktų sąrašų kombinacijų, \n",
    "# jeigu norime rasti visas įmanomas reikšmes? \n",
    "# Išrikiuokite sąrašą nuo didžiausios iki mažiausios reikšmės\n",
    "\n",
    "#manau ne taip reikejo padaryti, bet kitaip neisgalvojau  :)\n",
    "\n",
    "a = ['1','2','3','4','5']\n",
    "b = ['labas', 'vakaras', 'kokia grazi diena', 'siandien uz lango', '10 laipsniu silumos']\n",
    "c = ['100', '200', 40, 10]\n",
    "\n",
    "\n",
    "# kombinacijos = []\n",
    "# for x in a:\n",
    "#     for y in b:\n",
    "#         for z in c:\n",
    "#             kombinacijos.append( (x,y,z) )\n",
    "# print (kombinacijos)\n",
    "kombinacijos = [ (x,y, int(z) ) for x in a for y in b for z in c ]\n",
    "\n",
    "print (sorted(kombinacijos, key=lambda x: x[2], reverse=True ) )\n",
    "print ('\\n\\n')\n",
    "print (sorted(kombinacijos, key=lambda x: x[0], reverse=True ) )\n",
    "# print (kombinacijos)\n",
    "\n",
    "\n"
   ]
  },
  {
   "cell_type": "code",
   "execution_count": null,
   "metadata": {},
   "outputs": [],
   "source": [
    "#arba\n",
    "\n",
    "kombinacijos = [ (x,y, int(z) ) for x in a for y in b for z in c ]\n",
    "\n",
    "from operator import itemgetter\n",
    "sorted_kombinacijos = sorted(kombinacijos, key= itemgetter(0), reverse= True)\n",
    "\n",
    "print(sorted_kombinacijos)"
   ]
  },
  {
   "cell_type": "code",
   "execution_count": null,
   "metadata": {},
   "outputs": [],
   "source": [
    "# 4. Paskaičiuoti pelną pardavus visas prekes. Informacija apie kainą ir \n",
    "# kiekius yra pateikiama  kaip dictionary, atsakymą suapvalinti iki 2 skaičių po kablelio.\n",
    "\n",
    "\n",
    "x = { \"cost_price\": 32.67,\n",
    "         \"sell_price\": 45.00,\n",
    "         \"inventory\": 1212 \n",
    "}\n",
    "\n",
    "pelnas = (x['sell_price'] - x['cost_price']) * x['inventory']\n",
    "\n",
    "print( f'pelnas: {round(pelnas, 2)}')\n",
    "print( f'pelnas: {pelnas:.2f}')\n"
   ]
  },
  {
   "cell_type": "code",
   "execution_count": 11,
   "metadata": {},
   "outputs": [
    {
     "name": "stdout",
     "output_type": "stream",
     "text": [
      "pries sudeti number 1\n",
      "pries sudeti 0\n",
      "po sudeti 1\n",
      "pries sudeti number 2\n",
      "pries sudeti 1\n",
      "po sudeti 3\n",
      "pries sudeti number 3\n",
      "pries sudeti 3\n",
      "po sudeti 6\n",
      "pries sudeti number 4\n",
      "pries sudeti 6\n",
      "po sudeti 10\n",
      "pries sudeti number 5\n",
      "pries sudeti 10\n",
      "po sudeti 15\n",
      "pries sudeti number 6\n",
      "pries sudeti 15\n",
      "po sudeti 21\n",
      "pries sudeti number 7\n",
      "pries sudeti 21\n",
      "po sudeti 28\n",
      "pries sudeti number 8\n",
      "pries sudeti 28\n",
      "po sudeti 36\n",
      "pries sudeti number 9\n",
      "pries sudeti 36\n",
      "po sudeti 45\n",
      "pries sudeti number 10\n",
      "pries sudeti 45\n",
      "po sudeti 55\n",
      "pries sudeti number 11\n",
      "pries sudeti 55\n",
      "po sudeti 66\n",
      "pries sudeti number 12\n",
      "pries sudeti 66\n",
      "po sudeti 78\n",
      "pries sudeti number 13\n",
      "pries sudeti 78\n",
      "po sudeti 91\n",
      "pries sudeti number 14\n",
      "pries sudeti 91\n",
      "po sudeti 105\n",
      "pries sudeti number 15\n",
      "pries sudeti 105\n",
      "po sudeti 120\n",
      "pries sudeti number 16\n",
      "pries sudeti 120\n",
      "po sudeti 136\n",
      "pries sudeti number 17\n",
      "pries sudeti 136\n",
      "po sudeti 153\n",
      "pries sudeti number 18\n",
      "pries sudeti 153\n",
      "po sudeti 171\n",
      "pries sudeti number 19\n",
      "pries sudeti 171\n",
      "po sudeti 190\n",
      "pries sudeti number 20\n",
      "pries sudeti 190\n",
      "po sudeti 210\n",
      "pries sudeti number 21\n",
      "pries sudeti 210\n",
      "po sudeti 231\n",
      "pries sudeti number 22\n",
      "pries sudeti 231\n",
      "po sudeti 253\n",
      "pries sudeti number 23\n",
      "pries sudeti 253\n",
      "po sudeti 276\n",
      "pries sudeti number 24\n",
      "pries sudeti 276\n",
      "po sudeti 300\n",
      "pries sudeti number 25\n",
      "pries sudeti 300\n",
      "po sudeti 325\n",
      "pries sudeti number 26\n",
      "pries sudeti 325\n",
      "po sudeti 351\n",
      "pries sudeti number 27\n",
      "pries sudeti 351\n",
      "po sudeti 378\n",
      "pries sudeti number 28\n",
      "pries sudeti 378\n",
      "po sudeti 406\n",
      "pries sudeti number 29\n",
      "pries sudeti 406\n",
      "po sudeti 435\n",
      "pries sudeti number 30\n",
      "pries sudeti 435\n",
      "po sudeti 465\n",
      "pries sudeti number 31\n",
      "pries sudeti 465\n",
      "po sudeti 496\n",
      "pries sudeti number 32\n",
      "pries sudeti 496\n",
      "po sudeti 528\n",
      "pries sudeti number 33\n",
      "pries sudeti 528\n",
      "po sudeti 561\n",
      "pries sudeti number 34\n",
      "pries sudeti 561\n",
      "po sudeti 595\n",
      "pries sudeti number 35\n",
      "pries sudeti 595\n",
      "po sudeti 630\n",
      "pries sudeti number 36\n",
      "pries sudeti 630\n",
      "po sudeti 666\n",
      "pries sudeti number 37\n",
      "pries sudeti 666\n",
      "po sudeti 703\n",
      "pries sudeti number 38\n",
      "pries sudeti 703\n",
      "po sudeti 741\n",
      "pries sudeti number 39\n",
      "pries sudeti 741\n",
      "po sudeti 780\n",
      "pries sudeti number 40\n",
      "pries sudeti 780\n",
      "po sudeti 820\n",
      "pries sudeti number 41\n",
      "pries sudeti 820\n",
      "po sudeti 861\n",
      "pries sudeti number 42\n",
      "pries sudeti 861\n",
      "po sudeti 903\n",
      "pries sudeti number 43\n",
      "pries sudeti 903\n",
      "po sudeti 946\n",
      "pries sudeti number 44\n",
      "pries sudeti 946\n",
      "po sudeti 990\n",
      "pries sudeti number 45\n",
      "pries sudeti 990\n",
      "po sudeti 1035\n",
      "pries sudeti number 46\n",
      "pries sudeti 1035\n",
      "po sudeti 1081\n",
      "pries sudeti number 47\n",
      "pries sudeti 1081\n",
      "po sudeti 1128\n",
      "pries sudeti number 48\n",
      "pries sudeti 1128\n",
      "po sudeti 1176\n",
      "pries sudeti number 49\n",
      "pries sudeti 1176\n",
      "po sudeti 1225\n",
      "pries sudeti number 50\n",
      "pries sudeti 1225\n",
      "po sudeti 1275\n",
      "1275\n",
      "pries sudeti 1\n",
      "po sudeti 2\n",
      "pries sudeti 2\n",
      "po sudeti 4\n",
      "pries sudeti 3\n",
      "po sudeti 6\n",
      "pries sudeti 4\n",
      "po sudeti 8\n",
      "pries sudeti 5\n",
      "po sudeti 10\n",
      "pries sudeti 6\n",
      "po sudeti 12\n",
      "pries sudeti 7\n",
      "po sudeti 14\n",
      "pries sudeti 8\n",
      "po sudeti 16\n",
      "pries sudeti 9\n",
      "po sudeti 18\n",
      "pries sudeti 10\n",
      "po sudeti 20\n",
      "pries sudeti 11\n",
      "po sudeti 22\n",
      "pries sudeti 12\n",
      "po sudeti 24\n",
      "pries sudeti 13\n",
      "po sudeti 26\n",
      "pries sudeti 14\n",
      "po sudeti 28\n",
      "pries sudeti 15\n",
      "po sudeti 30\n",
      "pries sudeti 16\n",
      "po sudeti 32\n",
      "pries sudeti 17\n",
      "po sudeti 34\n",
      "pries sudeti 18\n",
      "po sudeti 36\n",
      "pries sudeti 19\n",
      "po sudeti 38\n",
      "pries sudeti 20\n",
      "po sudeti 40\n",
      "pries sudeti 21\n",
      "po sudeti 42\n",
      "pries sudeti 22\n",
      "po sudeti 44\n",
      "pries sudeti 23\n",
      "po sudeti 46\n",
      "pries sudeti 24\n",
      "po sudeti 48\n",
      "pries sudeti 25\n",
      "po sudeti 50\n",
      "pries sudeti 26\n",
      "po sudeti 52\n",
      "pries sudeti 27\n",
      "po sudeti 54\n",
      "pries sudeti 28\n",
      "po sudeti 56\n",
      "pries sudeti 29\n",
      "po sudeti 58\n",
      "pries sudeti 30\n",
      "po sudeti 60\n",
      "pries sudeti 31\n",
      "po sudeti 62\n",
      "pries sudeti 32\n",
      "po sudeti 64\n",
      "pries sudeti 33\n",
      "po sudeti 66\n",
      "pries sudeti 34\n",
      "po sudeti 68\n",
      "pries sudeti 35\n",
      "po sudeti 70\n",
      "pries sudeti 36\n",
      "po sudeti 72\n",
      "pries sudeti 37\n",
      "po sudeti 74\n",
      "pries sudeti 38\n",
      "po sudeti 76\n",
      "pries sudeti 39\n",
      "po sudeti 78\n",
      "pries sudeti 40\n",
      "po sudeti 80\n",
      "pries sudeti 41\n",
      "po sudeti 82\n",
      "pries sudeti 42\n",
      "po sudeti 84\n",
      "pries sudeti 43\n",
      "po sudeti 86\n",
      "pries sudeti 44\n",
      "po sudeti 88\n",
      "pries sudeti 45\n",
      "po sudeti 90\n",
      "pries sudeti 46\n",
      "po sudeti 92\n",
      "pries sudeti 47\n",
      "po sudeti 94\n",
      "pries sudeti 48\n",
      "po sudeti 96\n",
      "pries sudeti 49\n",
      "po sudeti 98\n",
      "pries sudeti 50\n",
      "po sudeti 100\n",
      "100\n"
     ]
    }
   ],
   "source": [
    "#Gaukite sumą pirmų 50 skaičių imtinai\n",
    "\n",
    "suma=0 #teisingai - paskaitoj sprendem\n",
    "\n",
    "for number in range (1,51):\n",
    "    print ('pries sudeti number', number)\n",
    "    print ('pries sudeti', suma)\n",
    "    suma+=number\n",
    "    print ('po sudeti', suma)\n",
    "print(suma)\n",
    "\n",
    "\n",
    "for number in range (1,51): #? - o ka nurodo tas 100?\n",
    "    print ('pries sudeti', number)\n",
    "    number+=number\n",
    "    print ('po sudeti', number)\n",
    "print(number)\n",
    "\n"
   ]
  },
  {
   "cell_type": "code",
   "execution_count": null,
   "metadata": {},
   "outputs": [],
   "source": []
  }
 ],
 "metadata": {
  "interpreter": {
   "hash": "6b66f59a3f4bed3d737f557ac50d309cac13919fa3d2e68321e2748bd52e6d7e"
  },
  "kernelspec": {
   "display_name": "Python 3.10.2 64-bit",
   "language": "python",
   "name": "python3"
  },
  "language_info": {
   "codemirror_mode": {
    "name": "ipython",
    "version": 3
   },
   "file_extension": ".py",
   "mimetype": "text/x-python",
   "name": "python",
   "nbconvert_exporter": "python",
   "pygments_lexer": "ipython3",
   "version": "3.10.2"
  },
  "orig_nbformat": 4
 },
 "nbformat": 4,
 "nbformat_minor": 2
}
