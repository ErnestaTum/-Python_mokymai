{
 "cells": [
  {
   "cell_type": "code",
   "execution_count": 1,
   "metadata": {},
   "outputs": [
    {
     "name": "stdout",
     "output_type": "stream",
     "text": [
      "Ernesta Tumavice\n"
     ]
    }
   ],
   "source": [
    "# Atspausdinkite savo vardą ir pavardę viena print() funkcija\n",
    "# Panaudokite du kintamuosius\n",
    "# Panaudokite viengubas ir dvigubas kabutes\n",
    "\n",
    "vardas=\"Ernesta\"\n",
    "pavarde='Tumavice'\n",
    "\n",
    "print(vardas,pavarde)"
   ]
  },
  {
   "cell_type": "code",
   "execution_count": 6,
   "metadata": {},
   "outputs": [
    {
     "name": "stdout",
     "output_type": "stream",
     "text": [
      "Python makes me really really happy!\n",
      "PYTHON MAKES ME REALLY REALLY HAPPY!\n",
      "PyThOn makes me really really happy!\n",
      "Python makes me really really happy!\n"
     ]
    }
   ],
   "source": [
    "# Iš stringo ‘Python makes me really really happy!’\n",
    "# Į ekraną išveskite string’ą tik didžiosiomis raidėmis\n",
    "# Pakeiskite žodį Python į PyThOn naudodami replace()\n",
    "\n",
    "x= 'Python makes me really really happy!'\n",
    "print(x)\n",
    "print(x.upper())\n",
    "print(x.replace('Python', 'PyThOn'))"
   ]
  },
  {
   "cell_type": "code",
   "execution_count": 19,
   "metadata": {},
   "outputs": [
    {
     "name": "stdout",
     "output_type": "stream",
     "text": [
      "Hello World, I am happy to learn Python!\n",
      "happy\n",
      "18\n",
      "24\n",
      "to\n",
      "40\n",
      "5\n"
     ]
    }
   ],
   "source": [
    "# Iš stringo ‘Hello World, I am happy to learn Python!’\n",
    "# Atspausdinkite ‘happy’ naudodami slice sintaksę\n",
    "#      str[0:10]\n",
    "#     .index(‘happy’)\n",
    "#     len(‘happy’)\n",
    "\n",
    "# Atspausdinkite ‘to’ naudodami slice sintaksę\n",
    "# Koks šio stringo ilgis?\n",
    "\n",
    "text = \"Hello World, I am happy to learn Python!\"\n",
    "print(text)\n",
    "print(text [18:23])\n",
    "print(text.index('happy'))\n",
    "print(text.index('to'))\n",
    "print(text [24:26])\n",
    "print(len(text))\n",
    "print(len('happy'))"
   ]
  },
  {
   "cell_type": "code",
   "execution_count": 23,
   "metadata": {},
   "outputs": [
    {
     "name": "stdout",
     "output_type": "stream",
     "text": [
      "27\n",
      "19\n",
      "92\n",
      "3\n",
      "5\n",
      "5.75\n"
     ]
    }
   ],
   "source": [
    "# Deklaruokite du int tipo kintamuosius\n",
    "# Apskaičiuokite dviejų int sumą, skirtumą, sandaugą, liekaną, \n",
    "# padalinkite vieną skaičių iš kito\n",
    "\n",
    "n_1= 23\n",
    "n_2=4\n",
    "\n",
    "print(n_1+n_2)\n",
    "print(n_1-n_2)\n",
    "print(n_1*n_2)\n",
    "print(n_1%n_2)\n",
    "print(n_1//n_2)\n",
    "print(n_1/n_2)"
   ]
  },
  {
   "cell_type": "code",
   "execution_count": null,
   "metadata": {},
   "outputs": [],
   "source": [
    "# Deklaruokite du float tipo kintamuosius\n",
    "# Apskaičiuokite dviejų float sumą, skirtumą, sandaugą,\n",
    "#  liekaną, padalinkite vieną skaičiu iš kito\n",
    "\n",
    "\n"
   ]
  },
  {
   "cell_type": "markdown",
   "metadata": {},
   "source": []
  },
  {
   "cell_type": "code",
   "execution_count": null,
   "metadata": {},
   "outputs": [],
   "source": []
  }
 ],
 "metadata": {
  "interpreter": {
   "hash": "6b66f59a3f4bed3d737f557ac50d309cac13919fa3d2e68321e2748bd52e6d7e"
  },
  "kernelspec": {
   "display_name": "Python 3.10.2 64-bit",
   "language": "python",
   "name": "python3"
  },
  "language_info": {
   "codemirror_mode": {
    "name": "ipython",
    "version": 3
   },
   "file_extension": ".py",
   "mimetype": "text/x-python",
   "name": "python",
   "nbconvert_exporter": "python",
   "pygments_lexer": "ipython3",
   "version": "3.10.2"
  },
  "orig_nbformat": 4
 },
 "nbformat": 4,
 "nbformat_minor": 2
}
