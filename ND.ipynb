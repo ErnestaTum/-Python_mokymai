{
 "cells": [
  {
   "cell_type": "code",
   "execution_count": 1,
   "metadata": {},
   "outputs": [
    {
     "name": "stdout",
     "output_type": "stream",
     "text": [
      "Ernesta Tumavice\n"
     ]
    }
   ],
   "source": [
    "# Atspausdinkite savo vardą ir pavardę viena print() funkcija\n",
    "# Panaudokite du kintamuosius\n",
    "# Panaudokite viengubas ir dvigubas kabutes\n",
    "\n",
    "vardas=\"Ernesta\"\n",
    "pavarde='Tumavice'\n",
    "\n",
    "print(vardas,pavarde)"
   ]
  },
  {
   "cell_type": "code",
   "execution_count": 6,
   "metadata": {},
   "outputs": [
    {
     "name": "stdout",
     "output_type": "stream",
     "text": [
      "Python makes me really really happy!\n",
      "PYTHON MAKES ME REALLY REALLY HAPPY!\n",
      "PyThOn makes me really really happy!\n",
      "Python makes me really really happy!\n"
     ]
    }
   ],
   "source": [
    "# Iš stringo ‘Python makes me really really happy!’\n",
    "# Į ekraną išveskite string’ą tik didžiosiomis raidėmis\n",
    "# Pakeiskite žodį Python į PyThOn naudodami replace()\n",
    "\n",
    "x= 'Python makes me really really happy!'\n",
    "print(x)\n",
    "print(x.upper())\n",
    "print(x.replace('Python', 'PyThOn'))"
   ]
  },
  {
   "cell_type": "code",
   "execution_count": 19,
   "metadata": {},
   "outputs": [
    {
     "name": "stdout",
     "output_type": "stream",
     "text": [
      "Hello World, I am happy to learn Python!\n",
      "happy\n",
      "18\n",
      "24\n",
      "to\n",
      "40\n",
      "5\n"
     ]
    }
   ],
   "source": [
    "# Iš stringo ‘Hello World, I am happy to learn Python!’\n",
    "# Atspausdinkite ‘happy’ naudodami slice sintaksę\n",
    "#      str[0:10]\n",
    "#     .index(‘happy’)\n",
    "#     len(‘happy’)\n",
    "\n",
    "# Atspausdinkite ‘to’ naudodami slice sintaksę\n",
    "# Koks šio stringo ilgis?\n",
    "\n",
    "text = \"Hello World, I am happy to learn Python!\"\n",
    "print(text)\n",
    "print(text [18:23])\n",
    "print(text.index('happy'))\n",
    "print(text.index('to'))\n",
    "print(text [24:26])\n",
    "print(len(text))\n",
    "print(len('happy'))"
   ]
  },
  {
   "cell_type": "code",
   "execution_count": 1,
   "metadata": {},
   "outputs": [
    {
     "name": "stdout",
     "output_type": "stream",
     "text": [
      "27\n",
      "19\n",
      "92\n",
      "dalybos liekana: 3\n",
      "sveikoji dalis dalybos: 5\n",
      "5.75\n"
     ]
    }
   ],
   "source": [
    "# Deklaruokite du int tipo kintamuosius\n",
    "# Apskaičiuokite dviejų int sumą, skirtumą, sandaugą, liekaną, \n",
    "# padalinkite vieną skaičių iš kito\n",
    "\n",
    "n_1= 23\n",
    "n_2=4\n",
    "\n",
    "print(n_1+n_2)\n",
    "print(n_1-n_2)\n",
    "print(n_1*n_2)\n",
    "print('dalybos liekana:', n_1%n_2)\n",
    "print('sveikoji dalis dalybos:', n_1//n_2)\n",
    "print(n_1/n_2)"
   ]
  },
  {
   "cell_type": "code",
   "execution_count": 2,
   "metadata": {},
   "outputs": [
    {
     "name": "stdout",
     "output_type": "stream",
     "text": [
      "9.95\n",
      "-0.75\n",
      "24.609999999999996\n",
      "dalybos liekana 4.6\n",
      "sveikoji dalis dalyboje 0.0\n",
      "0.8598130841121495\n"
     ]
    }
   ],
   "source": [
    "# Deklaruokite du float tipo kintamuosius\n",
    "# Apskaičiuokite dviejų float sumą, skirtumą, sandaugą,\n",
    "#  liekaną, padalinkite vieną skaičiu iš kito\n",
    "\n",
    "N1= 4.6\n",
    "N2= 5.35\n",
    "print(N1+N2)\n",
    "print(N1-N2)\n",
    "print(N1*N2)\n",
    "print(\"dalybos liekana\", N1%N2)\n",
    "print(\"sveikoji dalis dalyboje\", N1//N2)\n",
    "print(N1/N2)\n"
   ]
  },
  {
   "cell_type": "markdown",
   "metadata": {},
   "source": []
  },
  {
   "cell_type": "code",
   "execution_count": 3,
   "metadata": {},
   "outputs": [
    {
     "name": "stdout",
     "output_type": "stream",
     "text": [
      "Atstumas iki saules yra 390.625 kartu didesnis nei iki menulio\n"
     ]
    }
   ],
   "source": [
    "#Atstumas iki Mėnulio yra apie 384,000 km, o iki \n",
    "# Saulės 150,000,000, \n",
    "# kiek kartų atstumas iki Saulės yra didesnis nei iki Mėnulio?\n",
    "\n",
    "dist_moon = 384000 #km\n",
    "dist_sun = 150000000#km\n",
    "print(f'Atstumas iki saules yra {dist_sun/dist_moon} kartu didesnis nei iki menulio')"
   ]
  },
  {
   "cell_type": "code",
   "execution_count": 19,
   "metadata": {},
   "outputs": [
    {
     "name": "stdout",
     "output_type": "stream",
     "text": [
      "valandu: 2560.0\n",
      "metu: 0.2922374429223744\n",
      "menesiu: 3.506849315068493\n",
      "dienu: 106.66666666666667\n",
      "sekundziu: 9216000.0\n"
     ]
    }
   ],
   "source": [
    "# Jeigu norėtume nuvažiuoti iki mėnulio automobiliu, \n",
    "# kurio greitis 150km/h, kiek  valandų.\n",
    "#  N.d:metų, mėnesių, dienų, sekundžių tai užtruktų?\n",
    "\n",
    "car_speed = 150 # km/h\n",
    "print ('valandu:',dist_moon/car_speed)\n",
    "print ('metu:',(dist_moon/car_speed*(1/(365*24))))\n",
    "#print ('metu:',(dist_moon/car_speed*0.000114))\n",
    "#print ('menesiu:',(dist_moon/car_speed*0.001369))\n",
    "print ('menesiu:',(dist_moon/car_speed*(12/(365*24))))\n",
    "print ('dienu:',(dist_moon/car_speed)/24)\n",
    "print ('sekundziu:',(dist_moon/car_speed)*3600)\n"
   ]
  },
  {
   "cell_type": "code",
   "execution_count": 24,
   "metadata": {},
   "outputs": [
    {
     "name": "stdout",
     "output_type": "stream",
     "text": [
      "275\n"
     ]
    }
   ],
   "source": [
    "# Kiek dienų praėjo nuo jūsų gimimo dienos?\n",
    "\n",
    "from datetime import date\n",
    "\n",
    "d0 = date(2021, 5, 19)\n",
    "d1 = date(2022, 2, 18)\n",
    "delta = d1 - d0\n",
    "print(delta.days)\n",
    "\n"
   ]
  },
  {
   "cell_type": "code",
   "execution_count": 31,
   "metadata": {},
   "outputs": [
    {
     "name": "stdout",
     "output_type": "stream",
     "text": [
      "True\n",
      "True\n",
      "True\n",
      "True\n",
      "True\n",
      "True\n"
     ]
    }
   ],
   "source": [
    "#Deklaruokite True reikšmę 5 skirtingais būdais\n",
    "\n",
    "print(\"ba\" in \"bananas\")\n",
    "print(True==1)\n",
    "print(20>10 and 2>=1)\n",
    "print(bool(12))\n",
    "print( not \"s\" in \"Lova\")\n",
    "print(1==1)"
   ]
  },
  {
   "cell_type": "code",
   "execution_count": 34,
   "metadata": {},
   "outputs": [
    {
     "name": "stdout",
     "output_type": "stream",
     "text": [
      "False\n",
      "False\n",
      "False\n",
      "False\n",
      "False\n",
      "False\n"
     ]
    }
   ],
   "source": [
    "#Deklaruokite False reikšmę 5 skirtingais būdais\n",
    "print(\"r\" in \"bananas\")\n",
    "print(False==8)\n",
    "print(20<10 and 2>=1)\n",
    "print(bool())\n",
    "print( \"s\" in \"Lova\" or 2>10)\n",
    "print(not 1==1)"
   ]
  },
  {
   "cell_type": "code",
   "execution_count": 35,
   "metadata": {},
   "outputs": [
    {
     "name": "stdout",
     "output_type": "stream",
     "text": [
      "['mama', 'tetis', 'mociute']\n",
      "3\n",
      "['mama', 'tetis', 'mociute', 'senelis']\n",
      "False\n"
     ]
    }
   ],
   "source": [
    "\n",
    "#Deklaruoti list tipo\u000bduomenį, gauti jo ilgį, \n",
    "# pridėti naują elementą\n",
    "#Patikrinti ar elementas yra jūsų sąraše\n",
    "\n",
    "\n",
    "sarasas=[\"mama\", 'tetis', 'mociute']\n",
    "print(sarasas)\n",
    "print(len(sarasas))\n",
    "sarasas.append('senelis')\n",
    "print(sarasas)\n",
    "print ('sese' in sarasas)\n"
   ]
  },
  {
   "cell_type": "code",
   "execution_count": 36,
   "metadata": {},
   "outputs": [
    {
     "name": "stdout",
     "output_type": "stream",
     "text": [
      "['batas', 'ratas', 'puodukas']\n",
      "['mama', 'tetis', 'mociute', 'senelis', 'batas', 'ratas', 'puodukas']\n",
      "['mama', 'tetis', 'mociute', 'senelis', 'batas', 'ratas']\n",
      "['mama', 'tetis', 'mociute', 'senelis', 'batas', 'ratas']\n",
      "1\n"
     ]
    }
   ],
   "source": [
    "# Sudėti du list’us, išimti paskutinį narį iš sudėto listo, \n",
    "# išrikiuoti list’ą, suskaičiuoti kiek yra kokios nors \n",
    "# reikšmės įvesčių list’e\n",
    "\n",
    "sarasas_2= [\"batas\", \"ratas\", \"puodukas\"]\n",
    "print(sarasas_2)\n",
    "viskas = sarasas+sarasas_2\n",
    "print(viskas)\n",
    "viskas.pop()\n",
    "print(viskas)\n",
    "viskas.sort\n",
    "print(viskas)\n",
    "print(viskas.count(\"batas\"))\n"
   ]
  },
  {
   "cell_type": "code",
   "execution_count": 51,
   "metadata": {},
   "outputs": [
    {
     "name": "stdout",
     "output_type": "stream",
     "text": [
      "(1, 2, ['3', 4, 5], [6, [7, 8]])\n",
      "8\n",
      "8\n"
     ]
    }
   ],
   "source": [
    "# Gaukite reikšmę\n",
    "# my_tuple = (1, 2, ['3', 4, 5], [6, [7, (8)]])\n",
    "# Į ekraną išveskite 8\n",
    "\n",
    "my_tuple = (1, 2, ['3', 4, 5], [6, [7, (8)]])\n",
    "print(my_tuple)\n",
    "print(my_tuple [3][1][1])\n",
    "#print(my_tuple[-1][-1][-1] )\n"
   ]
  },
  {
   "cell_type": "code",
   "execution_count": 50,
   "metadata": {},
   "outputs": [
    {
     "name": "stdout",
     "output_type": "stream",
     "text": [
      "(11, [222, 33], 44, 55)\n",
      "(11, [222, 22], 44, 55)\n"
     ]
    }
   ],
   "source": [
    "#Pakeiskite reikšmę\n",
    "# tuple1 = (11, [222, 33], 44, 55)\n",
    "# tuple1 = (11, [222, 22], 44, 55)\n",
    "\n",
    "# 1 budas\n",
    "tuple1 = (11, [222, 33], 44, 55)\n",
    "# tuple_1[1] = [222, 22] # neveiks\n",
    "print(tuple1)\n",
    "tuple1[1][1]=22\n",
    "#tuple_1[1][-1] = 22\n",
    "print(tuple1)"
   ]
  },
  {
   "cell_type": "code",
   "execution_count": 52,
   "metadata": {},
   "outputs": [
    {
     "name": "stdout",
     "output_type": "stream",
     "text": [
      "[11, [222, 33], 44, 55]\n",
      "(11, [222, 22], 44, 55)\n"
     ]
    }
   ],
   "source": [
    "# 2 budas\n",
    "tuple_1 = (11, [222, 33], 44, 55)\n",
    "tmp_list = list(tuple_1)\n",
    "print(tmp_list)\n",
    "tmp_list[1] = [222, 22]\n",
    "tuple_1 = tuple(tmp_list)\n",
    "print (tuple_1)"
   ]
  },
  {
   "cell_type": "code",
   "execution_count": 63,
   "metadata": {},
   "outputs": [
    {
     "name": "stdout",
     "output_type": "stream",
     "text": [
      "(1, 5, [6, 34, 7], 7, 5, [7, [222], 99], 33)\n",
      "[1, 5, [6, 34, 7], 7, 5, [7, [222], 99], 33]\n",
      "[1, 5, [6, 34, 7], 7, 5, [7, [222], 99]]\n"
     ]
    },
    {
     "ename": "TypeError",
     "evalue": "'<' not supported between instances of 'list' and 'int'",
     "output_type": "error",
     "traceback": [
      "\u001b[1;31m---------------------------------------------------------------------------\u001b[0m",
      "\u001b[1;31mTypeError\u001b[0m                                 Traceback (most recent call last)",
      "\u001b[1;32mc:\\Users\\arunas\\Documents\\-Python_mokymai\\ND.ipynb Cell 17'\u001b[0m in \u001b[0;36m<module>\u001b[1;34m\u001b[0m\n\u001b[0;32m     <a href='vscode-notebook-cell:/c%3A/Users/arunas/Documents/-Python_mokymai/ND.ipynb#ch0000018?line=10'>11</a>\u001b[0m tmp_list\u001b[39m.\u001b[39mpop()\n\u001b[0;32m     <a href='vscode-notebook-cell:/c%3A/Users/arunas/Documents/-Python_mokymai/ND.ipynb#ch0000018?line=11'>12</a>\u001b[0m \u001b[39mprint\u001b[39m(tmp_list)\n\u001b[1;32m---> <a href='vscode-notebook-cell:/c%3A/Users/arunas/Documents/-Python_mokymai/ND.ipynb#ch0000018?line=12'>13</a>\u001b[0m tmp_list\u001b[39m.\u001b[39;49msort()\n",
      "\u001b[1;31mTypeError\u001b[0m: '<' not supported between instances of 'list' and 'int'"
     ]
    }
   ],
   "source": [
    "# Sudėti du tuple, išimti paskutinį narį iš sudėto tuple, \n",
    "# išrikiuoti tuple, suskaičiuoti \n",
    "# kiek yra kokios nors reikšmės įvesčių tuple,\n",
    "#  rasti didžiausią reikšmę \n",
    "\n",
    "\n",
    "tpl = (1,5,[6,34,7],7) + (5,[7,[222],99],33)\n",
    "print(tpl)\n",
    "tmp_list = list(tpl)\n",
    "print(tmp_list)\n",
    "tmp_list.pop()\n",
    "print(tmp_list)\n",
    "tmp_list.sort()\n",
    "\n",
    "\n",
    "\n",
    "# tuple_1 = tuple(tmp_list) - ir vel grazinam i tuple\n",
    "# print (tuple_1)"
   ]
  },
  {
   "cell_type": "markdown",
   "metadata": {},
   "source": []
  }
 ],
 "metadata": {
  "interpreter": {
   "hash": "6b66f59a3f4bed3d737f557ac50d309cac13919fa3d2e68321e2748bd52e6d7e"
  },
  "kernelspec": {
   "display_name": "Python 3.10.2 64-bit",
   "language": "python",
   "name": "python3"
  },
  "language_info": {
   "codemirror_mode": {
    "name": "ipython",
    "version": 3
   },
   "file_extension": ".py",
   "mimetype": "text/x-python",
   "name": "python",
   "nbconvert_exporter": "python",
   "pygments_lexer": "ipython3",
   "version": "3.10.2"
  },
  "orig_nbformat": 4
 },
 "nbformat": 4,
 "nbformat_minor": 2
}
