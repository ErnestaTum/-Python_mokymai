{
 "cells": [
  {
   "cell_type": "code",
   "execution_count": 1,
   "metadata": {},
   "outputs": [],
   "source": [
    "import math"
   ]
  },
  {
   "cell_type": "code",
   "execution_count": 2,
   "metadata": {},
   "outputs": [
    {
     "ename": "ImportError",
     "evalue": "cannot import name 'cube' from 'math' (unknown location)",
     "output_type": "error",
     "traceback": [
      "\u001b[1;31m---------------------------------------------------------------------------\u001b[0m",
      "\u001b[1;31mImportError\u001b[0m                               Traceback (most recent call last)",
      "\u001b[1;32mc:\\Users\\arunas\\Documents\\-Python_mokymai\\paskaita_5.ipynb Cell 2'\u001b[0m in \u001b[0;36m<module>\u001b[1;34m\u001b[0m\n\u001b[1;32m----> <a href='vscode-notebook-cell:/c%3A/Users/arunas/Documents/-Python_mokymai/paskaita_5.ipynb#ch0000015?line=0'>1</a>\u001b[0m \u001b[39mfrom\u001b[39;00m \u001b[39mmath\u001b[39;00m \u001b[39mimport\u001b[39;00m sin, cos, cube\n",
      "\u001b[1;31mImportError\u001b[0m: cannot import name 'cube' from 'math' (unknown location)"
     ]
    }
   ],
   "source": [
    "from math import sin, cos, cube"
   ]
  },
  {
   "cell_type": "code",
   "execution_count": 3,
   "metadata": {},
   "outputs": [],
   "source": [
    "def add_2(a, b):\n",
    "    if not isinstance(a, int): #norint patikrinti ar sveikas skaicius\n",
    "        raise ValueError('Kintamojo a reiksme netinkama, turi buti sveikasis skaicius.')\n",
    "    if not isinstance(b, int):\n",
    "        raise ValueError('Kintamojo b reiksme netinkama, turi buti sveikasis skaicius.')\n",
    "    return a + b"
   ]
  },
  {
   "cell_type": "code",
   "execution_count": 26,
   "metadata": {},
   "outputs": [
    {
     "ename": "ValueError",
     "evalue": "Kintamojo b reiksme netinkama, turi buti sveikasis skaicius.",
     "output_type": "error",
     "traceback": [
      "\u001b[1;31m---------------------------------------------------------------------------\u001b[0m",
      "\u001b[1;31mValueError\u001b[0m                                Traceback (most recent call last)",
      "\u001b[1;32mc:\\Users\\arunas\\Documents\\-Python_mokymai\\paskaita_5.ipynb Cell 4'\u001b[0m in \u001b[0;36m<module>\u001b[1;34m\u001b[0m\n\u001b[0;32m      <a href='vscode-notebook-cell:/c%3A/Users/arunas/Documents/-Python_mokymai/paskaita_5.ipynb#ch0000017?line=0'>1</a>\u001b[0m add_2(\u001b[39m2\u001b[39m,\u001b[39m5\u001b[39m)\n\u001b[1;32m----> <a href='vscode-notebook-cell:/c%3A/Users/arunas/Documents/-Python_mokymai/paskaita_5.ipynb#ch0000017?line=1'>2</a>\u001b[0m add_2(\u001b[39m5\u001b[39;49m,\u001b[39m'\u001b[39;49m\u001b[39m7\u001b[39;49m\u001b[39m'\u001b[39;49m)\n",
      "\u001b[1;32mc:\\Users\\arunas\\Documents\\-Python_mokymai\\paskaita_5.ipynb Cell 3'\u001b[0m in \u001b[0;36madd_2\u001b[1;34m(a, b)\u001b[0m\n\u001b[0;32m      <a href='vscode-notebook-cell:/c%3A/Users/arunas/Documents/-Python_mokymai/paskaita_5.ipynb#ch0000016?line=2'>3</a>\u001b[0m     \u001b[39mraise\u001b[39;00m \u001b[39mValueError\u001b[39;00m(\u001b[39m'\u001b[39m\u001b[39mKintamojo a reiksme netinkama, turi buti sveikasis skaicius.\u001b[39m\u001b[39m'\u001b[39m)\n\u001b[0;32m      <a href='vscode-notebook-cell:/c%3A/Users/arunas/Documents/-Python_mokymai/paskaita_5.ipynb#ch0000016?line=3'>4</a>\u001b[0m \u001b[39mif\u001b[39;00m \u001b[39mnot\u001b[39;00m \u001b[39misinstance\u001b[39m(b, \u001b[39mint\u001b[39m):\n\u001b[1;32m----> <a href='vscode-notebook-cell:/c%3A/Users/arunas/Documents/-Python_mokymai/paskaita_5.ipynb#ch0000016?line=4'>5</a>\u001b[0m     \u001b[39mraise\u001b[39;00m \u001b[39mValueError\u001b[39;00m(\u001b[39m'\u001b[39m\u001b[39mKintamojo b reiksme netinkama, turi buti sveikasis skaicius.\u001b[39m\u001b[39m'\u001b[39m)\n\u001b[0;32m      <a href='vscode-notebook-cell:/c%3A/Users/arunas/Documents/-Python_mokymai/paskaita_5.ipynb#ch0000016?line=5'>6</a>\u001b[0m \u001b[39mreturn\u001b[39;00m a \u001b[39m+\u001b[39m b\n",
      "\u001b[1;31mValueError\u001b[0m: Kintamojo b reiksme netinkama, turi buti sveikasis skaicius."
     ]
    }
   ],
   "source": [
    "print (add_2(2,5) )\n",
    "print( add_2(5,'7'))"
   ]
  },
  {
   "cell_type": "code",
   "execution_count": 6,
   "metadata": {},
   "outputs": [
    {
     "name": "stdout",
     "output_type": "stream",
     "text": [
      "try pradzia\n",
      "32\n",
      "try pabaiga\n",
      "po try/except\n"
     ]
    }
   ],
   "source": [
    "try: # viskas veikia\n",
    "    print('try pradzia')\n",
    "    x = 32\n",
    "    print(x)\n",
    "    print('try pabaiga')\n",
    "except Exception:\n",
    "    print(\"Except dalis\")\n",
    "\n",
    "print('po try/except')"
   ]
  },
  {
   "cell_type": "code",
   "execution_count": 7,
   "metadata": {},
   "outputs": [
    {
     "name": "stdout",
     "output_type": "stream",
     "text": [
      "try pradzia\n",
      "Except dalis\n",
      "po try/except\n"
     ]
    }
   ],
   "source": [
    "try: # klaida - nemeta error o ismeta except dali\n",
    "    print('try pradzia')\n",
    "    x = 32\n",
    "    y = '3' + 32\n",
    "    print(x)\n",
    "    print('try pabaiga')\n",
    "except Exception:\n",
    "    print(\"Except dalis\")\n",
    "\n",
    "print('po try/except')"
   ]
  },
  {
   "cell_type": "code",
   "execution_count": 8,
   "metadata": {},
   "outputs": [
    {
     "name": "stdout",
     "output_type": "stream",
     "text": [
      "Except dalis\n",
      "po try/except\n"
     ]
    }
   ],
   "source": [
    "try: # klaida - Execption ignoruoja visu tipu klaidas, tai gerai ir blogai, nes sunku suzinoti kokia klaida\n",
    "    z=5/0 #iskart klaida, todel net nemeta try dalies\n",
    "    print('try pradzia')\n",
    "    x = 32\n",
    "    y = '3' + 32\n",
    "    print(x)\n",
    "    print('try pabaiga')\n",
    "except Exception:\n",
    "    print(\"Except dalis\")\n",
    "\n",
    "print('po try/except')"
   ]
  },
  {
   "cell_type": "code",
   "execution_count": 9,
   "metadata": {},
   "outputs": [
    {
     "name": "stdout",
     "output_type": "stream",
     "text": [
      "try pradzia\n"
     ]
    },
    {
     "ename": "TypeError",
     "evalue": "can only concatenate str (not \"int\") to str",
     "output_type": "error",
     "traceback": [
      "\u001b[1;31m---------------------------------------------------------------------------\u001b[0m",
      "\u001b[1;31mTypeError\u001b[0m                                 Traceback (most recent call last)",
      "\u001b[1;32mc:\\Users\\arunas\\Documents\\-Python_mokymai\\paskaita_5.ipynb Cell 8'\u001b[0m in \u001b[0;36m<module>\u001b[1;34m\u001b[0m\n\u001b[0;32m      <a href='vscode-notebook-cell:/c%3A/Users/arunas/Documents/-Python_mokymai/paskaita_5.ipynb#ch0000022?line=1'>2</a>\u001b[0m \u001b[39mprint\u001b[39m(\u001b[39m'\u001b[39m\u001b[39mtry pradzia\u001b[39m\u001b[39m'\u001b[39m)\n\u001b[0;32m      <a href='vscode-notebook-cell:/c%3A/Users/arunas/Documents/-Python_mokymai/paskaita_5.ipynb#ch0000022?line=2'>3</a>\u001b[0m x \u001b[39m=\u001b[39m \u001b[39m32\u001b[39m\n\u001b[1;32m----> <a href='vscode-notebook-cell:/c%3A/Users/arunas/Documents/-Python_mokymai/paskaita_5.ipynb#ch0000022?line=3'>4</a>\u001b[0m y \u001b[39m=\u001b[39m \u001b[39m'\u001b[39;49m\u001b[39m3\u001b[39;49m\u001b[39m'\u001b[39;49m \u001b[39m+\u001b[39;49m \u001b[39m32\u001b[39;49m\n\u001b[0;32m      <a href='vscode-notebook-cell:/c%3A/Users/arunas/Documents/-Python_mokymai/paskaita_5.ipynb#ch0000022?line=4'>5</a>\u001b[0m \u001b[39mprint\u001b[39m(x)\n\u001b[0;32m      <a href='vscode-notebook-cell:/c%3A/Users/arunas/Documents/-Python_mokymai/paskaita_5.ipynb#ch0000022?line=5'>6</a>\u001b[0m \u001b[39mprint\u001b[39m(\u001b[39m'\u001b[39m\u001b[39mtry pabaiga\u001b[39m\u001b[39m'\u001b[39m)\n",
      "\u001b[1;31mTypeError\u001b[0m: can only concatenate str (not \"int\") to str"
     ]
    }
   ],
   "source": [
    "# try:\n",
    "print('try pradzia')\n",
    "x = 32\n",
    "y = '3' + 32\n",
    "print(x)\n",
    "print('try pabaiga')\n",
    "# except Exception:\n",
    "#     print(\"Except dalis\")\n",
    "\n",
    "print('po try/except')"
   ]
  },
  {
   "cell_type": "code",
   "execution_count": 11,
   "metadata": {},
   "outputs": [
    {
     "name": "stdout",
     "output_type": "stream",
     "text": [
      "ZeroDivisionError except dalis\n",
      "po try/except\n"
     ]
    }
   ],
   "source": [
    "try:\n",
    "    # z = 5 / 0  # meta ta klaida, kuria pirma sutinka\n",
    "    print('try pradzia')\n",
    "    x = 32\n",
    "    y = '6' + 32\n",
    "    print (x)\n",
    "    print ('try pabaiga')\n",
    "except ZeroDivisionError:\n",
    "    print ('ZeroDivisionError except dalis')\n",
    "except TypeError:\n",
    "    print ('TypeError except dalis')\n",
    "\n",
    "print('po try/except')"
   ]
  },
  {
   "cell_type": "code",
   "execution_count": 14,
   "metadata": {},
   "outputs": [
    {
     "name": "stdout",
     "output_type": "stream",
     "text": [
      "try pradzia\n",
      "TypeError except dalis\n",
      "can only concatenate str (not \"int\") to str\n",
      "po try/except\n"
     ]
    }
   ],
   "source": [
    "try:\n",
    "    # z = 5 / 0  # meta ta klaida, kuria pirma sutinka\n",
    "    print('try pradzia')\n",
    "    x = 32\n",
    "    y = '6' + 32\n",
    "    print (x)\n",
    "    print ('try pabaiga')\n",
    "except ZeroDivisionError as e:\n",
    "    print ('ZeroDivisionError except dalis')\n",
    "    print(e)\n",
    "except TypeError as e: # e nurodo kad reikia atspausdinti paaiskinima\n",
    "    print ('TypeError except dalis')\n",
    "    print(e)\n",
    "\n",
    "print('po try/except')"
   ]
  },
  {
   "cell_type": "code",
   "execution_count": 19,
   "metadata": {},
   "outputs": [
    {
     "name": "stdout",
     "output_type": "stream",
     "text": [
      "50000000000000.0\n"
     ]
    }
   ],
   "source": [
    "k = 0 # sprendimo budas, jei dalinama is 0, tai ji prilyginam labai mazam skaiciui ar 1\n",
    "\n",
    "if k== 0:\n",
    "    k = 0.0000000000001\n",
    "\n",
    "z = 5 / k\n",
    "\n",
    "print(z)"
   ]
  },
  {
   "cell_type": "code",
   "execution_count": 20,
   "metadata": {},
   "outputs": [
    {
     "name": "stdout",
     "output_type": "stream",
     "text": [
      "16\n"
     ]
    }
   ],
   "source": [
    "a = '6'\n",
    "\n",
    "if not isinstance(a,int):\n",
    "    a = int(a)\n",
    "\n",
    "y = a + 10\n",
    "\n",
    "print(y)"
   ]
  },
  {
   "cell_type": "code",
   "execution_count": 21,
   "metadata": {},
   "outputs": [
    {
     "name": "stdout",
     "output_type": "stream",
     "text": [
      "try pradzia\n",
      "TypeError except dalis\n",
      "Traceback (most recent call last):\n",
      "  File \"C:\\Users\\arunas\\AppData\\Local\\Temp\\ipykernel_13348\\2558926279.py\", line 9, in <module>\n",
      "    y = '6' + 32\n",
      "TypeError: can only concatenate str (not \"int\") to str\n",
      "\n",
      "po visko\n"
     ]
    }
   ],
   "source": [
    "# po kokiu veiksmu ivyko klaida, import traceback ir tada nereikia prideti \"as e\" prie klaidu\n",
    "\n",
    "import traceback\n",
    "\n",
    "try:\n",
    "    # z = 5 / 0 \n",
    "    print('try pradzia')\n",
    "    x = 32\n",
    "    y = '6' + 32\n",
    "    print (x)\n",
    "    print ('try pabaiga')\n",
    "except ZeroDivisionError as e:\n",
    "    print ('ZeroDivisionError except dalis')\n",
    "    print(traceback.format_exc()) # skirta klaidom nurodyt\n",
    "except TypeError as e: \n",
    "    print ('TypeError except dalis')\n",
    "    print(traceback.format_exc())\n",
    "\n",
    "print('po visko')"
   ]
  },
  {
   "cell_type": "code",
   "execution_count": 1,
   "metadata": {},
   "outputs": [],
   "source": [
    "import os"
   ]
  },
  {
   "cell_type": "code",
   "execution_count": 2,
   "metadata": {},
   "outputs": [
    {
     "data": {
      "text/plain": [
       "'c:\\\\Users\\\\arunas\\\\Documents\\\\-Python_mokymai'"
      ]
     },
     "execution_count": 2,
     "metadata": {},
     "output_type": "execute_result"
    }
   ],
   "source": [
    "os.getcwd() #dabartine darbine direktorija"
   ]
  },
  {
   "cell_type": "code",
   "execution_count": 3,
   "metadata": {},
   "outputs": [
    {
     "data": {
      "text/plain": [
       "['.git',\n",
       " '.gitignore',\n",
       " 'ND.ipynb',\n",
       " 'ND_current.ipynb',\n",
       " 'papildomai.ipynb',\n",
       " 'paskaita_1.ipynb',\n",
       " 'paskaita_2.ipynb',\n",
       " 'paskaita_3.ipynb',\n",
       " 'paskaita_4.ipynb',\n",
       " 'paskaita_5.ipynb',\n",
       " 'README.md',\n",
       " 'testt.ipynb']"
      ]
     },
     "execution_count": 3,
     "metadata": {},
     "output_type": "execute_result"
    }
   ],
   "source": [
    "os.listdir() # kas yra dabartiniame aplankale"
   ]
  },
  {
   "cell_type": "code",
   "execution_count": 5,
   "metadata": {},
   "outputs": [
    {
     "data": {
      "text/plain": [
       "['COMMIT_EDITMSG',\n",
       " 'config',\n",
       " 'description',\n",
       " 'FETCH_HEAD',\n",
       " 'HEAD',\n",
       " 'hooks',\n",
       " 'index',\n",
       " 'info',\n",
       " 'logs',\n",
       " 'objects',\n",
       " 'ORIG_HEAD',\n",
       " 'packed-refs',\n",
       " 'refs']"
      ]
     },
     "execution_count": 5,
     "metadata": {},
     "output_type": "execute_result"
    }
   ],
   "source": [
    "os.listdir('.git')"
   ]
  },
  {
   "cell_type": "code",
   "execution_count": 7,
   "metadata": {},
   "outputs": [
    {
     "data": {
      "text/plain": [
       "['-Python_mokymai',\n",
       " '.ipynb_checkpoints',\n",
       " 'Default.rdp',\n",
       " 'desktop.ini',\n",
       " 'My Music',\n",
       " 'My Pictures',\n",
       " 'My Videos',\n",
       " 'Pasirinktiniai „Office“ šablonai',\n",
       " 'Python',\n",
       " 'Python Scripts',\n",
       " 'Sound recordings']"
      ]
     },
     "execution_count": 7,
     "metadata": {},
     "output_type": "execute_result"
    }
   ],
   "source": [
    "os.listdir('c:\\\\Users\\\\arunas\\\\Documents\\\\') # jei noriu paziureti kas vienu aplankalu auksciau"
   ]
  },
  {
   "cell_type": "code",
   "execution_count": 1,
   "metadata": {},
   "outputs": [
    {
     "name": "stdout",
     "output_type": "stream",
     "text": [
      "['-Python_mokymai', '.ipynb_checkpoints', 'Default.rdp', 'desktop.ini', 'My Music', 'My Pictures', 'My Videos', 'Pasirinktiniai „Office“ šablonai', 'Python', 'Python Scripts', 'Sound recordings']\n"
     ]
    }
   ],
   "source": [
    "print(os.listdir('c:\\\\Users\\\\arunas\\\\Documents\\\\')) # galima i lista sudeti "
   ]
  },
  {
   "cell_type": "code",
   "execution_count": 8,
   "metadata": {},
   "outputs": [],
   "source": [
    "os.chdir('../') #pakeisti savo esama direktorija - nurodom releatyvu kelia\n"
   ]
  },
  {
   "cell_type": "code",
   "execution_count": 10,
   "metadata": {},
   "outputs": [
    {
     "data": {
      "text/plain": [
       "'c:\\\\Users\\\\arunas\\\\Documents'"
      ]
     },
     "execution_count": 10,
     "metadata": {},
     "output_type": "execute_result"
    }
   ],
   "source": [
    "os.getcwd()# pakeitem viena auksciau"
   ]
  },
  {
   "cell_type": "code",
   "execution_count": 13,
   "metadata": {},
   "outputs": [
    {
     "data": {
      "text/plain": [
       "'c:\\\\Users\\\\arunas\\\\Documents\\\\-Python_mokymai'"
      ]
     },
     "execution_count": 13,
     "metadata": {},
     "output_type": "execute_result"
    }
   ],
   "source": [
    "os.chdir('c:\\\\Users\\\\arunas\\\\Documents\\\\-Python_mokymai') # vel grazinom i ankstesne vieta\n",
    "os.getcwd()"
   ]
  },
  {
   "cell_type": "code",
   "execution_count": 2,
   "metadata": {},
   "outputs": [],
   "source": [
    "os.makedirs('a/b/c/d') #sukure 4 aplankalus, neleidzia ju paspausti atskirai tai kairiu pelytes paspaudimu - reveal in file exploer\n"
   ]
  },
  {
   "cell_type": "code",
   "execution_count": 3,
   "metadata": {},
   "outputs": [],
   "source": [
    "os.removedirs('a/b/c/d') # visus istrina"
   ]
  },
  {
   "cell_type": "code",
   "execution_count": 8,
   "metadata": {},
   "outputs": [],
   "source": [
    "os.mkdir('as') #sukuria tik viena direktorija, bet negali listi giliau"
   ]
  },
  {
   "cell_type": "code",
   "execution_count": 10,
   "metadata": {},
   "outputs": [],
   "source": [
    "os.rmdir('as') # gali istrinnti tik viena tuscia foldeti"
   ]
  },
  {
   "cell_type": "code",
   "execution_count": 11,
   "metadata": {},
   "outputs": [],
   "source": [
    "os.rename(\"ND.ipynb\", \"ND_all.ipynb\") # pervadinam dokumento pavadinima"
   ]
  },
  {
   "cell_type": "code",
   "execution_count": 12,
   "metadata": {},
   "outputs": [
    {
     "data": {
      "text/plain": [
       "os.stat_result(st_mode=33206, st_ino=29273397578007604, st_dev=2024374902, st_nlink=1, st_uid=0, st_gid=0, st_size=1889, st_atime=1645903418, st_mtime=1644831165, st_ctime=1644830925)"
      ]
     },
     "execution_count": 12,
     "metadata": {},
     "output_type": "execute_result"
    }
   ],
   "source": [
    "os.stat('testt.ipynb') # dokumento info"
   ]
  },
  {
   "cell_type": "code",
   "execution_count": 6,
   "metadata": {},
   "outputs": [
    {
     "name": "stdout",
     "output_type": "stream",
     "text": [
      "testinis dokumentas\n",
      "343556\n",
      "Hello world\n"
     ]
    }
   ],
   "source": [
    "with open(\"text.txt\", 'r') as file_read: \n",
    "    print(file_read.read())\n",
    "\n",
    "# with open atidato faila, bet reikia jam ivesti kintamaji - pvz file read\n"
   ]
  },
  {
   "cell_type": "code",
   "execution_count": 11,
   "metadata": {},
   "outputs": [],
   "source": [
    "cities =[\"Vilnius\", 'Kaunas', 'Klaipeda']\n",
    "\n",
    "with open(\"text_write.txt\", 'w') as file_write: # sukuriam nauja fila, i ji irasom duomenis\n",
    "    for city in cities:\n",
    "        file_write.write(city + '\\n') # rasom i dokumenta"
   ]
  },
  {
   "cell_type": "code",
   "execution_count": 13,
   "metadata": {},
   "outputs": [],
   "source": [
    "import json\n",
    "\n",
    "my_dict = {\n",
    "    'name':\"Ernesta\",\n",
    "    'age': 30,\n",
    "    'hobbies':['sports', 'books']\n",
    "\n",
    "}\n",
    "\n",
    "with open ('me.json', 'w') as file_write:\n",
    "    json.dump(my_dict, file_write)"
   ]
  },
  {
   "cell_type": "code",
   "execution_count": 14,
   "metadata": {},
   "outputs": [],
   "source": [
    "\n",
    "with open ('me.json', 'r') as file_read:\n",
    "    my_dict_2=json.load(file_read)"
   ]
  },
  {
   "cell_type": "code",
   "execution_count": null,
   "metadata": {},
   "outputs": [],
   "source": [
    "import shutil\n",
    "\n",
    "shutil.rmtree(\"folderio pavadinimas\") #Ištrinti visą direktoriją (folderius ir failus) - visiskai istrina is pc"
   ]
  },
  {
   "cell_type": "code",
   "execution_count": 65,
   "metadata": {},
   "outputs": [
    {
     "name": "stdout",
     "output_type": "stream",
     "text": [
      "<built-in method date of datetime.datetime object at 0x00000256E512BBA0>\n"
     ]
    }
   ],
   "source": [
    "import datetime\n",
    "\n",
    "date_txt = \"2018-09-12 10:09:06\"\n",
    "\n",
    "date=datetime.datetime.fromisoformat(date_txt)\n",
    "print(date.date)"
   ]
  },
  {
   "cell_type": "code",
   "execution_count": null,
   "metadata": {},
   "outputs": [],
   "source": [
    "from datetime import datetime\n",
    "\n",
    "date_txt = '2018-08-14 10:46:10'\n",
    "date = datetime.fromisoformat(date_txt) \n",
    "print (date.date())\n",
    "date_txt_2 = '2018/08/14 10:46:10'\n",
    "date = datetime.strptime(date_txt_2, '%Y/%m/%d %H:%M:%S')\n",
    "print(date)"
   ]
  }
 ],
 "metadata": {
  "interpreter": {
   "hash": "6b66f59a3f4bed3d737f557ac50d309cac13919fa3d2e68321e2748bd52e6d7e"
  },
  "kernelspec": {
   "display_name": "Python 3.10.2 64-bit",
   "language": "python",
   "name": "python3"
  },
  "language_info": {
   "codemirror_mode": {
    "name": "ipython",
    "version": 3
   },
   "file_extension": ".py",
   "mimetype": "text/x-python",
   "name": "python",
   "nbconvert_exporter": "python",
   "pygments_lexer": "ipython3",
   "version": "3.10.2"
  },
  "orig_nbformat": 4
 },
 "nbformat": 4,
 "nbformat_minor": 2
}
