{
 "cells": [
  {
   "cell_type": "code",
   "execution_count": 48,
   "metadata": {},
   "outputs": [
    {
     "name": "stdout",
     "output_type": "stream",
     "text": [
      "3\n",
      "6\n",
      "9\n",
      "\n"
     ]
    }
   ],
   "source": [
    "resultatas =''\n",
    "for i in range(2,12):\n",
    "    if i%3==0:\n",
    "        print(i)\n",
    "        resultats = resultatas + str(i)\n",
    "print(resultatas)\n"
   ]
  },
  {
   "cell_type": "markdown",
   "metadata": {},
   "source": []
  },
  {
   "cell_type": "code",
   "execution_count": 55,
   "metadata": {},
   "outputs": [
    {
     "data": {
      "text/plain": [
       "<function nt.getcwd()>"
      ]
     },
     "execution_count": 55,
     "metadata": {},
     "output_type": "execute_result"
    }
   ],
   "source": [
    "os.getcwd\n"
   ]
  },
  {
   "cell_type": "code",
   "execution_count": 56,
   "metadata": {},
   "outputs": [],
   "source": [
    "import os"
   ]
  },
  {
   "cell_type": "code",
   "execution_count": null,
   "metadata": {},
   "outputs": [],
   "source": [
    "try:\n",
    "    print(\"try pradzia\"\n",
    "    x=32\n",
    "    )"
   ]
  },
  {
   "cell_type": "code",
   "execution_count": 58,
   "metadata": {},
   "outputs": [],
   "source": [
    "os.makedirs('a/b/c/d')"
   ]
  },
  {
   "cell_type": "code",
   "execution_count": 59,
   "metadata": {},
   "outputs": [],
   "source": [
    "os.removedirs('a/b/c/d')"
   ]
  },
  {
   "cell_type": "code",
   "execution_count": 60,
   "metadata": {},
   "outputs": [
    {
     "name": "stdout",
     "output_type": "stream",
     "text": [
      "hello world\n",
      "\n"
     ]
    }
   ],
   "source": [
    "with open('text.txt', 'r' ) as file_read: #is text filo nuskaito info\n",
    "    print(file_read.read())\n",
    "\n"
   ]
  },
  {
   "cell_type": "code",
   "execution_count": 61,
   "metadata": {},
   "outputs": [],
   "source": [
    "cities =[\"vilnius\", 'Kaunas', 'Klaiped']\n",
    "with open('text_write.txt', 'w' ) as file_write:\n",
    "    for city in cities:\n",
    "        file_write.write(city + '\\n') #rasom teksta\n",
    "      "
   ]
  },
  {
   "cell_type": "code",
   "execution_count": 62,
   "metadata": {},
   "outputs": [],
   "source": [
    "import json\n",
    "\n",
    "my_dict = {\n",
    "    'name':\"ernesta\",\n",
    "    'age': 30,\n",
    "    'hobbies':['sports', 'books']\n",
    "\n",
    "}\n",
    "\n",
    "with open ('me.json', 'w') as file_write:\n",
    "    json.dump(my_dict, file_write)"
   ]
  },
  {
   "cell_type": "code",
   "execution_count": 63,
   "metadata": {},
   "outputs": [],
   "source": [
    "\n",
    "with open ('me.json', 'r') as file_read:\n",
    "    my_dict_2=json.load(file_read)"
   ]
  },
  {
   "cell_type": "code",
   "execution_count": 64,
   "metadata": {},
   "outputs": [
    {
     "data": {
      "text/plain": [
       "{'name': 'ernesta', 'age': 30, 'hobbies': ['sports', 'books']}"
      ]
     },
     "execution_count": 64,
     "metadata": {},
     "output_type": "execute_result"
    }
   ],
   "source": [
    "my_dict_2"
   ]
  },
  {
   "cell_type": "code",
   "execution_count": 65,
   "metadata": {},
   "outputs": [
    {
     "name": "stdout",
     "output_type": "stream",
     "text": [
      "<built-in method date of datetime.datetime object at 0x00000256E512BBA0>\n"
     ]
    }
   ],
   "source": [
    "import datetime\n",
    "\n",
    "date_txt = \"2018-09-12 10:09:06\"\n",
    "\n",
    "date=datetime.datetime.fromisoformat(date_txt)\n",
    "print(date.date)"
   ]
  },
  {
   "cell_type": "code",
   "execution_count": null,
   "metadata": {},
   "outputs": [],
   "source": []
  }
 ],
 "metadata": {
  "interpreter": {
   "hash": "6b66f59a3f4bed3d737f557ac50d309cac13919fa3d2e68321e2748bd52e6d7e"
  },
  "kernelspec": {
   "display_name": "Python 3.10.2 64-bit",
   "language": "python",
   "name": "python3"
  },
  "language_info": {
   "codemirror_mode": {
    "name": "ipython",
    "version": 3
   },
   "file_extension": ".py",
   "mimetype": "text/x-python",
   "name": "python",
   "nbconvert_exporter": "python",
   "pygments_lexer": "ipython3",
   "version": "3.10.2"
  },
  "orig_nbformat": 4
 },
 "nbformat": 4,
 "nbformat_minor": 2
}
