{
 "cells": [
  {
   "cell_type": "code",
   "execution_count": 1,
   "metadata": {},
   "outputs": [],
   "source": [
    "import math"
   ]
  },
  {
   "cell_type": "code",
   "execution_count": 2,
   "metadata": {},
   "outputs": [
    {
     "ename": "ImportError",
     "evalue": "cannot import name 'cube' from 'math' (unknown location)",
     "output_type": "error",
     "traceback": [
      "\u001b[1;31m---------------------------------------------------------------------------\u001b[0m",
      "\u001b[1;31mImportError\u001b[0m                               Traceback (most recent call last)",
      "\u001b[1;32mc:\\Users\\arunas\\Documents\\-Python_mokymai\\paskaita_5.ipynb Cell 2'\u001b[0m in \u001b[0;36m<module>\u001b[1;34m\u001b[0m\n\u001b[1;32m----> <a href='vscode-notebook-cell:/c%3A/Users/arunas/Documents/-Python_mokymai/paskaita_5.ipynb#ch0000015?line=0'>1</a>\u001b[0m \u001b[39mfrom\u001b[39;00m \u001b[39mmath\u001b[39;00m \u001b[39mimport\u001b[39;00m sin, cos, cube\n",
      "\u001b[1;31mImportError\u001b[0m: cannot import name 'cube' from 'math' (unknown location)"
     ]
    }
   ],
   "source": [
    "from math import sin, cos, cube"
   ]
  },
  {
   "cell_type": "code",
   "execution_count": 3,
   "metadata": {},
   "outputs": [],
   "source": [
    "def add_2(a, b):\n",
    "    if not isinstance(a, int): #norint patikrinti ar sveikas skaicius\n",
    "        raise ValueError('Kintamojo a reiksme netinkama, turi buti sveikasis skaicius.')\n",
    "    if not isinstance(b, int):\n",
    "        raise ValueError('Kintamojo b reiksme netinkama, turi buti sveikasis skaicius.')\n",
    "    return a + b"
   ]
  },
  {
   "cell_type": "code",
   "execution_count": 26,
   "metadata": {},
   "outputs": [
    {
     "ename": "ValueError",
     "evalue": "Kintamojo b reiksme netinkama, turi buti sveikasis skaicius.",
     "output_type": "error",
     "traceback": [
      "\u001b[1;31m---------------------------------------------------------------------------\u001b[0m",
      "\u001b[1;31mValueError\u001b[0m                                Traceback (most recent call last)",
      "\u001b[1;32mc:\\Users\\arunas\\Documents\\-Python_mokymai\\paskaita_5.ipynb Cell 4'\u001b[0m in \u001b[0;36m<module>\u001b[1;34m\u001b[0m\n\u001b[0;32m      <a href='vscode-notebook-cell:/c%3A/Users/arunas/Documents/-Python_mokymai/paskaita_5.ipynb#ch0000017?line=0'>1</a>\u001b[0m add_2(\u001b[39m2\u001b[39m,\u001b[39m5\u001b[39m)\n\u001b[1;32m----> <a href='vscode-notebook-cell:/c%3A/Users/arunas/Documents/-Python_mokymai/paskaita_5.ipynb#ch0000017?line=1'>2</a>\u001b[0m add_2(\u001b[39m5\u001b[39;49m,\u001b[39m'\u001b[39;49m\u001b[39m7\u001b[39;49m\u001b[39m'\u001b[39;49m)\n",
      "\u001b[1;32mc:\\Users\\arunas\\Documents\\-Python_mokymai\\paskaita_5.ipynb Cell 3'\u001b[0m in \u001b[0;36madd_2\u001b[1;34m(a, b)\u001b[0m\n\u001b[0;32m      <a href='vscode-notebook-cell:/c%3A/Users/arunas/Documents/-Python_mokymai/paskaita_5.ipynb#ch0000016?line=2'>3</a>\u001b[0m     \u001b[39mraise\u001b[39;00m \u001b[39mValueError\u001b[39;00m(\u001b[39m'\u001b[39m\u001b[39mKintamojo a reiksme netinkama, turi buti sveikasis skaicius.\u001b[39m\u001b[39m'\u001b[39m)\n\u001b[0;32m      <a href='vscode-notebook-cell:/c%3A/Users/arunas/Documents/-Python_mokymai/paskaita_5.ipynb#ch0000016?line=3'>4</a>\u001b[0m \u001b[39mif\u001b[39;00m \u001b[39mnot\u001b[39;00m \u001b[39misinstance\u001b[39m(b, \u001b[39mint\u001b[39m):\n\u001b[1;32m----> <a href='vscode-notebook-cell:/c%3A/Users/arunas/Documents/-Python_mokymai/paskaita_5.ipynb#ch0000016?line=4'>5</a>\u001b[0m     \u001b[39mraise\u001b[39;00m \u001b[39mValueError\u001b[39;00m(\u001b[39m'\u001b[39m\u001b[39mKintamojo b reiksme netinkama, turi buti sveikasis skaicius.\u001b[39m\u001b[39m'\u001b[39m)\n\u001b[0;32m      <a href='vscode-notebook-cell:/c%3A/Users/arunas/Documents/-Python_mokymai/paskaita_5.ipynb#ch0000016?line=5'>6</a>\u001b[0m \u001b[39mreturn\u001b[39;00m a \u001b[39m+\u001b[39m b\n",
      "\u001b[1;31mValueError\u001b[0m: Kintamojo b reiksme netinkama, turi buti sveikasis skaicius."
     ]
    }
   ],
   "source": [
    "print (add_2(2,5) )\n",
    "print( add_2(5,'7'))"
   ]
  },
  {
   "cell_type": "code",
   "execution_count": 6,
   "metadata": {},
   "outputs": [
    {
     "name": "stdout",
     "output_type": "stream",
     "text": [
      "try pradzia\n",
      "32\n",
      "try pabaiga\n",
      "po try/except\n"
     ]
    }
   ],
   "source": [
    "try: # viskas veikia\n",
    "    print('try pradzia')\n",
    "    x = 32\n",
    "    print(x)\n",
    "    print('try pabaiga')\n",
    "except Exception:\n",
    "    print(\"Except dalis\")\n",
    "\n",
    "print('po try/except')"
   ]
  },
  {
   "cell_type": "code",
   "execution_count": 7,
   "metadata": {},
   "outputs": [
    {
     "name": "stdout",
     "output_type": "stream",
     "text": [
      "try pradzia\n",
      "Except dalis\n",
      "po try/except\n"
     ]
    }
   ],
   "source": [
    "try: # klaida - nemeta error o ismeta except dali\n",
    "    print('try pradzia')\n",
    "    x = 32\n",
    "    y = '3' + 32\n",
    "    print(x)\n",
    "    print('try pabaiga')\n",
    "except Exception:\n",
    "    print(\"Except dalis\")\n",
    "\n",
    "print('po try/except')"
   ]
  },
  {
   "cell_type": "code",
   "execution_count": 8,
   "metadata": {},
   "outputs": [
    {
     "name": "stdout",
     "output_type": "stream",
     "text": [
      "Except dalis\n",
      "po try/except\n"
     ]
    }
   ],
   "source": [
    "try: # klaida - Execption ignoruoja visu tipu klaidas, tai gerai ir blogai, nes sunku suzinoti kokia klaida\n",
    "    z=5/0 #iskart klaida, todel net nemeta try dalies\n",
    "    print('try pradzia')\n",
    "    x = 32\n",
    "    y = '3' + 32\n",
    "    print(x)\n",
    "    print('try pabaiga')\n",
    "except Exception:\n",
    "    print(\"Except dalis\")\n",
    "\n",
    "print('po try/except')"
   ]
  },
  {
   "cell_type": "code",
   "execution_count": 9,
   "metadata": {},
   "outputs": [
    {
     "name": "stdout",
     "output_type": "stream",
     "text": [
      "try pradzia\n"
     ]
    },
    {
     "ename": "TypeError",
     "evalue": "can only concatenate str (not \"int\") to str",
     "output_type": "error",
     "traceback": [
      "\u001b[1;31m---------------------------------------------------------------------------\u001b[0m",
      "\u001b[1;31mTypeError\u001b[0m                                 Traceback (most recent call last)",
      "\u001b[1;32mc:\\Users\\arunas\\Documents\\-Python_mokymai\\paskaita_5.ipynb Cell 8'\u001b[0m in \u001b[0;36m<module>\u001b[1;34m\u001b[0m\n\u001b[0;32m      <a href='vscode-notebook-cell:/c%3A/Users/arunas/Documents/-Python_mokymai/paskaita_5.ipynb#ch0000022?line=1'>2</a>\u001b[0m \u001b[39mprint\u001b[39m(\u001b[39m'\u001b[39m\u001b[39mtry pradzia\u001b[39m\u001b[39m'\u001b[39m)\n\u001b[0;32m      <a href='vscode-notebook-cell:/c%3A/Users/arunas/Documents/-Python_mokymai/paskaita_5.ipynb#ch0000022?line=2'>3</a>\u001b[0m x \u001b[39m=\u001b[39m \u001b[39m32\u001b[39m\n\u001b[1;32m----> <a href='vscode-notebook-cell:/c%3A/Users/arunas/Documents/-Python_mokymai/paskaita_5.ipynb#ch0000022?line=3'>4</a>\u001b[0m y \u001b[39m=\u001b[39m \u001b[39m'\u001b[39;49m\u001b[39m3\u001b[39;49m\u001b[39m'\u001b[39;49m \u001b[39m+\u001b[39;49m \u001b[39m32\u001b[39;49m\n\u001b[0;32m      <a href='vscode-notebook-cell:/c%3A/Users/arunas/Documents/-Python_mokymai/paskaita_5.ipynb#ch0000022?line=4'>5</a>\u001b[0m \u001b[39mprint\u001b[39m(x)\n\u001b[0;32m      <a href='vscode-notebook-cell:/c%3A/Users/arunas/Documents/-Python_mokymai/paskaita_5.ipynb#ch0000022?line=5'>6</a>\u001b[0m \u001b[39mprint\u001b[39m(\u001b[39m'\u001b[39m\u001b[39mtry pabaiga\u001b[39m\u001b[39m'\u001b[39m)\n",
      "\u001b[1;31mTypeError\u001b[0m: can only concatenate str (not \"int\") to str"
     ]
    }
   ],
   "source": [
    "# try:\n",
    "print('try pradzia')\n",
    "x = 32\n",
    "y = '3' + 32\n",
    "print(x)\n",
    "print('try pabaiga')\n",
    "# except Exception:\n",
    "#     print(\"Except dalis\")\n",
    "\n",
    "print('po try/except')"
   ]
  },
  {
   "cell_type": "code",
   "execution_count": 11,
   "metadata": {},
   "outputs": [
    {
     "name": "stdout",
     "output_type": "stream",
     "text": [
      "ZeroDivisionError except dalis\n",
      "po try/except\n"
     ]
    }
   ],
   "source": [
    "try:\n",
    "    # z = 5 / 0  # meta ta klaida, kuria pirma sutinka\n",
    "    print('try pradzia')\n",
    "    x = 32\n",
    "    y = '6' + 32\n",
    "    print (x)\n",
    "    print ('try pabaiga')\n",
    "except ZeroDivisionError:\n",
    "    print ('ZeroDivisionError except dalis')\n",
    "except TypeError:\n",
    "    print ('TypeError except dalis')\n",
    "\n",
    "print('po try/except')"
   ]
  },
  {
   "cell_type": "code",
   "execution_count": 14,
   "metadata": {},
   "outputs": [
    {
     "name": "stdout",
     "output_type": "stream",
     "text": [
      "try pradzia\n",
      "TypeError except dalis\n",
      "can only concatenate str (not \"int\") to str\n",
      "po try/except\n"
     ]
    }
   ],
   "source": [
    "try:\n",
    "    # z = 5 / 0  # meta ta klaida, kuria pirma sutinka\n",
    "    print('try pradzia')\n",
    "    x = 32\n",
    "    y = '6' + 32\n",
    "    print (x)\n",
    "    print ('try pabaiga')\n",
    "except ZeroDivisionError as e:\n",
    "    print ('ZeroDivisionError except dalis')\n",
    "    print(e)\n",
    "except TypeError as e: # e nurodo kad reikia atspausdinti paaiskinima\n",
    "    print ('TypeError except dalis')\n",
    "    print(e)\n",
    "\n",
    "print('po try/except')"
   ]
  },
  {
   "cell_type": "code",
   "execution_count": 19,
   "metadata": {},
   "outputs": [
    {
     "name": "stdout",
     "output_type": "stream",
     "text": [
      "50000000000000.0\n"
     ]
    }
   ],
   "source": [
    "k = 0 # sprendimo budas, jei dalinama is 0, tai ji prilyginam labai mazam skaiciui ar 1\n",
    "\n",
    "if k== 0:\n",
    "    k = 0.0000000000001\n",
    "\n",
    "z = 5 / k\n",
    "\n",
    "print(z)"
   ]
  },
  {
   "cell_type": "code",
   "execution_count": 20,
   "metadata": {},
   "outputs": [
    {
     "name": "stdout",
     "output_type": "stream",
     "text": [
      "16\n"
     ]
    }
   ],
   "source": [
    "a = '6'\n",
    "\n",
    "if not isinstance(a,int):\n",
    "    a = int(a)\n",
    "\n",
    "y = a + 10\n",
    "\n",
    "print(y)"
   ]
  },
  {
   "cell_type": "code",
   "execution_count": 21,
   "metadata": {},
   "outputs": [
    {
     "name": "stdout",
     "output_type": "stream",
     "text": [
      "try pradzia\n",
      "TypeError except dalis\n",
      "Traceback (most recent call last):\n",
      "  File \"C:\\Users\\arunas\\AppData\\Local\\Temp\\ipykernel_13348\\2558926279.py\", line 9, in <module>\n",
      "    y = '6' + 32\n",
      "TypeError: can only concatenate str (not \"int\") to str\n",
      "\n",
      "po visko\n"
     ]
    }
   ],
   "source": [
    "# po kokiu veiksmu ivyko klaida, import traceback ir tada nereikia prideti \"as e\" prie klaidu\n",
    "\n",
    "import traceback\n",
    "\n",
    "try:\n",
    "    # z = 5 / 0 \n",
    "    print('try pradzia')\n",
    "    x = 32\n",
    "    y = '6' + 32\n",
    "    print (x)\n",
    "    print ('try pabaiga')\n",
    "except ZeroDivisionError as e:\n",
    "    print ('ZeroDivisionError except dalis')\n",
    "    print(traceback.format_exc()) # skirta klaidom nurodyt\n",
    "except TypeError as e: \n",
    "    print ('TypeError except dalis')\n",
    "    print(traceback.format_exc())\n",
    "\n",
    "print('po visko')"
   ]
  },
  {
   "cell_type": "code",
   "execution_count": 55,
   "metadata": {},
   "outputs": [
    {
     "data": {
      "text/plain": [
       "<function nt.getcwd()>"
      ]
     },
     "execution_count": 55,
     "metadata": {},
     "output_type": "execute_result"
    }
   ],
   "source": [
    "os.getcwd\n"
   ]
  },
  {
   "cell_type": "code",
   "execution_count": null,
   "metadata": {},
   "outputs": [],
   "source": []
  },
  {
   "cell_type": "code",
   "execution_count": 56,
   "metadata": {},
   "outputs": [],
   "source": [
    "import os"
   ]
  },
  {
   "cell_type": "code",
   "execution_count": null,
   "metadata": {},
   "outputs": [],
   "source": [
    "try:\n",
    "    print(\"try pradzia\"\n",
    "    x=32\n",
    "    )"
   ]
  },
  {
   "cell_type": "code",
   "execution_count": 58,
   "metadata": {},
   "outputs": [],
   "source": [
    "os.makedirs('a/b/c/d')"
   ]
  },
  {
   "cell_type": "code",
   "execution_count": 59,
   "metadata": {},
   "outputs": [],
   "source": [
    "os.removedirs('a/b/c/d')"
   ]
  },
  {
   "cell_type": "code",
   "execution_count": 60,
   "metadata": {},
   "outputs": [
    {
     "name": "stdout",
     "output_type": "stream",
     "text": [
      "hello world\n",
      "\n"
     ]
    }
   ],
   "source": [
    "with open('text.txt', 'r' ) as file_read: #is text filo nuskaito info\n",
    "    print(file_read.read())\n",
    "\n"
   ]
  },
  {
   "cell_type": "code",
   "execution_count": 61,
   "metadata": {},
   "outputs": [],
   "source": [
    "cities =[\"vilnius\", 'Kaunas', 'Klaiped']\n",
    "with open('text_write.txt', 'w' ) as file_write:\n",
    "    for city in cities:\n",
    "        file_write.write(city + '\\n') #rasom teksta\n",
    "      "
   ]
  },
  {
   "cell_type": "code",
   "execution_count": 62,
   "metadata": {},
   "outputs": [],
   "source": [
    "import json\n",
    "\n",
    "my_dict = {\n",
    "    'name':\"ernesta\",\n",
    "    'age': 30,\n",
    "    'hobbies':['sports', 'books']\n",
    "\n",
    "}\n",
    "\n",
    "with open ('me.json', 'w') as file_write:\n",
    "    json.dump(my_dict, file_write)"
   ]
  },
  {
   "cell_type": "code",
   "execution_count": 63,
   "metadata": {},
   "outputs": [],
   "source": [
    "\n",
    "with open ('me.json', 'r') as file_read:\n",
    "    my_dict_2=json.load(file_read)"
   ]
  },
  {
   "cell_type": "code",
   "execution_count": 64,
   "metadata": {},
   "outputs": [
    {
     "data": {
      "text/plain": [
       "{'name': 'ernesta', 'age': 30, 'hobbies': ['sports', 'books']}"
      ]
     },
     "execution_count": 64,
     "metadata": {},
     "output_type": "execute_result"
    }
   ],
   "source": [
    "my_dict_2"
   ]
  },
  {
   "cell_type": "code",
   "execution_count": 65,
   "metadata": {},
   "outputs": [
    {
     "name": "stdout",
     "output_type": "stream",
     "text": [
      "<built-in method date of datetime.datetime object at 0x00000256E512BBA0>\n"
     ]
    }
   ],
   "source": [
    "import datetime\n",
    "\n",
    "date_txt = \"2018-09-12 10:09:06\"\n",
    "\n",
    "date=datetime.datetime.fromisoformat(date_txt)\n",
    "print(date.date)"
   ]
  },
  {
   "cell_type": "code",
   "execution_count": null,
   "metadata": {},
   "outputs": [],
   "source": []
  }
 ],
 "metadata": {
  "interpreter": {
   "hash": "6b66f59a3f4bed3d737f557ac50d309cac13919fa3d2e68321e2748bd52e6d7e"
  },
  "kernelspec": {
   "display_name": "Python 3.10.2 64-bit",
   "language": "python",
   "name": "python3"
  },
  "language_info": {
   "codemirror_mode": {
    "name": "ipython",
    "version": 3
   },
   "file_extension": ".py",
   "mimetype": "text/x-python",
   "name": "python",
   "nbconvert_exporter": "python",
   "pygments_lexer": "ipython3",
   "version": "3.10.2"
  },
  "orig_nbformat": 4
 },
 "nbformat": 4,
 "nbformat_minor": 2
}
