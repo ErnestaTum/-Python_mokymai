{
 "cells": [
  {
   "cell_type": "code",
   "execution_count": 1,
   "metadata": {},
   "outputs": [],
   "source": [
    "my_set ={1,2,3,4,5,5,5,5}"
   ]
  },
  {
   "cell_type": "code",
   "execution_count": 2,
   "metadata": {},
   "outputs": [
    {
     "name": "stdout",
     "output_type": "stream",
     "text": [
      "{1, 2, 3, 4, 5}\n"
     ]
    }
   ],
   "source": [
    "print(my_set) # pakeitus lista i seta, iskart isfiltruoja pasikartojancias reikmes, setai neturi indeksu"
   ]
  },
  {
   "cell_type": "code",
   "execution_count": 4,
   "metadata": {},
   "outputs": [
    {
     "name": "stdout",
     "output_type": "stream",
     "text": [
      "{1, 2, 3, 4, 5, 10}\n"
     ]
    }
   ],
   "source": [
    "my_set.add(10)\n",
    "print(my_set)"
   ]
  },
  {
   "cell_type": "code",
   "execution_count": null,
   "metadata": {},
   "outputs": [],
   "source": [
    "#set is mutable \n",
    "my_set.copy() arba deep.copy"
   ]
  },
  {
   "cell_type": "code",
   "execution_count": 5,
   "metadata": {},
   "outputs": [
    {
     "name": "stdout",
     "output_type": "stream",
     "text": [
      "{1, 2, 3, 4, 5, 10, 140}\n",
      "{2, 3, 4, 5, 10, 140}\n"
     ]
    }
   ],
   "source": [
    "my_set.add(140)\n",
    "print(my_set)\n",
    "my_set.pop() #meta klaida jei tokios reiksmes nera\n",
    "print(my_set)"
   ]
  },
  {
   "cell_type": "code",
   "execution_count": 6,
   "metadata": {},
   "outputs": [
    {
     "name": "stdout",
     "output_type": "stream",
     "text": [
      "{2, 3, 4, 5, 10}\n"
     ]
    }
   ],
   "source": [
    "my_set.remove(140) \n",
    "print(my_set)"
   ]
  },
  {
   "cell_type": "code",
   "execution_count": 9,
   "metadata": {},
   "outputs": [
    {
     "name": "stdout",
     "output_type": "stream",
     "text": [
      "{2, 3, 4, 5, 10}\n"
     ]
    }
   ],
   "source": [
    "my_set.discard(100) #nemeta klaidos jei tokios reiksmes nera\n",
    "my_set.discard(100)\n",
    "my_set.discard(100)\n",
    "print(my_set)"
   ]
  },
  {
   "cell_type": "code",
   "execution_count": 11,
   "metadata": {},
   "outputs": [
    {
     "name": "stdout",
     "output_type": "stream",
     "text": [
      "{2, 3, 4, 5, 6, 7, 10, 13, 23}\n",
      "{2, 3, 4, 5, 6, 7, 10, 13, 45, 17, 23}\n"
     ]
    }
   ],
   "source": [
    "my_set.update([13,23,4,5,6,7,])\n",
    "print(my_set)\n",
    "my_set.update((45,17))\n",
    "print(my_set)"
   ]
  },
  {
   "cell_type": "code",
   "execution_count": 12,
   "metadata": {},
   "outputs": [
    {
     "name": "stdout",
     "output_type": "stream",
     "text": [
      "True\n",
      "False\n"
     ]
    }
   ],
   "source": [
    "print(13 in my_set)\n",
    "print (111 in my_set)"
   ]
  },
  {
   "cell_type": "code",
   "execution_count": 23,
   "metadata": {},
   "outputs": [
    {
     "name": "stdout",
     "output_type": "stream",
     "text": [
      "{8, 1, 2}\n",
      "{5, 6}\n",
      "{1, 2, 4, 5, 6, 7, 8, 10, 11}\n"
     ]
    }
   ],
   "source": [
    "my_set_1 ={1,2,5,6,8}\n",
    "my_set_2 ={4,5,6,7,10,11}\n",
    "\n",
    "print(my_set_1.difference(my_set_2))\n",
    "print(my_set_1.intersection(my_set_2))\n",
    "print(my_set_1.union(my_set_2))"
   ]
  },
  {
   "cell_type": "code",
   "execution_count": 22,
   "metadata": {},
   "outputs": [
    {
     "name": "stdout",
     "output_type": "stream",
     "text": [
      "True\n",
      "False\n",
      "False\n"
     ]
    }
   ],
   "source": [
    "my_set_1 ={5,6}\n",
    "my_set_2 ={4,5,6,7,10,11}\n",
    "\n",
    "print(my_set_1.issubset(my_set_2))\n",
    "print(my_set_2.issubset(my_set_1))\n",
    "\n",
    "my_set_1 ={5,6,15}\n",
    "print(my_set_1.issubset(my_set_2))"
   ]
  },
  {
   "cell_type": "code",
   "execution_count": 28,
   "metadata": {},
   "outputs": [
    {
     "name": "stdout",
     "output_type": "stream",
     "text": [
      "{'banana', ('nauja_reiksme', 5), 'cherry', 'apple'}\n"
     ]
    }
   ],
   "source": [
    "#Pridėkite reikšmę\n",
    "\n",
    "fruits = {\"apple\", \"banana\", \"cherry\"}\n",
    "#fruits = {\"apple\", \"banana\", \"cherry\", (\"nauja_reiksme\", 5)}\n",
    "\n",
    "# fruits.add((\"nauja_reiksme\", 5)) - geriau audoti\n",
    "# print(fruits)\n",
    "\n",
    "fruits.update([(\"nauja_reiksme\", 5)]) \n",
    "print(fruits)"
   ]
  },
  {
   "cell_type": "code",
   "execution_count": 29,
   "metadata": {},
   "outputs": [
    {
     "name": "stdout",
     "output_type": "stream",
     "text": [
      "{'banana', 'cherry', 'apple'}\n",
      "{'banana', 'cherry', 'watermelon'}\n"
     ]
    }
   ],
   "source": [
    "#Pakeiskite reikšmę\n",
    "\n",
    "\n",
    "fruits = {\"apple\", \"banana\", \"cherry\"}\n",
    "print(fruits)\n",
    "\n",
    "fruits.remove(\"apple\")\n",
    "fruits.add(\"watermelon\")\n",
    "print(fruits)"
   ]
  },
  {
   "cell_type": "code",
   "execution_count": 38,
   "metadata": {},
   "outputs": [
    {
     "name": "stdout",
     "output_type": "stream",
     "text": [
      "{'banana', 'cherry', 'apple', 'watermelon'}\n",
      "{'mango', 'strawberry', 'apple', 'banana', 'watermelon', 'lime', 'grape', 'lemon', 'cherry'}\n",
      "{'mango', 'strawberry', 'banana', 'watermelon', 'lime', 'grape', 'lemon', 'cherry'}\n",
      "8\n",
      "{'mango', 'strawberry', 'banana', 'watermelon', 'lime', 'grape', 'lemon', 'cherry'}\n",
      "8\n"
     ]
    }
   ],
   "source": [
    "# fruits = {\"apple\", \"banana\", “cherry\"}\n",
    "\n",
    "# Pridėkite ‘watermelon’ reikšmę - fruits.add()\n",
    "# Pridėkite 5 sugalvotus vaisius prie fruits set’o - fruits.update([ ])\n",
    "# Išimkite pasirinką vaisių - fruits.remove(‘apple’), fruits.discard(‘apple’)\n",
    "# Gaukite set’o ilgį - len(fruits)\n",
    "# Pridėkite jau egzistuojantį vaisių - \n",
    "# Gaukite set’o ilgį - len(fruits)\n",
    "\n",
    "\n",
    "fruits = {\"apple\", \"banana\", \"cherry\"}\n",
    "fruits.add(\"watermelon\")\n",
    "print(fruits)\n",
    "fruits.update([\"mango\", \"strawberry\", \"lemon\", \"grape\", \"lime\"])\n",
    "print(fruits)\n",
    "fruits.remove(\"apple\")\n",
    "print(fruits)\n",
    "print(len(fruits))\n",
    "fruits.add(\"watermelon\") #nepasikeicia niekas, nes jau ta reiksme yra\n",
    "print(fruits)\n"
   ]
  },
  {
   "cell_type": "code",
   "execution_count": 39,
   "metadata": {},
   "outputs": [],
   "source": [
    "def mano_funkcija():\n",
    "    print(\"hello world\")"
   ]
  },
  {
   "cell_type": "code",
   "execution_count": 41,
   "metadata": {},
   "outputs": [
    {
     "name": "stdout",
     "output_type": "stream",
     "text": [
      "hello world\n",
      "hello world\n",
      "hello world\n",
      "hello world\n"
     ]
    }
   ],
   "source": [
    "mano_funkcija()\n",
    "mano_funkcija()\n",
    "mano_funkcija()\n",
    "mano_funkcija()"
   ]
  },
  {
   "cell_type": "code",
   "execution_count": 42,
   "metadata": {},
   "outputs": [],
   "source": [
    "def mano_funkcija_2(name):\n",
    "    print(f'Hello {name}, how is your day?')\n",
    "\n",
    "\n",
    "#skaiciu neagalime prideti kaip ir kintamosiuose"
   ]
  },
  {
   "cell_type": "code",
   "execution_count": 44,
   "metadata": {},
   "outputs": [
    {
     "name": "stdout",
     "output_type": "stream",
     "text": [
      "Hello Ernesta, how is your day?\n",
      "Hello Helena, how is your day?\n",
      "Hello Tomas, how is your day?\n"
     ]
    }
   ],
   "source": [
    "mano_funkcija_2(\"Ernesta\") #su vienu positinal argument\n",
    "mano_funkcija_2(\"Helena\")\n",
    "mano_funkcija_2(\"Tomas\")"
   ]
  },
  {
   "cell_type": "code",
   "execution_count": 45,
   "metadata": {},
   "outputs": [],
   "source": [
    "def substract(num_1, num_2):\n",
    "    print(num_1 - num_2)\n",
    "    "
   ]
  },
  {
   "cell_type": "code",
   "execution_count": 51,
   "metadata": {},
   "outputs": [
    {
     "name": "stdout",
     "output_type": "stream",
     "text": [
      "7\n",
      "-7\n",
      "5\n",
      "5\n",
      "None\n"
     ]
    }
   ],
   "source": [
    "substract(12,5)\n",
    "substract(num_2=12,num_1=5)\n",
    "substract(num_1=10,num_2=5)\n",
    "\n",
    "result = substract(num_1=10,num_2=5) # tik atspausdina rezultata\n",
    "print(result)"
   ]
  },
  {
   "cell_type": "code",
   "execution_count": 54,
   "metadata": {},
   "outputs": [],
   "source": [
    "def substract(num_1, num_2):\n",
    "    print(num_1 - num_2)\n",
    "    return (num_1 - num_2) #return grazina reiksme\n",
    "    print(\"Niekda neatspausdina\") # po return nieko nebepaleidzia"
   ]
  },
  {
   "cell_type": "code",
   "execution_count": 55,
   "metadata": {},
   "outputs": [
    {
     "name": "stdout",
     "output_type": "stream",
     "text": [
      "7\n"
     ]
    },
    {
     "data": {
      "text/plain": [
       "7"
      ]
     },
     "execution_count": 55,
     "metadata": {},
     "output_type": "execute_result"
    }
   ],
   "source": [
    "substract(12,5)"
   ]
  },
  {
   "cell_type": "code",
   "execution_count": 63,
   "metadata": {},
   "outputs": [],
   "source": [
    "def add_number (num_1, num_2=10): #optonial arguments, dvi reiksmes\n",
    "    return num_1+num_2"
   ]
  },
  {
   "cell_type": "code",
   "execution_count": 61,
   "metadata": {},
   "outputs": [],
   "source": [
    "def add_number (num_1): #gali tik viena reiksme ivesti\n",
    "    num_2=10\n",
    "    return num_1+num_2"
   ]
  },
  {
   "cell_type": "code",
   "execution_count": 64,
   "metadata": {},
   "outputs": [
    {
     "name": "stdout",
     "output_type": "stream",
     "text": [
      "23\n",
      "13\n",
      "53\n"
     ]
    }
   ],
   "source": [
    "print(add_number(3,20))\n",
    "print(add_number(3))\n",
    "print(add_number(3,50))"
   ]
  },
  {
   "cell_type": "code",
   "execution_count": 65,
   "metadata": {},
   "outputs": [
    {
     "name": "stdout",
     "output_type": "stream",
     "text": [
      "a 1 344\n"
     ]
    }
   ],
   "source": [
    "print(\"a\",1, 344)"
   ]
  },
  {
   "cell_type": "code",
   "execution_count": 70,
   "metadata": {},
   "outputs": [],
   "source": [
    "def add_all_numbers(*args):\n",
    "    print(args)\n",
    "    suma =0\n",
    "    for number in args:\n",
    "        suma+=number\n",
    "    return suma\n",
    "\n",
    "    #return sum(args) - tas pats bus"
   ]
  },
  {
   "cell_type": "code",
   "execution_count": 72,
   "metadata": {},
   "outputs": [
    {
     "name": "stdout",
     "output_type": "stream",
     "text": [
      "(2, 444, 1, 344)\n"
     ]
    },
    {
     "data": {
      "text/plain": [
       "791"
      ]
     },
     "execution_count": 72,
     "metadata": {},
     "output_type": "execute_result"
    }
   ],
   "source": [
    "add_all_numbers(2,444, 1, 344)"
   ]
  },
  {
   "cell_type": "code",
   "execution_count": null,
   "metadata": {},
   "outputs": [],
   "source": [
    "# def bad_function(arg_1, arg_2,arg_3):\n",
    "\n",
    "#     if arg_1>5:\n",
    "#         return 0\n",
    "#     elif arg_2<0:\n",
    "#         return 10"
   ]
  },
  {
   "cell_type": "code",
   "execution_count": null,
   "metadata": {},
   "outputs": [],
   "source": [
    "#def better_function(arg_1, arg_2,arg_3):"
   ]
  },
  {
   "cell_type": "code",
   "execution_count": 78,
   "metadata": {},
   "outputs": [],
   "source": [
    "def say_hello_2 (name, num_1, num_2=10, **kwargs): #keyword argumets\n",
    "    print(f\"hello {name}\")\n",
    "    print (num_1 + num_2)\n",
    "    print(kwargs)\n",
    "    for k,v in kwargs.items():\n",
    "        print(f\"key {k} have a value of {v}\")\n"
   ]
  },
  {
   "cell_type": "code",
   "execution_count": 81,
   "metadata": {},
   "outputs": [
    {
     "name": "stdout",
     "output_type": "stream",
     "text": [
      "hello Ernesta\n",
      "15\n",
      "{'surname': 'tumavice', 'city': 'London'}\n",
      "key surname have a value of tumavice\n",
      "key city have a value of London\n"
     ]
    }
   ],
   "source": [
    "say_hello_2(\"Ernesta\", 5, surname=\"tumavice\", city=\"London\")"
   ]
  },
  {
   "cell_type": "code",
   "execution_count": 82,
   "metadata": {},
   "outputs": [],
   "source": [
    "def mano_funkcija_2(name):\n",
    "    \"\"\"\n",
    "    This function says hello to <name>, and asks how are they\n",
    "    \n",
    "    \"\"\"\n",
    "    #^^^Docstring - aprasome kaip veikia f-ja\n",
    "    print(f'Hello {name}, how is your day?')"
   ]
  },
  {
   "cell_type": "code",
   "execution_count": null,
   "metadata": {},
   "outputs": [],
   "source": [
    "def dummy_function(\n",
    "    argument_1,\n",
    "    ergument_2,\n",
    "    argument_3\n",
    "):\n",
    "    \"\"\"\n",
    "dummy_function\n",
    "\n",
    "    \"\"\"\n",
    "    return\n",
    "    "
   ]
  },
  {
   "cell_type": "code",
   "execution_count": 85,
   "metadata": {},
   "outputs": [
    {
     "name": "stdout",
     "output_type": "stream",
     "text": [
      "bey\n"
     ]
    }
   ],
   "source": [
    "def bey():\n",
    "    print(\"bey\")\n",
    "\n",
    "bey()"
   ]
  },
  {
   "cell_type": "code",
   "execution_count": 86,
   "metadata": {},
   "outputs": [],
   "source": [
    "def myFunction (num_1, num_2):\n",
    "    if (num_1+num_2) %2==0:\n",
    "        return(num_1*num_2)\n",
    "    else:\n",
    "        return (num_1/num_2)\n",
    "\n"
   ]
  },
  {
   "cell_type": "code",
   "execution_count": 88,
   "metadata": {},
   "outputs": [
    {
     "data": {
      "text/plain": [
       "2.0"
      ]
     },
     "execution_count": 88,
     "metadata": {},
     "output_type": "execute_result"
    }
   ],
   "source": [
    "myFunction(10,5)"
   ]
  },
  {
   "cell_type": "code",
   "execution_count": null,
   "metadata": {},
   "outputs": [],
   "source": [
    "def myFunction (num_1, num_2): #tinka ir taip\n",
    "    if (num_1+num_2) %2==0:\n",
    "        return(num_1*num_2)\n",
    "    return (num_1/num_2)"
   ]
  },
  {
   "cell_type": "code",
   "execution_count": 92,
   "metadata": {},
   "outputs": [
    {
     "name": "stdout",
     "output_type": "stream",
     "text": [
      "nana\n"
     ]
    }
   ],
   "source": [
    "def myFunction_2 (name):\n",
    "    print(name)\n",
    "\n",
    "new_func=myFunction_2\n",
    "\n",
    "new_func(\"nana\")"
   ]
  },
  {
   "cell_type": "code",
   "execution_count": 93,
   "metadata": {},
   "outputs": [
    {
     "name": "stdout",
     "output_type": "stream",
     "text": [
      "Labas\n"
     ]
    }
   ],
   "source": [
    "def eilute_(arg = \"\"):\n",
    "    print (arg)\n",
    "\n",
    "naujas_skaiciavimas = eilute_\n",
    "naujas_skaiciavimas(\"Labas\")\n"
   ]
  },
  {
   "cell_type": "code",
   "execution_count": 101,
   "metadata": {},
   "outputs": [],
   "source": [
    "def mano_fja (*args):\n",
    "    print(args)\n",
    "    result_dict = {}\n",
    "    for number in range(1,11):\n",
    "        result_dict[number] = 0\n",
    "        #print(result_dict)\n",
    "        for arg in args:\n",
    "            if arg % number == 0:\n",
    "                result_dict[number] +=1\n",
    "\n",
    "    return result_dict"
   ]
  },
  {
   "cell_type": "code",
   "execution_count": 102,
   "metadata": {},
   "outputs": [
    {
     "name": "stdout",
     "output_type": "stream",
     "text": [
      "(1, 2, 65, 30)\n"
     ]
    },
    {
     "data": {
      "text/plain": [
       "{1: 4, 2: 2, 3: 1, 4: 0, 5: 2, 6: 1, 7: 0, 8: 0, 9: 0, 10: 1}"
      ]
     },
     "execution_count": 102,
     "metadata": {},
     "output_type": "execute_result"
    }
   ],
   "source": [
    "mano_fja(1,2,65,30)"
   ]
  },
  {
   "cell_type": "code",
   "execution_count": 108,
   "metadata": {},
   "outputs": [],
   "source": [
    "text = \"hello world\"\n",
    "\n",
    "def my_split(x):\n",
    "    return x.split(' ')[0]\n"
   ]
  },
  {
   "cell_type": "code",
   "execution_count": 109,
   "metadata": {},
   "outputs": [],
   "source": [
    "my_lambda_split = lambda x: x.split(' ') [0]"
   ]
  },
  {
   "cell_type": "code",
   "execution_count": 119,
   "metadata": {},
   "outputs": [
    {
     "name": "stdout",
     "output_type": "stream",
     "text": [
      "hello\n",
      "hello\n"
     ]
    }
   ],
   "source": [
    "print(my_split(text))\n",
    "print(my_lambda_split(text))"
   ]
  },
  {
   "cell_type": "code",
   "execution_count": 118,
   "metadata": {},
   "outputs": [
    {
     "name": "stdout",
     "output_type": "stream",
     "text": [
      "[['one', 1], ['two', 2], ['ten', 10], ['five', 5]]\n",
      "[['five', 5], ['one', 1], ['ten', 10], ['two', 2]]\n",
      "[['one', 1], ['two', 2], ['five', 5], ['ten', 10]]\n"
     ]
    }
   ],
   "source": [
    "my_list = [[\"one\",1], [\"two\",2], [\"ten\", 10], ['five', 5]]\n",
    "print(my_list)\n",
    "print(sorted(my_list))\n",
    "print(sorted(my_list, key=lambda x: x[1]))"
   ]
  },
  {
   "cell_type": "code",
   "execution_count": 123,
   "metadata": {},
   "outputs": [
    {
     "name": "stdout",
     "output_type": "stream",
     "text": [
      "[['one', 1], ['two', 2], ['ten', 10], ['five', 5], [0, 'zero']]\n",
      "[[0, 'zero'], ['one', 1], ['two', 2], ['five', 5], ['ten', 10]]\n"
     ]
    }
   ],
   "source": [
    "my_list = [[\"one\",1], [\"two\",2], [\"ten\", 10], ['five', 5], [0, 'zero']]\n",
    "print(my_list)\n",
    "#print(sorted(my_list))\n",
    "print(sorted(my_list, key=lambda x: x[1] if isinstance(x[1], int) else 0))"
   ]
  },
  {
   "cell_type": "code",
   "execution_count": 121,
   "metadata": {},
   "outputs": [
    {
     "name": "stdout",
     "output_type": "stream",
     "text": [
      "['a', 'me', 'hello', 'very_long_world']\n",
      "['very_long_world', 'hello', 'me', 'a']\n"
     ]
    }
   ],
   "source": [
    "my_words = ['a', 'hello', 'me','very_long_world']\n",
    "print(sorted(my_words, key=lambda x: len(x)))\n",
    "print(sorted(my_words, key=lambda x: len(x), reverse=True))"
   ]
  },
  {
   "cell_type": "code",
   "execution_count": 125,
   "metadata": {},
   "outputs": [
    {
     "name": "stdout",
     "output_type": "stream",
     "text": [
      "Your name is ffff\n"
     ]
    }
   ],
   "source": [
    "name = None\n",
    "\n",
    "while name is None:\n",
    "    user_input = input('What is your name?')\n",
    "    if user_input:\n",
    "        name=user_input\n",
    "    else:\n",
    "        print(\"No input received\")\n",
    "\n",
    "print('Your name is', name)\n"
   ]
  },
  {
   "cell_type": "code",
   "execution_count": null,
   "metadata": {},
   "outputs": [],
   "source": [
    "# while True: - begalinis ciklas\n",
    "#     print(\"To infinity and beyond\") to stop runnung ctrl+c"
   ]
  },
  {
   "cell_type": "code",
   "execution_count": 129,
   "metadata": {},
   "outputs": [
    {
     "name": "stdout",
     "output_type": "stream",
     "text": [
      "number 1 is smaller than 5. Try again\n",
      "number 2 is smaller than 5. Try again\n",
      "number 2 is smaller than 5. Try again\n",
      "number 3 is smaller than 5. Try again\n",
      "number 4 is smaller than 5. Try again\n",
      "number 5 is smaller than 5. Try again\n",
      "while loop ended\n"
     ]
    }
   ],
   "source": [
    "while True:\n",
    "    user_input = input('enter a number')\n",
    "    if int(user_input)>5:\n",
    "        break\n",
    "    print(f'number {user_input} is smaller than 5. Try again')\n",
    "print('while loop ended')"
   ]
  }
 ],
 "metadata": {
  "interpreter": {
   "hash": "6b66f59a3f4bed3d737f557ac50d309cac13919fa3d2e68321e2748bd52e6d7e"
  },
  "kernelspec": {
   "display_name": "Python 3.10.2 64-bit",
   "language": "python",
   "name": "python3"
  },
  "language_info": {
   "codemirror_mode": {
    "name": "ipython",
    "version": 3
   },
   "file_extension": ".py",
   "mimetype": "text/x-python",
   "name": "python",
   "nbconvert_exporter": "python",
   "pygments_lexer": "ipython3",
   "version": "3.10.2"
  },
  "orig_nbformat": 4
 },
 "nbformat": 4,
 "nbformat_minor": 2
}
