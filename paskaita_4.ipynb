{
 "cells": [
  {
   "cell_type": "code",
   "execution_count": 2,
   "metadata": {},
   "outputs": [],
   "source": [
    "my_set ={1,2,3,4,5,5,5,5}"
   ]
  },
  {
   "cell_type": "code",
   "execution_count": 2,
   "metadata": {},
   "outputs": [
    {
     "name": "stdout",
     "output_type": "stream",
     "text": [
      "{1, 2, 3, 4, 5}\n"
     ]
    }
   ],
   "source": [
    "print(my_set) # pakeitus lista i seta, iskart isfiltruoja pasikartojancias reikmes, setai neturi indeksu"
   ]
  },
  {
   "cell_type": "code",
   "execution_count": 3,
   "metadata": {},
   "outputs": [
    {
     "name": "stdout",
     "output_type": "stream",
     "text": [
      "{1, 2, 3, 4, 5, 10}\n"
     ]
    }
   ],
   "source": [
    "my_set.add(10)\n",
    "print(my_set)"
   ]
  },
  {
   "cell_type": "code",
   "execution_count": null,
   "metadata": {},
   "outputs": [],
   "source": [
    "#set is mutable \n",
    "my_set.copy() arba deep.copy"
   ]
  },
  {
   "cell_type": "code",
   "execution_count": 5,
   "metadata": {},
   "outputs": [
    {
     "name": "stdout",
     "output_type": "stream",
     "text": [
      "{1, 2, 3, 4, 5, 10, 140}\n",
      "{2, 3, 4, 5, 10, 140}\n"
     ]
    }
   ],
   "source": [
    "my_set.add(140)\n",
    "print(my_set)\n",
    "my_set.pop() #meta klaida jei tokios reiksmes nera\n",
    "print(my_set)"
   ]
  },
  {
   "cell_type": "code",
   "execution_count": 6,
   "metadata": {},
   "outputs": [
    {
     "name": "stdout",
     "output_type": "stream",
     "text": [
      "{2, 3, 4, 5, 10}\n"
     ]
    }
   ],
   "source": [
    "my_set.remove(140) # jei dar karta bandyciau istrinti, tai mes klaida, todel reikia zinoti kad jis egzistuoja\n",
    "print(my_set)"
   ]
  },
  {
   "cell_type": "code",
   "execution_count": 9,
   "metadata": {},
   "outputs": [
    {
     "name": "stdout",
     "output_type": "stream",
     "text": [
      "{2, 3, 4, 5, 10}\n"
     ]
    }
   ],
   "source": [
    "my_set.discard(100) #nemeta klaidos jei tokios reiksmes nera\n",
    "my_set.discard(100)\n",
    "my_set.discard(100)\n",
    "print(my_set)"
   ]
  },
  {
   "cell_type": "code",
   "execution_count": 6,
   "metadata": {},
   "outputs": [
    {
     "name": "stdout",
     "output_type": "stream",
     "text": [
      "{2, 3, 4, 5, 6, 7, 10, 140, 13, 23}\n",
      "{2, 3, 4, 5, 6, 7, 10, 140, 13, 17, 23, 45}\n"
     ]
    }
   ],
   "source": [
    "my_set.update([13,23,4,5,6,7,])\n",
    "print(my_set)\n",
    "my_set.update((45,17))\n",
    "print(my_set)"
   ]
  },
  {
   "cell_type": "code",
   "execution_count": 12,
   "metadata": {},
   "outputs": [
    {
     "name": "stdout",
     "output_type": "stream",
     "text": [
      "True\n",
      "False\n"
     ]
    }
   ],
   "source": [
    "print(13 in my_set)\n",
    "print (111 in my_set)"
   ]
  },
  {
   "cell_type": "code",
   "execution_count": 23,
   "metadata": {},
   "outputs": [
    {
     "name": "stdout",
     "output_type": "stream",
     "text": [
      "{8, 1, 2}\n",
      "{5, 6}\n",
      "{1, 2, 4, 5, 6, 7, 8, 10, 11}\n"
     ]
    }
   ],
   "source": [
    "my_set_1 ={1,2,5,6,8}\n",
    "my_set_2 ={4,5,6,7,10,11}\n",
    "\n",
    "print(my_set_1.difference(my_set_2))\n",
    "print(my_set_1.intersection(my_set_2))\n",
    "print(my_set_1.union(my_set_2))"
   ]
  },
  {
   "cell_type": "code",
   "execution_count": 7,
   "metadata": {},
   "outputs": [
    {
     "name": "stdout",
     "output_type": "stream",
     "text": [
      "True\n",
      "True\n",
      "False\n",
      "False\n"
     ]
    }
   ],
   "source": [
    "my_set_1 = {5,6}\n",
    "my_set_2 = {4,5,6,7,10,11}\n",
    "print (my_set_1.issubset(my_set_2) )\n",
    "print (my_set_2.issuperset(my_set_1 ))\n",
    "my_set_1 = {5,6,15}\n",
    "print (my_set_1.issubset(my_set_2) )\n",
    "print (my_set_2.issuperset(my_set_1 ))"
   ]
  },
  {
   "cell_type": "code",
   "execution_count": 9,
   "metadata": {},
   "outputs": [
    {
     "name": "stdout",
     "output_type": "stream",
     "text": [
      "{'apple', ('nauja_reiksme', 5), 'cherry', 'banana'}\n"
     ]
    }
   ],
   "source": [
    "#Pridėkite reikšmę\n",
    "\n",
    "fruits = {\"apple\", \"banana\", \"cherry\"}\n",
    "#fruits = {\"apple\", \"banana\", \"cherry\", (\"nauja_reiksme\", 5)}\n",
    "\n",
    "# fruits.add((\"nauja_reiksme\", 5)) - geriau naudoti\n",
    "# print(fruits)\n",
    "\n",
    "fruits.update([(\"nauja_reiksme\", 5)]) \n",
    "print(fruits)"
   ]
  },
  {
   "cell_type": "code",
   "execution_count": 29,
   "metadata": {},
   "outputs": [
    {
     "name": "stdout",
     "output_type": "stream",
     "text": [
      "{'banana', 'cherry', 'apple'}\n",
      "{'banana', 'cherry', 'watermelon'}\n"
     ]
    }
   ],
   "source": [
    "#Pakeiskite reikšmę\n",
    "\n",
    "\n",
    "fruits = {\"apple\", \"banana\", \"cherry\"}\n",
    "print(fruits)\n",
    "\n",
    "fruits.remove(\"apple\")\n",
    "fruits.add(\"watermelon\")\n",
    "print(fruits)"
   ]
  },
  {
   "cell_type": "code",
   "execution_count": 10,
   "metadata": {},
   "outputs": [
    {
     "name": "stdout",
     "output_type": "stream",
     "text": [
      "{'apple', 'watermelon', 'cherry', 'banana'}\n",
      "{'apple', 'cherry', 'banana', 'lemon', 'watermelon', 'lime', 'grape', 'mango', 'strawberry'}\n",
      "{'cherry', 'banana', 'lemon', 'watermelon', 'lime', 'grape', 'mango', 'strawberry'}\n",
      "8\n",
      "{'cherry', 'banana', 'lemon', 'watermelon', 'lime', 'grape', 'mango', 'strawberry'}\n"
     ]
    }
   ],
   "source": [
    "# fruits = {\"apple\", \"banana\", “cherry\"}\n",
    "\n",
    "# Pridėkite ‘watermelon’ reikšmę - fruits.add()\n",
    "# Pridėkite 5 sugalvotus vaisius prie fruits set’o - fruits.update([ ])\n",
    "# Išimkite pasirinką vaisių - fruits.remove(‘apple’), fruits.discard(‘apple’)\n",
    "# Gaukite set’o ilgį - len(fruits)\n",
    "# Pridėkite jau egzistuojantį vaisių - \n",
    "# Gaukite set’o ilgį - len(fruits)\n",
    "\n",
    "\n",
    "fruits = {\"apple\", \"banana\", \"cherry\"}\n",
    "fruits.add(\"watermelon\")\n",
    "print(fruits)\n",
    "fruits.update((\"mango\", \"strawberry\", \"lemon\", \"grape\", \"lime\"))\n",
    "print(fruits)\n",
    "fruits.remove(\"apple\")\n",
    "print(fruits)\n",
    "print(len(fruits))\n",
    "fruits.add(\"watermelon\") #nepasikeicia niekas, nes jau ta reiksme yra\n",
    "print(fruits)\n"
   ]
  },
  {
   "cell_type": "code",
   "execution_count": 39,
   "metadata": {},
   "outputs": [],
   "source": [
    "def mano_funkcija():\n",
    "    print(\"hello world\")"
   ]
  },
  {
   "cell_type": "code",
   "execution_count": 41,
   "metadata": {},
   "outputs": [
    {
     "name": "stdout",
     "output_type": "stream",
     "text": [
      "hello world\n",
      "hello world\n",
      "hello world\n",
      "hello world\n"
     ]
    }
   ],
   "source": [
    "mano_funkcija()\n",
    "mano_funkcija()\n",
    "mano_funkcija()\n",
    "mano_funkcija()"
   ]
  },
  {
   "cell_type": "code",
   "execution_count": 42,
   "metadata": {},
   "outputs": [],
   "source": [
    "def mano_funkcija_2(name):\n",
    "    print(f'Hello {name}, how is your day?')\n",
    "\n",
    "\n",
    "#skaiciu neagalime prideti kaip ir kintamosiuose"
   ]
  },
  {
   "cell_type": "code",
   "execution_count": 44,
   "metadata": {},
   "outputs": [
    {
     "name": "stdout",
     "output_type": "stream",
     "text": [
      "Hello Ernesta, how is your day?\n",
      "Hello Helena, how is your day?\n",
      "Hello Tomas, how is your day?\n"
     ]
    }
   ],
   "source": [
    "mano_funkcija_2(\"Ernesta\") #su vienu positinal argument\n",
    "mano_funkcija_2(\"Helena\")\n",
    "mano_funkcija_2(\"Tomas\")"
   ]
  },
  {
   "cell_type": "code",
   "execution_count": 12,
   "metadata": {},
   "outputs": [],
   "source": [
    "def substract(num_1, num_2): #poziciniai argumentai\n",
    "    print(num_1 - num_2)\n",
    "    "
   ]
  },
  {
   "cell_type": "code",
   "execution_count": 14,
   "metadata": {},
   "outputs": [
    {
     "name": "stdout",
     "output_type": "stream",
     "text": [
      "7\n",
      "-7\n",
      "5\n"
     ]
    }
   ],
   "source": [
    "substract(12,5)\n",
    "substract(num_2=12,num_1=5) #galime nurodyti koks skaicius kam priklauso\n",
    "substract(num_1=10,num_2=5)\n"
   ]
  },
  {
   "cell_type": "code",
   "execution_count": 22,
   "metadata": {},
   "outputs": [
    {
     "name": "stdout",
     "output_type": "stream",
     "text": [
      "5\n",
      "5\n"
     ]
    }
   ],
   "source": [
    "result = substract(num_1=10,num_2=5) # jei priskiriamae rezultata, tik atspausdina rezultata\n",
    "print(result) #o su print f-ja nieko nerodo"
   ]
  },
  {
   "cell_type": "code",
   "execution_count": 20,
   "metadata": {},
   "outputs": [],
   "source": [
    "def substract(num_1, num_2):\n",
    "    print(num_1 - num_2)\n",
    "    return (num_1 - num_2) #return grazina reiksme\n",
    "    print(\"Niekda neatspausdina\") # po return nieko nebepaleidzia"
   ]
  },
  {
   "cell_type": "code",
   "execution_count": 21,
   "metadata": {},
   "outputs": [
    {
     "name": "stdout",
     "output_type": "stream",
     "text": [
      "5\n"
     ]
    }
   ],
   "source": [
    "result = substract(num_1=10,num_2=5)"
   ]
  },
  {
   "cell_type": "code",
   "execution_count": 30,
   "metadata": {},
   "outputs": [],
   "source": [
    "def add_number (num_1, num_2=10): #optonial arguments, dvi reiksmes\n",
    "    return num_1+num_2"
   ]
  },
  {
   "cell_type": "code",
   "execution_count": 27,
   "metadata": {},
   "outputs": [],
   "source": [
    "def add_number (num_1): #gali tik viena reiksme ivesti\n",
    "    num_2=10\n",
    "    return num_1+num_2"
   ]
  },
  {
   "cell_type": "code",
   "execution_count": 31,
   "metadata": {},
   "outputs": [
    {
     "name": "stdout",
     "output_type": "stream",
     "text": [
      "23\n",
      "13\n",
      "53\n"
     ]
    }
   ],
   "source": [
    "print(add_number(3,20))\n",
    "print(add_number(3))\n",
    "print(add_number(3,50))"
   ]
  },
  {
   "cell_type": "code",
   "execution_count": 32,
   "metadata": {},
   "outputs": [
    {
     "name": "stdout",
     "output_type": "stream",
     "text": [
      "a b 1 344\n"
     ]
    }
   ],
   "source": [
    "print(\"a\", \"b\", 1, 344)"
   ]
  },
  {
   "cell_type": "code",
   "execution_count": 35,
   "metadata": {},
   "outputs": [],
   "source": [
    "def add_all_numbers(*args):\n",
    "    print(args)\n",
    "    suma =0\n",
    "    for number in args:\n",
    "        suma+=number\n",
    "    return suma\n",
    "\n",
    "    #return sum(args) - tas pats bus"
   ]
  },
  {
   "cell_type": "code",
   "execution_count": 36,
   "metadata": {},
   "outputs": [
    {
     "name": "stdout",
     "output_type": "stream",
     "text": [
      "(5, 6, 1, 20, -10)\n"
     ]
    },
    {
     "data": {
      "text/plain": [
       "22"
      ]
     },
     "execution_count": 36,
     "metadata": {},
     "output_type": "execute_result"
    }
   ],
   "source": [
    "add_all_numbers(5,6, 1, 20, -10)"
   ]
  },
  {
   "cell_type": "code",
   "execution_count": 37,
   "metadata": {},
   "outputs": [],
   "source": [
    "def bad_function(arg_1,arg_2,arg_3):\n",
    "    if arg_1 >5:\n",
    "        if arg_3 > 0:\n",
    "            return 10 #prie return rasyti vienodo pobudzio rezultatus, pvz skaiciai ar boolean\n",
    "        else:\n",
    "            return 0\n",
    "    elif arg_2 < 0:\n",
    "        print (arg_2)\n",
    "        return 10\n",
    "    else:\n",
    "        return 100\n",
    "    "
   ]
  },
  {
   "cell_type": "code",
   "execution_count": 38,
   "metadata": {},
   "outputs": [
    {
     "data": {
      "text/plain": [
       "10"
      ]
     },
     "execution_count": 38,
     "metadata": {},
     "output_type": "execute_result"
    }
   ],
   "source": [
    "bad_function(10,5,2)"
   ]
  },
  {
   "cell_type": "code",
   "execution_count": 39,
   "metadata": {},
   "outputs": [],
   "source": [
    "def better_function(arg_1,arg_2,arg_3): #isivesti kintamaji pvz kaip None\n",
    "    result = None\n",
    "    if arg_1 >5:\n",
    "        if arg_3 > 0:\n",
    "            result = 10\n",
    "        else:\n",
    "            result = 0\n",
    "    elif arg_2 < 0:\n",
    "        print (arg_2)\n",
    "        result = 10\n",
    "    else:\n",
    "        result = 100\n",
    "    print (arg_2)\n",
    "    print (result)\n",
    "    return result"
   ]
  },
  {
   "cell_type": "code",
   "execution_count": 40,
   "metadata": {},
   "outputs": [
    {
     "name": "stdout",
     "output_type": "stream",
     "text": [
      "5\n",
      "10\n"
     ]
    },
    {
     "data": {
      "text/plain": [
       "10"
      ]
     },
     "execution_count": 40,
     "metadata": {},
     "output_type": "execute_result"
    }
   ],
   "source": [
    "better_function(10,5,2)"
   ]
  },
  {
   "cell_type": "code",
   "execution_count": 41,
   "metadata": {},
   "outputs": [],
   "source": [
    "def say_hello_2 (name, num_1, num_2=10, **kwargs): #keyword argumets\n",
    "    print(f\"hello {name}\")\n",
    "    print (num_1 + num_2)\n",
    "    print(kwargs)\n",
    "    for k,v in kwargs.items():\n",
    "        print(f\"key {k} have a value of {v}\")\n"
   ]
  },
  {
   "cell_type": "code",
   "execution_count": 42,
   "metadata": {},
   "outputs": [
    {
     "name": "stdout",
     "output_type": "stream",
     "text": [
      "hello Ernesta\n",
      "15\n",
      "{'surname': 'tumavice', 'city': 'London'}\n",
      "key surname have a value of tumavice\n",
      "key city have a value of London\n"
     ]
    }
   ],
   "source": [
    "say_hello_2(\"Ernesta\", 5, surname=\"tumavice\", city=\"London\")"
   ]
  },
  {
   "cell_type": "code",
   "execution_count": 44,
   "metadata": {},
   "outputs": [],
   "source": [
    "def mano_funkcija_2(name):\n",
    "    \"\"\"\n",
    "    This function says hello to <name>, and asks how are they\n",
    "    \n",
    "    \"\"\"\n",
    "    #^^^Docstring - aprasome kaip veikia f-ja\n",
    "    print(f'Hello {name}, how is your day?')"
   ]
  },
  {
   "cell_type": "code",
   "execution_count": 45,
   "metadata": {},
   "outputs": [
    {
     "name": "stdout",
     "output_type": "stream",
     "text": [
      "Hello la, how is your day?\n"
     ]
    }
   ],
   "source": [
    "mano_funkcija_2(\"la\")"
   ]
  },
  {
   "cell_type": "code",
   "execution_count": null,
   "metadata": {},
   "outputs": [],
   "source": [
    "def dummy_function(\n",
    "    argument_1,\n",
    "    argument_2,\n",
    "    argument_3,\n",
    "    optional_argument = 10\n",
    "):\n",
    "    \"\"\"\n",
    "    dummy function\n",
    "    \"\"\"\n",
    "    return 0\n",
    "    "
   ]
  },
  {
   "cell_type": "code",
   "execution_count": 46,
   "metadata": {},
   "outputs": [
    {
     "name": "stdout",
     "output_type": "stream",
     "text": [
      "bye\n"
     ]
    }
   ],
   "source": [
    "# bye() # error, function not defined\n",
    "\n",
    "def bye():\n",
    "    print ('bye')\n",
    "\n",
    "bye()"
   ]
  },
  {
   "cell_type": "code",
   "execution_count": 52,
   "metadata": {},
   "outputs": [],
   "source": [
    "# Deklaruokite funkciją kuri priima du skaičius, jeigu skaičių suma \n",
    "# lyginė, grąžinkite jų sandaugą, jei ne, padalinkite skaičius vieną iš kito\n",
    "\n",
    "\n",
    "def myFunction (num_1, num_2):\n",
    "    if (num_1+num_2) %2==0:\n",
    "        return(num_1*num_2)\n",
    "    else:\n",
    "        return (num_1/num_2)\n",
    "\n"
   ]
  },
  {
   "cell_type": "code",
   "execution_count": 53,
   "metadata": {},
   "outputs": [
    {
     "data": {
      "text/plain": [
       "12"
      ]
     },
     "execution_count": 53,
     "metadata": {},
     "output_type": "execute_result"
    }
   ],
   "source": [
    "myFunction(2,6)"
   ]
  },
  {
   "cell_type": "code",
   "execution_count": null,
   "metadata": {},
   "outputs": [],
   "source": [
    "def myFunction (num_1, num_2): #tinka ir taip\n",
    "    if (num_1+num_2) %2==0:\n",
    "        return(num_1*num_2)\n",
    "    return (num_1/num_2)"
   ]
  },
  {
   "cell_type": "code",
   "execution_count": 57,
   "metadata": {},
   "outputs": [
    {
     "name": "stdout",
     "output_type": "stream",
     "text": [
      "nana\n"
     ]
    }
   ],
   "source": [
    "# Deklaruokite  funkciją, kuri priima vieną string \n",
    "# tipo kintamąjį, priskirkitę funkciją naujam kintamajam \n",
    "# ir iškvieskite ją per naująjį kintamąjį\n",
    "\n",
    "\n",
    "def myFunction_2 (name):\n",
    "    print(name)\n",
    "\n",
    "new_func=myFunction_2\n",
    "\n",
    "new_func(\"nana\")\n",
    "\n"
   ]
  },
  {
   "cell_type": "code",
   "execution_count": 93,
   "metadata": {},
   "outputs": [
    {
     "name": "stdout",
     "output_type": "stream",
     "text": [
      "Labas\n"
     ]
    }
   ],
   "source": [
    "def eilute_(arg = \"\"):\n",
    "    print (arg)\n",
    "\n",
    "naujas_skaiciavimas = eilute_\n",
    "naujas_skaiciavimas(\"Labas\")\n"
   ]
  },
  {
   "cell_type": "code",
   "execution_count": 68,
   "metadata": {},
   "outputs": [],
   "source": [
    "#Kiek skaiciu dalinasi nuo 1 iki 10 imtinai?\n",
    "\n",
    "def mano_fja (*args):\n",
    "    print(args)\n",
    "    result_dict = {}\n",
    "    for number in range(1,11):\n",
    "        result_dict[number] = 0 # i result_dict reikia ivesti raktazodi - number, o raktazodziui reikia vertes, todel = 0\n",
    "        #print(result_dict)\n",
    "        for arg in args:\n",
    "            if arg % number == 0:\n",
    "                result_dict[number] +=1\n",
    "\n",
    "    return result_dict"
   ]
  },
  {
   "cell_type": "code",
   "execution_count": 69,
   "metadata": {},
   "outputs": [
    {
     "name": "stdout",
     "output_type": "stream",
     "text": [
      "(1, 2, 65, 30)\n"
     ]
    },
    {
     "data": {
      "text/plain": [
       "{1: 4, 2: 2, 3: 1, 4: 0, 5: 2, 6: 1, 7: 0, 8: 0, 9: 0, 10: 1}"
      ]
     },
     "execution_count": 69,
     "metadata": {},
     "output_type": "execute_result"
    }
   ],
   "source": [
    "mano_fja(1,2,65,30)"
   ]
  },
  {
   "cell_type": "code",
   "execution_count": 108,
   "metadata": {},
   "outputs": [],
   "source": [
    "text = \"hello world\"\n",
    "\n",
    "def my_split(x):\n",
    "    return x.split(' ')[0]\n"
   ]
  },
  {
   "cell_type": "code",
   "execution_count": 109,
   "metadata": {},
   "outputs": [],
   "source": [
    "my_lambda_split = lambda x: x.split(' ') [0]"
   ]
  },
  {
   "cell_type": "code",
   "execution_count": 119,
   "metadata": {},
   "outputs": [
    {
     "name": "stdout",
     "output_type": "stream",
     "text": [
      "hello\n",
      "hello\n"
     ]
    }
   ],
   "source": [
    "print(my_split(text))\n",
    "print(my_lambda_split(text))"
   ]
  },
  {
   "cell_type": "code",
   "execution_count": 118,
   "metadata": {},
   "outputs": [
    {
     "name": "stdout",
     "output_type": "stream",
     "text": [
      "[['one', 1], ['two', 2], ['ten', 10], ['five', 5]]\n",
      "[['five', 5], ['one', 1], ['ten', 10], ['two', 2]]\n",
      "[['one', 1], ['two', 2], ['five', 5], ['ten', 10]]\n"
     ]
    }
   ],
   "source": [
    "my_list = [[\"one\",1], [\"two\",2], [\"ten\", 10], ['five', 5]]\n",
    "print(my_list)\n",
    "print(sorted(my_list))\n",
    "print(sorted(my_list, key=lambda x: x[1]))"
   ]
  },
  {
   "cell_type": "code",
   "execution_count": 123,
   "metadata": {},
   "outputs": [
    {
     "name": "stdout",
     "output_type": "stream",
     "text": [
      "[['one', 1], ['two', 2], ['ten', 10], ['five', 5], [0, 'zero']]\n",
      "[[0, 'zero'], ['one', 1], ['two', 2], ['five', 5], ['ten', 10]]\n"
     ]
    }
   ],
   "source": [
    "my_list = [[\"one\",1], [\"two\",2], [\"ten\", 10], ['five', 5], [0, 'zero']]\n",
    "print(my_list)\n",
    "#print(sorted(my_list))\n",
    "print(sorted(my_list, key=lambda x: x[1] if isinstance(x[1], int) else 0))"
   ]
  },
  {
   "cell_type": "code",
   "execution_count": 81,
   "metadata": {},
   "outputs": [
    {
     "name": "stdout",
     "output_type": "stream",
     "text": [
      "['a', 'me', 'hello', 'very_long_world']\n",
      "['very_long_world', 'hello', 'me', 'a']\n"
     ]
    }
   ],
   "source": [
    "my_words = ['a', 'hello', 'me','very_long_world']\n",
    "print(sorted(my_words, key=lambda x: len(x)))\n",
    "print(sorted(my_words, key=lambda x: len(x), reverse=True))\n"
   ]
  },
  {
   "cell_type": "code",
   "execution_count": 83,
   "metadata": {},
   "outputs": [
    {
     "name": "stdout",
     "output_type": "stream",
     "text": [
      "Your name is ernesta\n"
     ]
    }
   ],
   "source": [
    "name = None\n",
    "\n",
    "while name is None:\n",
    "    user_input = input('What is your name?')\n",
    "    if user_input:\n",
    "        name=user_input\n",
    "    else:\n",
    "        print(\"No input received\")\n",
    "\n",
    "print('Your name is', name)\n"
   ]
  },
  {
   "cell_type": "code",
   "execution_count": null,
   "metadata": {},
   "outputs": [],
   "source": [
    "# while True: - begalinis ciklas\n",
    "#     print(\"To infinity and beyond\") to stop runnung ctrl+c\n",
    "#for loop - zinom kiek bus nariu\n",
    "#while loop - nezinom kiek mus reiks naudoti si cikla"
   ]
  },
  {
   "cell_type": "code",
   "execution_count": 129,
   "metadata": {},
   "outputs": [
    {
     "name": "stdout",
     "output_type": "stream",
     "text": [
      "number 1 is smaller than 5. Try again\n",
      "number 2 is smaller than 5. Try again\n",
      "number 2 is smaller than 5. Try again\n",
      "number 3 is smaller than 5. Try again\n",
      "number 4 is smaller than 5. Try again\n",
      "number 5 is smaller than 5. Try again\n",
      "while loop ended\n"
     ]
    }
   ],
   "source": [
    "while True:\n",
    "    user_input = input('enter a number')\n",
    "    if int(user_input)>5:\n",
    "        break\n",
    "    print(f'number {user_input} is smaller than 5. Try again')\n",
    "print('while loop ended')"
   ]
  },
  {
   "cell_type": "code",
   "execution_count": 90,
   "metadata": {},
   "outputs": [
    {
     "name": "stdout",
     "output_type": "stream",
     "text": [
      "0\n",
      "1\n",
      "2\n",
      "3\n",
      "4\n"
     ]
    }
   ],
   "source": [
    "x=\"žodis\"\n",
    "\n",
    "for number in range(5):\n",
    "    print(number)\n"
   ]
  },
  {
   "cell_type": "code",
   "execution_count": 5,
   "metadata": {},
   "outputs": [
    {
     "name": "stdout",
     "output_type": "stream",
     "text": [
      "2018-08-14 10:46:10\n"
     ]
    }
   ],
   "source": [
    "from datetime import datetime\n",
    "\n",
    "date_txt_2 = '2018/08/14 10:46:10'\n",
    "date = datetime.strptime(date_txt_2, '%Y/%m/%d %H:%M:%S')\n",
    "print(date)"
   ]
  }
 ],
 "metadata": {
  "interpreter": {
   "hash": "6b66f59a3f4bed3d737f557ac50d309cac13919fa3d2e68321e2748bd52e6d7e"
  },
  "kernelspec": {
   "display_name": "Python 3.10.2 64-bit",
   "language": "python",
   "name": "python3"
  },
  "language_info": {
   "codemirror_mode": {
    "name": "ipython",
    "version": 3
   },
   "file_extension": ".py",
   "mimetype": "text/x-python",
   "name": "python",
   "nbconvert_exporter": "python",
   "pygments_lexer": "ipython3",
   "version": "3.10.2"
  },
  "orig_nbformat": 4
 },
 "nbformat": 4,
 "nbformat_minor": 2
}
