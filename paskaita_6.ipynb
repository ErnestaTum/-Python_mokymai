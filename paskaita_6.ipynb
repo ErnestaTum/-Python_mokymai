{
 "cells": [
  {
   "cell_type": "code",
   "execution_count": 1,
   "metadata": {},
   "outputs": [
    {
     "name": "stdout",
     "output_type": "stream",
     "text": [
      "Requirement already satisfied: numpy in c:\\users\\arunas\\appdata\\local\\programs\\python\\python310\\lib\\site-packages (1.22.2)\n",
      "Note: you may need to restart the kernel to use updated packages.\n"
     ]
    },
    {
     "name": "stderr",
     "output_type": "stream",
     "text": [
      "WARNING: You are using pip version 21.2.4; however, version 22.0.3 is available.\n",
      "You should consider upgrading via the 'C:\\Users\\arunas\\AppData\\Local\\Programs\\Python\\Python310\\python.exe -m pip install --upgrade pip' command.\n"
     ]
    }
   ],
   "source": [
    "pip install numpy"
   ]
  },
  {
   "cell_type": "code",
   "execution_count": 2,
   "metadata": {},
   "outputs": [],
   "source": [
    "import numpy as np\n"
   ]
  },
  {
   "cell_type": "code",
   "execution_count": 10,
   "metadata": {},
   "outputs": [
    {
     "name": "stdout",
     "output_type": "stream",
     "text": [
      "[[1, 2, 3, 4], [5, 6, 7, 8], [9, 10, 11, 12]]\n",
      "6\n",
      "[2, 6, 10]\n"
     ]
    }
   ],
   "source": [
    "a_list = [\n",
    "    [1,2,3,4],\n",
    "    [5,6,7,8],\n",
    "    [9,10,11,12]\n",
    "]\n",
    "\n",
    "print(a_list)\n",
    "print(a_list[1][1])\n",
    "print( [row[1] for row in a_list])"
   ]
  },
  {
   "cell_type": "code",
   "execution_count": 14,
   "metadata": {},
   "outputs": [
    {
     "name": "stdout",
     "output_type": "stream",
     "text": [
      "[[ 1  2  3  4]\n",
      " [ 5  6  7  8]\n",
      " [ 9 10 11 12]]\n",
      "<class 'numpy.ndarray'>\n",
      "6\n",
      "6\n",
      "[ 2  6 10]\n",
      "[2 6]\n",
      "[[2 3]\n",
      " [6 7]]\n"
     ]
    }
   ],
   "source": [
    "a_np = np.array( [\n",
    "    [1,2,3,4],\n",
    "    [5,6,7,8],\n",
    "    [9,10,11,12]\n",
    "]\n",
    ")\n",
    "\n",
    "print(a_np)\n",
    "print(type(a_np))\n",
    "print(a_np[1][1]) # pirma eile ir pirmas stulpelis - row index ir column index\n",
    "print(a_np[1, 1]) #toks pat rezultatas\n",
    "print(a_np[:, 1])\n",
    "print(a_np[:2, 1])\n",
    "print(a_np[:2, 1:3])\n"
   ]
  },
  {
   "cell_type": "code",
   "execution_count": 20,
   "metadata": {},
   "outputs": [
    {
     "name": "stdout",
     "output_type": "stream",
     "text": [
      "(3, 4)\n",
      "2\n"
     ]
    }
   ],
   "source": [
    "print(a_np.shape) #pirmos asies dydis # 2D array\n",
    "print(len(a_np.shape))"
   ]
  },
  {
   "cell_type": "code",
   "execution_count": 16,
   "metadata": {},
   "outputs": [],
   "source": [
    "array_1d = np.array( [1, 5, 55,6,7,8,9,1]) # 1D array"
   ]
  },
  {
   "cell_type": "code",
   "execution_count": 21,
   "metadata": {},
   "outputs": [
    {
     "name": "stdout",
     "output_type": "stream",
     "text": [
      "(8,)\n",
      "1\n",
      "[ 1  5 55  6  7  8  9  1]\n"
     ]
    }
   ],
   "source": [
    "print(array_1d.shape)\n",
    "print(len(array_1d.shape))\n",
    "print(array_1d)"
   ]
  },
  {
   "cell_type": "code",
   "execution_count": 26,
   "metadata": {},
   "outputs": [],
   "source": [
    "arr_3d = np.array( [\n",
    "    [\n",
    "        [1,2,3],\n",
    "        [4,5,6]\n",
    "    ],\n",
    "    [\n",
    "        [1,2,3],\n",
    "        [4,5,6] \n",
    "        ]\n",
    "]\n",
    ")\n",
    "\n",
    "\n",
    "\n"
   ]
  },
  {
   "cell_type": "code",
   "execution_count": 25,
   "metadata": {},
   "outputs": [
    {
     "name": "stdout",
     "output_type": "stream",
     "text": [
      "[[[1 2 3]\n",
      "  [4 5 6]]\n",
      "\n",
      " [[1 2 3]\n",
      "  [4 5 6]]]\n"
     ]
    }
   ],
   "source": [
    "print(arr_3d)\n"
   ]
  },
  {
   "cell_type": "code",
   "execution_count": 28,
   "metadata": {},
   "outputs": [
    {
     "name": "stdout",
     "output_type": "stream",
     "text": [
      "(2, 2, 3)\n",
      "2\n"
     ]
    }
   ],
   "source": [
    "print(arr_3d.shape)\n",
    "print(len(arr_3d))\n"
   ]
  },
  {
   "cell_type": "code",
   "execution_count": 35,
   "metadata": {},
   "outputs": [
    {
     "name": "stdout",
     "output_type": "stream",
     "text": [
      "(2, 5, 3)\n"
     ]
    }
   ],
   "source": [
    "x = np.random.randn(2,5,3)\n",
    "print(x.shape)"
   ]
  },
  {
   "cell_type": "code",
   "execution_count": 36,
   "metadata": {},
   "outputs": [
    {
     "name": "stdout",
     "output_type": "stream",
     "text": [
      "[1, 2, 3, 4, 5, 1, 2, 3, 4, 5, 1, 2, 3, 4, 5]\n"
     ]
    }
   ],
   "source": [
    "py_list = [1,2,3,4,5]\n",
    "\n",
    "print(py_list *3)\n",
    "\n"
   ]
  },
  {
   "cell_type": "code",
   "execution_count": 37,
   "metadata": {},
   "outputs": [],
   "source": [
    "np_array = np.array( [1,2,3,4,5] )"
   ]
  },
  {
   "cell_type": "code",
   "execution_count": 41,
   "metadata": {},
   "outputs": [
    {
     "name": "stdout",
     "output_type": "stream",
     "text": [
      "[ 3  6  9 12 15]\n",
      "[0.33333333 0.66666667 1.         1.33333333 1.66666667]\n",
      "[  1   8  27  64 125]\n"
     ]
    }
   ],
   "source": [
    "print(np_array * 3) #operacijos visos veikia\n",
    "print(np_array / 3)\n",
    "print(np_array ** 3)"
   ]
  },
  {
   "cell_type": "code",
   "execution_count": 42,
   "metadata": {},
   "outputs": [
    {
     "name": "stdout",
     "output_type": "stream",
     "text": [
      "[1, 2, 3, 4, 5]\n"
     ]
    }
   ],
   "source": [
    "print(py_list)"
   ]
  },
  {
   "cell_type": "code",
   "execution_count": 52,
   "metadata": {},
   "outputs": [
    {
     "name": "stdout",
     "output_type": "stream",
     "text": [
      "[1, 2, 100]\n"
     ]
    }
   ],
   "source": [
    "py_list[2:4] = [100] # liste taip nepakeisi\n",
    "print(py_list)\n"
   ]
  },
  {
   "cell_type": "code",
   "execution_count": 48,
   "metadata": {},
   "outputs": [
    {
     "name": "stdout",
     "output_type": "stream",
     "text": [
      "[  1   2 100 100   5]\n",
      "[  1   2 100 200   5]\n"
     ]
    }
   ],
   "source": [
    "np_array[2:4] = 100\n",
    "print(np_array)\n",
    "np_array[2:4] = [100,200]\n",
    "print(np_array)\n"
   ]
  },
  {
   "cell_type": "code",
   "execution_count": 53,
   "metadata": {},
   "outputs": [],
   "source": [
    "#numpy speed\n",
    "\n",
    "size = 10000"
   ]
  },
  {
   "cell_type": "code",
   "execution_count": 54,
   "metadata": {},
   "outputs": [],
   "source": [
    "py_list = list(range(size))"
   ]
  },
  {
   "cell_type": "code",
   "execution_count": 56,
   "metadata": {},
   "outputs": [],
   "source": [
    "np_arr=np.arange(size)"
   ]
  },
  {
   "cell_type": "code",
   "execution_count": 58,
   "metadata": {},
   "outputs": [
    {
     "name": "stdout",
     "output_type": "stream",
     "text": [
      "988 µs ± 35.4 µs per loop (mean ± std. dev. of 7 runs, 1,000 loops each)\n"
     ]
    }
   ],
   "source": [
    "%%timeit # kaip greitai yra skaiciuoja si operacija daug kartu\n",
    "\n",
    "list_rez = []\n",
    "for number in py_list:\n",
    "    list_rez.append(number *10)\n"
   ]
  },
  {
   "cell_type": "code",
   "execution_count": 59,
   "metadata": {},
   "outputs": [
    {
     "name": "stdout",
     "output_type": "stream",
     "text": [
      "12 µs ± 542 ns per loop (mean ± std. dev. of 7 runs, 100,000 loops each)\n"
     ]
    }
   ],
   "source": [
    "%%timeit #Jupiter tik komanda\n",
    "\n",
    "np_rez = np_arr *10"
   ]
  },
  {
   "cell_type": "code",
   "execution_count": 60,
   "metadata": {},
   "outputs": [
    {
     "name": "stdout",
     "output_type": "stream",
     "text": [
      "[ 0  2  4  6  8 10 12 14 16 18 20 22 24 26 28 30 32 34 36 38 40 42 44 46\n",
      " 48 50 52 54 56 58 60 62 64 66 68 70 72 74 76 78 80 82 84 86 88 90 92 94\n",
      " 96 98]\n",
      "(50,)\n"
     ]
    }
   ],
   "source": [
    "#reshape\n",
    "\n",
    "np_array = np.arange(0,100,2) #stulpelis\n",
    "print(np_array)\n",
    "print(np_array.shape)\n",
    "\n"
   ]
  },
  {
   "cell_type": "code",
   "execution_count": 62,
   "metadata": {},
   "outputs": [
    {
     "name": "stdout",
     "output_type": "stream",
     "text": [
      "[[ 0  2  4  6  8 10 12 14 16 18]\n",
      " [20 22 24 26 28 30 32 34 36 38]\n",
      " [40 42 44 46 48 50 52 54 56 58]\n",
      " [60 62 64 66 68 70 72 74 76 78]\n",
      " [80 82 84 86 88 90 92 94 96 98]]\n"
     ]
    }
   ],
   "source": [
    "print(np_array.reshape( (5,10))) # is stulpelio matrica galim pasidaryti"
   ]
  },
  {
   "cell_type": "code",
   "execution_count": 63,
   "metadata": {},
   "outputs": [
    {
     "name": "stdout",
     "output_type": "stream",
     "text": [
      "[[[ 0  2  4  6  8]\n",
      "  [10 12 14 16 18]\n",
      "  [20 22 24 26 28]\n",
      "  [30 32 34 36 38]\n",
      "  [40 42 44 46 48]]\n",
      "\n",
      " [[50 52 54 56 58]\n",
      "  [60 62 64 66 68]\n",
      "  [70 72 74 76 78]\n",
      "  [80 82 84 86 88]\n",
      "  [90 92 94 96 98]]]\n"
     ]
    }
   ],
   "source": [
    "print(np_array.reshape( (2,5,5)))"
   ]
  },
  {
   "cell_type": "code",
   "execution_count": 64,
   "metadata": {},
   "outputs": [
    {
     "name": "stdout",
     "output_type": "stream",
     "text": [
      "[[[ 0]\n",
      "  [ 2]\n",
      "  [ 4]\n",
      "  [ 6]\n",
      "  [ 8]]\n",
      "\n",
      " [[10]\n",
      "  [12]\n",
      "  [14]\n",
      "  [16]\n",
      "  [18]]\n",
      "\n",
      " [[20]\n",
      "  [22]\n",
      "  [24]\n",
      "  [26]\n",
      "  [28]]\n",
      "\n",
      " [[30]\n",
      "  [32]\n",
      "  [34]\n",
      "  [36]\n",
      "  [38]]\n",
      "\n",
      " [[40]\n",
      "  [42]\n",
      "  [44]\n",
      "  [46]\n",
      "  [48]]\n",
      "\n",
      " [[50]\n",
      "  [52]\n",
      "  [54]\n",
      "  [56]\n",
      "  [58]]\n",
      "\n",
      " [[60]\n",
      "  [62]\n",
      "  [64]\n",
      "  [66]\n",
      "  [68]]\n",
      "\n",
      " [[70]\n",
      "  [72]\n",
      "  [74]\n",
      "  [76]\n",
      "  [78]]\n",
      "\n",
      " [[80]\n",
      "  [82]\n",
      "  [84]\n",
      "  [86]\n",
      "  [88]]\n",
      "\n",
      " [[90]\n",
      "  [92]\n",
      "  [94]\n",
      "  [96]\n",
      "  [98]]]\n"
     ]
    }
   ],
   "source": [
    "print(np_array.reshape( (10,5,-1))) #gylis, eiles, -1 kiek liko vietos sudek "
   ]
  },
  {
   "cell_type": "code",
   "execution_count": 65,
   "metadata": {},
   "outputs": [
    {
     "name": "stdout",
     "output_type": "stream",
     "text": [
      "[[[ 0  2  4  6  8 10 12 14 16 18 20 22 24 26 28 30 32 34 36 38 40 42 44\n",
      "   46 48]]\n",
      "\n",
      " [[50 52 54 56 58 60 62 64 66 68 70 72 74 76 78 80 82 84 86 88 90 92 94\n",
      "   96 98]]]\n"
     ]
    }
   ],
   "source": [
    "print(np_array.reshape( (2,1,-1)))"
   ]
  },
  {
   "cell_type": "code",
   "execution_count": 72,
   "metadata": {},
   "outputs": [
    {
     "name": "stdout",
     "output_type": "stream",
     "text": [
      "[[1 2]\n",
      " [4 3]\n",
      " [7 4]]\n"
     ]
    }
   ],
   "source": [
    "array_2d = np.array([[1,2], [4,3], [7,4]])\n",
    "print(array_2d)\n",
    "\n",
    "\n",
    "array_3d = np.array ([] \n",
    "\n",
    "\n",
    "\n",
    "\n",
    ")\n"
   ]
  },
  {
   "cell_type": "code",
   "execution_count": null,
   "metadata": {},
   "outputs": [],
   "source": []
  },
  {
   "cell_type": "code",
   "execution_count": 73,
   "metadata": {},
   "outputs": [
    {
     "data": {
      "text/plain": [
       "3.5"
      ]
     },
     "execution_count": 73,
     "metadata": {},
     "output_type": "execute_result"
    }
   ],
   "source": [
    "# numpy methods\n",
    "\n",
    "np.mean(array_2d)\n",
    "\n",
    "\n",
    "\n"
   ]
  },
  {
   "cell_type": "code",
   "execution_count": 78,
   "metadata": {},
   "outputs": [
    {
     "name": "stdout",
     "output_type": "stream",
     "text": [
      "[[1 2]\n",
      " [4 3]\n",
      " [7 4]]\n",
      "[4. 3.]\n",
      "[1.5 3.5 5.5]\n"
     ]
    }
   ],
   "source": [
    "print(array_2d)\n",
    "print(np.mean(array_2d,axis = 0)) # stulpeliu vidurkiai\n",
    "print(np.mean(array_2d,axis = 1)) # eiliu vidurkiai"
   ]
  },
  {
   "cell_type": "code",
   "execution_count": 82,
   "metadata": {},
   "outputs": [
    {
     "name": "stdout",
     "output_type": "stream",
     "text": [
      "[2.44948974 0.81649658]\n",
      "1.8929694486000912\n"
     ]
    }
   ],
   "source": [
    "print(np.std(array_2d, axis = 0)) #standartinis nuokrypis stulpeliu\n",
    "print(np.std(array_2d)) #bendras"
   ]
  },
  {
   "cell_type": "code",
   "execution_count": 86,
   "metadata": {},
   "outputs": [
    {
     "name": "stdout",
     "output_type": "stream",
     "text": [
      "[12  9]\n",
      "[ 3  7 11]\n"
     ]
    }
   ],
   "source": [
    "print(np.sum(array_2d, axis = 0)) #stulpeliu\n",
    "print(np.sum(array_2d, axis = 1)) #eiluciu\n"
   ]
  },
  {
   "cell_type": "code",
   "execution_count": 87,
   "metadata": {},
   "outputs": [
    {
     "name": "stdout",
     "output_type": "stream",
     "text": [
      "[[1 2]\n",
      " [4 3]\n",
      " [7 4]]\n",
      "[[1 4 7]\n",
      " [2 3 4]]\n"
     ]
    }
   ],
   "source": [
    "print(array_2d)\n",
    "print(array_2d.transpose()) #apvercia aukstyn kojom\n",
    "\n"
   ]
  },
  {
   "cell_type": "code",
   "execution_count": 88,
   "metadata": {},
   "outputs": [
    {
     "name": "stdout",
     "output_type": "stream",
     "text": [
      "[ 0  2  4  6  8 10 12 14 16 18 20 22 24 26 28 30 32 34 36 38 40 42 44 46\n",
      " 48 50 52 54 56 58]\n"
     ]
    }
   ],
   "source": [
    "#comparisons\n",
    "\n",
    "\n",
    "np_array = np.arange(0,60,2)\n",
    "print(np_array)"
   ]
  },
  {
   "cell_type": "code",
   "execution_count": 89,
   "metadata": {},
   "outputs": [
    {
     "data": {
      "text/plain": [
       "array([ 0,  2,  4,  6,  8, 10, 12, 14, 16, 18, 20, 22, 24, 26, 28])"
      ]
     },
     "execution_count": 89,
     "metadata": {},
     "output_type": "execute_result"
    }
   ],
   "source": [
    "np_array [np_array <30] #filtruoti kaip galima"
   ]
  },
  {
   "cell_type": "code",
   "execution_count": 90,
   "metadata": {},
   "outputs": [
    {
     "data": {
      "text/plain": [
       "array([ True,  True,  True,  True,  True,  True,  True,  True,  True,\n",
       "        True,  True,  True,  True,  True,  True, False, False, False,\n",
       "       False, False, False, False, False, False, False, False, False,\n",
       "       False, False, False])"
      ]
     },
     "execution_count": 90,
     "metadata": {},
     "output_type": "execute_result"
    }
   ],
   "source": [
    "np_array <30 #also called mask"
   ]
  },
  {
   "cell_type": "code",
   "execution_count": 91,
   "metadata": {},
   "outputs": [
    {
     "data": {
      "text/plain": [
       "array([ 0,  6, 12, 18, 24, 30, 36, 42, 48, 54])"
      ]
     },
     "execution_count": 91,
     "metadata": {},
     "output_type": "execute_result"
    }
   ],
   "source": [
    "np_array [np_array % 3 == 0] #dalijasi is 3 kurie skaiciai"
   ]
  },
  {
   "cell_type": "code",
   "execution_count": null,
   "metadata": {},
   "outputs": [],
   "source": []
  }
 ],
 "metadata": {
  "interpreter": {
   "hash": "6b66f59a3f4bed3d737f557ac50d309cac13919fa3d2e68321e2748bd52e6d7e"
  },
  "kernelspec": {
   "display_name": "Python 3.10.2 64-bit",
   "language": "python",
   "name": "python3"
  },
  "language_info": {
   "codemirror_mode": {
    "name": "ipython",
    "version": 3
   },
   "file_extension": ".py",
   "mimetype": "text/x-python",
   "name": "python",
   "nbconvert_exporter": "python",
   "pygments_lexer": "ipython3",
   "version": "3.10.2"
  },
  "orig_nbformat": 4
 },
 "nbformat": 4,
 "nbformat_minor": 2
}
