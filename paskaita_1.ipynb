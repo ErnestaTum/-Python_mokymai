{
 "cells": [
  {
   "cell_type": "code",
   "execution_count": 1,
   "metadata": {},
   "outputs": [
    {
     "name": "stdout",
     "output_type": "stream",
     "text": [
      "The Zen of Python, by Tim Peters\n",
      "\n",
      "Beautiful is better than ugly.\n",
      "Explicit is better than implicit.\n",
      "Simple is better than complex.\n",
      "Complex is better than complicated.\n",
      "Flat is better than nested.\n",
      "Sparse is better than dense.\n",
      "Readability counts.\n",
      "Special cases aren't special enough to break the rules.\n",
      "Although practicality beats purity.\n",
      "Errors should never pass silently.\n",
      "Unless explicitly silenced.\n",
      "In the face of ambiguity, refuse the temptation to guess.\n",
      "There should be one-- and preferably only one --obvious way to do it.\n",
      "Although that way may not be obvious at first unless you're Dutch.\n",
      "Now is better than never.\n",
      "Although never is often better than *right* now.\n",
      "If the implementation is hard to explain, it's a bad idea.\n",
      "If the implementation is easy to explain, it may be a good idea.\n",
      "Namespaces are one honking great idea -- let's do more of those!\n"
     ]
    }
   ],
   "source": [
    "import this"
   ]
  },
  {
   "cell_type": "code",
   "execution_count": 2,
   "metadata": {},
   "outputs": [],
   "source": [
    "mano_vardas = 'Ernesta'\n"
   ]
  },
  {
   "cell_type": "code",
   "execution_count": 5,
   "metadata": {},
   "outputs": [
    {
     "name": "stdout",
     "output_type": "stream",
     "text": [
      "Ernesta\n",
      "hello world! My name is\n"
     ]
    }
   ],
   "source": [
    "print (mano_vardas)\n",
    "print(\"hello world!\", \"My name is\")"
   ]
  },
  {
   "cell_type": "code",
   "execution_count": 10,
   "metadata": {},
   "outputs": [
    {
     "name": "stdout",
     "output_type": "stream",
     "text": [
      "<class 'float'>\n"
     ]
    }
   ],
   "source": [
    "print(type(5.2))"
   ]
  },
  {
   "cell_type": "code",
   "execution_count": 9,
   "metadata": {},
   "outputs": [
    {
     "data": {
      "text/plain": [
       "int"
      ]
     },
     "execution_count": 9,
     "metadata": {},
     "output_type": "execute_result"
    }
   ],
   "source": [
    "type(5)"
   ]
  },
  {
   "cell_type": "code",
   "execution_count": 11,
   "metadata": {},
   "outputs": [
    {
     "name": "stdout",
     "output_type": "stream",
     "text": [
      "5\n"
     ]
    }
   ],
   "source": [
    "print(abs(-5))"
   ]
  },
  {
   "cell_type": "code",
   "execution_count": 13,
   "metadata": {},
   "outputs": [],
   "source": [
    "#print='printas' komentaras Neperasyti standartiniu funkciju\n",
    "# print('sveiki') # CTRL+/"
   ]
  },
  {
   "cell_type": "code",
   "execution_count": 27,
   "metadata": {},
   "outputs": [
    {
     "name": "stdout",
     "output_type": "stream",
     "text": [
      "hello world\n",
      "don't come back\n",
      "\n",
      "Kazkoks eiliuotas\n",
      "tekstas\n",
      "\n",
      "va va va\n",
      "\n"
     ]
    }
   ],
   "source": [
    "tektas = 'hello world'\n",
    "print (tektas)\n",
    "tekstas_2 = \"don't come back\"\n",
    "print (tekstas_2)\n",
    "multiple_text=\"\"\"\n",
    "Kazkoks eiliuotas\n",
    "tekstas\n",
    "\n",
    "va va va\n",
    "\"\"\"\n",
    "print(multiple_text)"
   ]
  },
  {
   "cell_type": "code",
   "execution_count": 28,
   "metadata": {},
   "outputs": [
    {
     "name": "stdout",
     "output_type": "stream",
     "text": [
      "don't come back\n"
     ]
    }
   ],
   "source": [
    "print (tekstas)"
   ]
  },
  {
   "cell_type": "code",
   "execution_count": 35,
   "metadata": {},
   "outputs": [
    {
     "name": "stdout",
     "output_type": "stream",
     "text": [
      "h\n",
      "l\n",
      "!\n",
      "d\n"
     ]
    }
   ],
   "source": [
    "text = \"hello world!\"\n",
    "print (text[0])\n",
    "print (text[2])\n",
    "print (text[-1])\n",
    "print (text[-2])"
   ]
  },
  {
   "cell_type": "markdown",
   "metadata": {},
   "source": [
    "*italic*\n"
   ]
  },
  {
   "cell_type": "code",
   "execution_count": 56,
   "metadata": {},
   "outputs": [
    {
     "name": "stdout",
     "output_type": "stream",
     "text": [
      "hello world!\n",
      "he\n",
      "text[0:5] hello hello\n",
      "text[0:6] hello  hello \n",
      "text[0:7] hello w hello w\n",
      "text[6:9] wor\n",
      "text[6:8] wo\n",
      "text[6:], world!\n",
      "text[6::2], wrd\n",
      "text[::3], hlwl\n",
      "text[::-1] !dlrow olleh\n"
     ]
    }
   ],
   "source": [
    "print(text)\n",
    "#[start:end:step] - end is not included\n",
    "print(text[0:2])\n",
    "print('text[0:5]',text[0:5], text[:5])\n",
    "print('text[0:6]',text[0:6], text[:6])\n",
    "print('text[0:7]',text[0:7], text[:7])\n",
    "print('text[6:9]',text[6:9])\n",
    "print('text[6:8]',text[6:8])\n",
    "print('text[6:],',text[6:])\n",
    "print('text[6::2],',text[6::2]) \n",
    "print('text[::3],',text[::3]) \n",
    "\n",
    "#reversing\n",
    "print('text[::-1]',text[::-1])\n"
   ]
  },
  {
   "cell_type": "code",
   "execution_count": 57,
   "metadata": {},
   "outputs": [
    {
     "data": {
      "text/plain": [
       "12"
      ]
     },
     "execution_count": 57,
     "metadata": {},
     "output_type": "execute_result"
    }
   ],
   "source": [
    "len(text)"
   ]
  },
  {
   "cell_type": "code",
   "execution_count": null,
   "metadata": {},
   "outputs": [],
   "source": [
    "text."
   ]
  },
  {
   "cell_type": "code",
   "execution_count": 58,
   "metadata": {},
   "outputs": [
    {
     "data": {
      "text/plain": [
       "True"
      ]
     },
     "execution_count": 58,
     "metadata": {},
     "output_type": "execute_result"
    }
   ],
   "source": [
    "' '.isspace()"
   ]
  },
  {
   "cell_type": "code",
   "execution_count": 59,
   "metadata": {},
   "outputs": [
    {
     "name": "stdout",
     "output_type": "stream",
     "text": [
      "True\n",
      "False\n"
     ]
    }
   ],
   "source": [
    "print(' '.isspace())\n",
    "print('a'.isspace())"
   ]
  },
  {
   "cell_type": "code",
   "execution_count": 66,
   "metadata": {},
   "outputs": [
    {
     "name": "stdout",
     "output_type": "stream",
     "text": [
      "2\n",
      "HELLO WORLD!\n",
      "hello world!\n",
      "hello world!\n"
     ]
    }
   ],
   "source": [
    "print(text.count('o'))\n",
    "print(text.upper())\n",
    "print(text)\n",
    "\n",
    "text=text.lower()\n",
    "print(text)\n"
   ]
  },
  {
   "cell_type": "code",
   "execution_count": 73,
   "metadata": {},
   "outputs": [
    {
     "name": "stdout",
     "output_type": "stream",
     "text": [
      "['hello', 'world!']\n",
      "['he', '', 'o wor', 'd!']\n",
      "hello tarpas world!\n",
      "hello world\n"
     ]
    }
   ],
   "source": [
    "print(text.split())\n",
    "print(text.split('l'))\n",
    "print(text.replace(' ',' tarpas '))\n",
    "print(text.replace('!',''))"
   ]
  },
  {
   "cell_type": "code",
   "execution_count": 74,
   "metadata": {},
   "outputs": [
    {
     "data": {
      "text/plain": [
       "'hello world!'"
      ]
     },
     "execution_count": 74,
     "metadata": {},
     "output_type": "execute_result"
    }
   ],
   "source": [
    "text"
   ]
  },
  {
   "cell_type": "code",
   "execution_count": 77,
   "metadata": {},
   "outputs": [
    {
     "name": "stdout",
     "output_type": "stream",
     "text": [
      "True\n",
      "False\n"
     ]
    }
   ],
   "source": [
    " print ('world' in text)\n",
    " print ('World' in text)"
   ]
  },
  {
   "cell_type": "code",
   "execution_count": 85,
   "metadata": {},
   "outputs": [
    {
     "name": "stdout",
     "output_type": "stream",
     "text": [
      "hello world! My name is Ernesta , I like play tennis\n",
      "hello world! My name is Ernesta Tumavice, I like play tennis\n",
      "hello world! My name is Ernesta Tumavice, I like play tennis. 5 + 2 is 7\n"
     ]
    }
   ],
   "source": [
    "mano_pavarde = \"Tumavice\"\n",
    "print(\"hello world!\", \"My name is\", mano_vardas, ', I like play tennis')\n",
    "print(\"hello world!\", \"My name is\", mano_vardas, mano_pavarde + ', I like play tennis')\n",
    "# f-string - format string\n",
    "print(f'hello world! My name is {mano_vardas} {mano_pavarde}, I like play tennis. 5 + 2 is {5+2}')"
   ]
  },
  {
   "cell_type": "code",
   "execution_count": 89,
   "metadata": {},
   "outputs": [
    {
     "name": "stdout",
     "output_type": "stream",
     "text": [
      "Helloworld\n",
      "HelloHelloHelloHelloHelloHelloHelloHelloHelloHello\n",
      "Hello1\n"
     ]
    }
   ],
   "source": [
    "print('Hello' + \"world\")\n",
    "# print ('Hello' - \"1\")\n",
    "print('Hello' * 10)\n",
    "# print('Hello' + 1) - negalima\n",
    "print('Hello'+\"1\")\n",
    "\n"
   ]
  },
  {
   "cell_type": "code",
   "execution_count": 97,
   "metadata": {},
   "outputs": [
    {
     "name": "stdout",
     "output_type": "stream",
     "text": [
      "52\n",
      "42\n",
      "235\n",
      "9.4\n",
      "229345007\n",
      "8\n",
      "9\n",
      "2\n",
      "1\n",
      "0\n"
     ]
    }
   ],
   "source": [
    "number = 47\n",
    "print(number+5)\n",
    "print(number-5)\n",
    "print(number*5)\n",
    "print(number/5)\n",
    "print(number**5) # kelimas laipsniu\n",
    "print(2**3)\n",
    "print(number // 5) # sveikaja dalimi\n",
    "print(number % 5) # likutine dalis\n",
    "print(3 % 2) # likutine dalis\n",
    "print(6 % 2) # likutine dalis"
   ]
  },
  {
   "cell_type": "markdown",
   "metadata": {},
   "source": []
  }
 ],
 "metadata": {
  "interpreter": {
   "hash": "6b66f59a3f4bed3d737f557ac50d309cac13919fa3d2e68321e2748bd52e6d7e"
  },
  "kernelspec": {
   "display_name": "Python 3.10.2 64-bit",
   "language": "python",
   "name": "python3"
  },
  "language_info": {
   "codemirror_mode": {
    "name": "ipython",
    "version": 3
   },
   "file_extension": ".py",
   "mimetype": "text/x-python",
   "name": "python",
   "nbconvert_exporter": "python",
   "pygments_lexer": "ipython3",
   "version": "3.10.2"
  },
  "orig_nbformat": 4
 },
 "nbformat": 4,
 "nbformat_minor": 2
}
