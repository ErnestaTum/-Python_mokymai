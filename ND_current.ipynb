{
 "cells": [
  {
   "cell_type": "code",
   "execution_count": 5,
   "metadata": {},
   "outputs": [
    {
     "name": "stdout",
     "output_type": "stream",
     "text": [
      "2 - Fizz\n",
      "3 - Buzz\n",
      "4 - Fizz\n",
      "6 - Fizz\n",
      "6 - Buzz\n",
      "6 - FizzBuzz\n",
      "8 - Fizz\n",
      "9 - Buzz\n",
      "10 - Fizz\n",
      "12 - Fizz\n",
      "12 - Buzz\n",
      "12 - FizzBuzz\n",
      "14 - Fizz\n",
      "15 - Buzz\n",
      "16 - Fizz\n",
      "18 - Fizz\n",
      "18 - Buzz\n",
      "18 - FizzBuzz\n",
      "20 - Fizz\n",
      "21 - Buzz\n",
      "22 - Fizz\n",
      "24 - Fizz\n",
      "24 - Buzz\n",
      "24 - FizzBuzz\n",
      "26 - Fizz\n",
      "27 - Buzz\n",
      "28 - Fizz\n",
      "30 - Fizz\n",
      "30 - Buzz\n",
      "30 - FizzBuzz\n",
      "32 - Fizz\n",
      "33 - Buzz\n",
      "34 - Fizz\n",
      "36 - Fizz\n",
      "36 - Buzz\n",
      "36 - FizzBuzz\n",
      "38 - Fizz\n",
      "39 - Buzz\n",
      "40 - Fizz\n",
      "42 - Fizz\n",
      "42 - Buzz\n",
      "42 - FizzBuzz\n",
      "44 - Fizz\n",
      "45 - Buzz\n",
      "46 - Fizz\n",
      "48 - Fizz\n",
      "48 - Buzz\n",
      "48 - FizzBuzz\n",
      "50 - Fizz\n",
      "51 - Buzz\n",
      "52 - Fizz\n",
      "54 - Fizz\n",
      "54 - Buzz\n",
      "54 - FizzBuzz\n",
      "56 - Fizz\n",
      "57 - Buzz\n",
      "58 - Fizz\n",
      "60 - Fizz\n",
      "60 - Buzz\n",
      "60 - FizzBuzz\n",
      "62 - Fizz\n",
      "63 - Buzz\n",
      "64 - Fizz\n",
      "66 - Fizz\n",
      "66 - Buzz\n",
      "66 - FizzBuzz\n",
      "68 - Fizz\n",
      "69 - Buzz\n",
      "70 - Fizz\n",
      "72 - Fizz\n",
      "72 - Buzz\n",
      "72 - FizzBuzz\n",
      "74 - Fizz\n",
      "75 - Buzz\n",
      "76 - Fizz\n",
      "78 - Fizz\n",
      "78 - Buzz\n",
      "78 - FizzBuzz\n",
      "80 - Fizz\n",
      "81 - Buzz\n",
      "82 - Fizz\n",
      "84 - Fizz\n",
      "84 - Buzz\n",
      "84 - FizzBuzz\n",
      "86 - Fizz\n",
      "87 - Buzz\n",
      "88 - Fizz\n",
      "90 - Fizz\n",
      "90 - Buzz\n",
      "90 - FizzBuzz\n",
      "92 - Fizz\n",
      "93 - Buzz\n",
      "94 - Fizz\n",
      "96 - Fizz\n",
      "96 - Buzz\n",
      "96 - FizzBuzz\n",
      "98 - Fizz\n",
      "99 - Buzz\n",
      "100 - Fizz\n",
      "100\n"
     ]
    }
   ],
   "source": [
    "# 1. \n",
    "\n",
    "# Iš pirmų 100 skaičių, jeigu skaičius dalinasi iš 2 be liekanos, \n",
    "# atspausdinkite ‘Fizz’, jeigu skaičius dalinasi iš 3 be liekanos \n",
    "# atspausdinkite ‘Buzz’, \n",
    "# jei skaičius dalinasi iš 2 ir 3 be liekanos, atspausdinkite ‘FizzBuzz’\n",
    "\n",
    "\n",
    "\n",
    "for number in range(1,101):\n",
    "    if number % 2 == 0:\n",
    "        print (number, \"-\", \"Fizz\")\n",
    "    if number % 3==0:\n",
    "        print(number, \"-\", \"Buzz\")\n",
    "    if number % 2 == 0 and number % 3==0:\n",
    "        print(number, \"-\", 'FizzBuzz')\n",
    "print(number)"
   ]
  },
  {
   "cell_type": "code",
   "execution_count": 10,
   "metadata": {},
   "outputs": [
    {
     "name": "stdout",
     "output_type": "stream",
     "text": [
      " 4 neatitinka salygu\n"
     ]
    }
   ],
   "source": [
    "# Leiskite pasirinkti skaičių, jeigu įvestas skaičius yra \n",
    "# daugiau arba lygus 10, atspausdinkite visus skaičius \n",
    "# kurie dalinasi iš 5 su liekana\n",
    "\n",
    "input_number = int(input(\"Iveskite skaiciu:\"))\n",
    "\n",
    "if input_number >= 10 and input_number % 5 != 0:\n",
    "    print(input_number)\n",
    "else:\n",
    "    print (f\" {input_number} neatitinka salygu\")    \n",
    "\n"
   ]
  },
  {
   "cell_type": "code",
   "execution_count": 31,
   "metadata": {},
   "outputs": [
    {
     "name": "stdout",
     "output_type": "stream",
     "text": [
      "['1', '2', '3', '4', '5', 'labas', 'vakaras', 'kokia grazi diena', 'siandien uz lango', '10 laipsniu silumos', '100', '200', 40, 10, ('1', 'labas'), ('1', 'vakaras'), ('1', 'kokia grazi diena'), ('1', 'siandien uz lango'), ('1', '10 laipsniu silumos'), ('2', 'labas'), ('2', 'vakaras'), ('2', 'kokia grazi diena'), ('2', 'siandien uz lango'), ('2', '10 laipsniu silumos'), ('3', 'labas'), ('3', 'vakaras'), ('3', 'kokia grazi diena'), ('3', 'siandien uz lango'), ('3', '10 laipsniu silumos'), ('4', 'labas'), ('4', 'vakaras'), ('4', 'kokia grazi diena'), ('4', 'siandien uz lango'), ('4', '10 laipsniu silumos'), ('5', 'labas'), ('5', 'vakaras'), ('5', 'kokia grazi diena'), ('5', 'siandien uz lango'), ('5', '10 laipsniu silumos'), ('1', '100'), ('1', '200'), ('1', 40), ('1', 10), ('2', '100'), ('2', '200'), ('2', 40), ('2', 10), ('3', '100'), ('3', '200'), ('3', 40), ('3', 10), ('4', '100'), ('4', '200'), ('4', 40), ('4', 10), ('5', '100'), ('5', '200'), ('5', 40), ('5', 10), ('labas', '100'), ('labas', '200'), ('labas', 40), ('labas', 10), ('vakaras', '100'), ('vakaras', '200'), ('vakaras', 40), ('vakaras', 10), ('kokia grazi diena', '100'), ('kokia grazi diena', '200'), ('kokia grazi diena', 40), ('kokia grazi diena', 10), ('siandien uz lango', '100'), ('siandien uz lango', '200'), ('siandien uz lango', 40), ('siandien uz lango', 10), ('10 laipsniu silumos', '100'), ('10 laipsniu silumos', '200'), ('10 laipsniu silumos', 40), ('10 laipsniu silumos', 10), ('1', 'labas', '100'), ('1', 'labas', '200'), ('1', 'labas', 40), ('1', 'labas', 10), ('1', 'vakaras', '100'), ('1', 'vakaras', '200'), ('1', 'vakaras', 40), ('1', 'vakaras', 10), ('1', 'kokia grazi diena', '100'), ('1', 'kokia grazi diena', '200'), ('1', 'kokia grazi diena', 40), ('1', 'kokia grazi diena', 10), ('1', 'siandien uz lango', '100'), ('1', 'siandien uz lango', '200'), ('1', 'siandien uz lango', 40), ('1', 'siandien uz lango', 10), ('1', '10 laipsniu silumos', '100'), ('1', '10 laipsniu silumos', '200'), ('1', '10 laipsniu silumos', 40), ('1', '10 laipsniu silumos', 10), ('2', 'labas', '100'), ('2', 'labas', '200'), ('2', 'labas', 40), ('2', 'labas', 10), ('2', 'vakaras', '100'), ('2', 'vakaras', '200'), ('2', 'vakaras', 40), ('2', 'vakaras', 10), ('2', 'kokia grazi diena', '100'), ('2', 'kokia grazi diena', '200'), ('2', 'kokia grazi diena', 40), ('2', 'kokia grazi diena', 10), ('2', 'siandien uz lango', '100'), ('2', 'siandien uz lango', '200'), ('2', 'siandien uz lango', 40), ('2', 'siandien uz lango', 10), ('2', '10 laipsniu silumos', '100'), ('2', '10 laipsniu silumos', '200'), ('2', '10 laipsniu silumos', 40), ('2', '10 laipsniu silumos', 10), ('3', 'labas', '100'), ('3', 'labas', '200'), ('3', 'labas', 40), ('3', 'labas', 10), ('3', 'vakaras', '100'), ('3', 'vakaras', '200'), ('3', 'vakaras', 40), ('3', 'vakaras', 10), ('3', 'kokia grazi diena', '100'), ('3', 'kokia grazi diena', '200'), ('3', 'kokia grazi diena', 40), ('3', 'kokia grazi diena', 10), ('3', 'siandien uz lango', '100'), ('3', 'siandien uz lango', '200'), ('3', 'siandien uz lango', 40), ('3', 'siandien uz lango', 10), ('3', '10 laipsniu silumos', '100'), ('3', '10 laipsniu silumos', '200'), ('3', '10 laipsniu silumos', 40), ('3', '10 laipsniu silumos', 10), ('4', 'labas', '100'), ('4', 'labas', '200'), ('4', 'labas', 40), ('4', 'labas', 10), ('4', 'vakaras', '100'), ('4', 'vakaras', '200'), ('4', 'vakaras', 40), ('4', 'vakaras', 10), ('4', 'kokia grazi diena', '100'), ('4', 'kokia grazi diena', '200'), ('4', 'kokia grazi diena', 40), ('4', 'kokia grazi diena', 10), ('4', 'siandien uz lango', '100'), ('4', 'siandien uz lango', '200'), ('4', 'siandien uz lango', 40), ('4', 'siandien uz lango', 10), ('4', '10 laipsniu silumos', '100'), ('4', '10 laipsniu silumos', '200'), ('4', '10 laipsniu silumos', 40), ('4', '10 laipsniu silumos', 10), ('5', 'labas', '100'), ('5', 'labas', '200'), ('5', 'labas', 40), ('5', 'labas', 10), ('5', 'vakaras', '100'), ('5', 'vakaras', '200'), ('5', 'vakaras', 40), ('5', 'vakaras', 10), ('5', 'kokia grazi diena', '100'), ('5', 'kokia grazi diena', '200'), ('5', 'kokia grazi diena', 40), ('5', 'kokia grazi diena', 10), ('5', 'siandien uz lango', '100'), ('5', 'siandien uz lango', '200'), ('5', 'siandien uz lango', 40), ('5', 'siandien uz lango', 10), ('5', '10 laipsniu silumos', '100'), ('5', '10 laipsniu silumos', '200'), ('5', '10 laipsniu silumos', 40), ('5', '10 laipsniu silumos', 10)]\n",
      "179\n"
     ]
    },
    {
     "ename": "TypeError",
     "evalue": "object of type 'int' has no len()",
     "output_type": "error",
     "traceback": [
      "\u001b[1;31m---------------------------------------------------------------------------\u001b[0m",
      "\u001b[1;31mTypeError\u001b[0m                                 Traceback (most recent call last)",
      "\u001b[1;32mc:\\Users\\arunas\\Documents\\-Python_mokymai\\ND_current.ipynb Cell 3'\u001b[0m in \u001b[0;36m<module>\u001b[1;34m\u001b[0m\n\u001b[0;32m     <a href='vscode-notebook-cell:/c%3A/Users/arunas/Documents/-Python_mokymai/ND_current.ipynb#ch0000002?line=38'>39</a>\u001b[0m \u001b[39mprint\u001b[39m(kombinacijos)\n\u001b[0;32m     <a href='vscode-notebook-cell:/c%3A/Users/arunas/Documents/-Python_mokymai/ND_current.ipynb#ch0000002?line=40'>41</a>\u001b[0m \u001b[39mprint\u001b[39m(\u001b[39mlen\u001b[39m(kombinacijos))\n\u001b[1;32m---> <a href='vscode-notebook-cell:/c%3A/Users/arunas/Documents/-Python_mokymai/ND_current.ipynb#ch0000002?line=42'>43</a>\u001b[0m \u001b[39mprint\u001b[39m(\u001b[39msorted\u001b[39;49m(kombinacijos, key\u001b[39m=\u001b[39;49m\u001b[39mlen\u001b[39;49m))\n",
      "\u001b[1;31mTypeError\u001b[0m: object of type 'int' has no len()"
     ]
    }
   ],
   "source": [
    "# Koks yra sąrašo ilgis sudaryto iš pateiktų sąrašų kombinacijų, \n",
    "# jeigu norime rasti visas įmanomas reikšmes? \n",
    "# Išrikiuokite sąrašą nuo didžiausios iki mažiausios reikšmės\n",
    "\n",
    "#manau ne taip reikejo padaryti, bet kitaip neisgalvojau  :)\n",
    "\n",
    "a = ['1','2','3','4','5']\n",
    "b = ['labas', 'vakaras', 'kokia grazi diena', 'siandien uz lango', '10 laipsniu silumos']\n",
    "c = ['100', '200', 40, 10]\n",
    "\n",
    "kombinacijos_1 = a+b+c\n",
    "\n",
    "# print(kombinacijos_1)\n",
    "\n",
    "kombinacijos_2 = []\n",
    "\n",
    "for a_2 in a:\n",
    "    for b_2 in b:\n",
    "        kombinacijos_2.append((a_2, b_2))\n",
    "for a_2 in a:\n",
    "    for c_2 in c:\n",
    "        kombinacijos_2.append((a_2, c_2))\n",
    "for b_2 in b:\n",
    "    for c_2 in c:\n",
    "        kombinacijos_2.append((b_2, c_2))\n",
    "\n",
    "\n",
    "# print(kombinacijos_2)\n",
    "\n",
    "kombinacijos_3 = []\n",
    "\n",
    "for a_3 in a:\n",
    "    for b_3 in b:\n",
    "        for c_3 in c:\n",
    "            kombinacijos_3.append((a_3, b_3, c_3))\n",
    "\n",
    "# print(kombinacijos_3)\n",
    "\n",
    "kombinacijos = kombinacijos_1 + kombinacijos_2 + kombinacijos_3\n",
    "\n",
    "print(kombinacijos)\n",
    "\n",
    "print(len(kombinacijos))\n",
    "\n",
    "#print(sorted(kombinacijos, key=len)) - netinka sitas variantas\n",
    "\n",
    "\n"
   ]
  },
  {
   "cell_type": "code",
   "execution_count": 35,
   "metadata": {},
   "outputs": [
    {
     "name": "stdout",
     "output_type": "stream",
     "text": [
      " Pajamos yra 14943.96\n"
     ]
    }
   ],
   "source": [
    "# 4. Paskaičiuoti pelną pardavus visas prekes. Informacija apie kainą ir \n",
    "# kiekius yra pateikiama  kaip dictionary, atsakymą suapvalinti iki 2 skaičių po kablelio.\n",
    "\n",
    "\n",
    "x = { \"cost_price\": 32.67,\n",
    "         \"sell_price\": 45.00,\n",
    "         \"inventory\": 1212 \n",
    "}\n",
    "\n",
    "income = x[\"sell_price\"]*x[\"inventory\"]\n",
    "cost = x[\"cost_price\"]*x[\"inventory\"]\n",
    "print(\" Pajamos yra\", income - cost)\n"
   ]
  },
  {
   "cell_type": "code",
   "execution_count": 39,
   "metadata": {},
   "outputs": [
    {
     "name": "stdout",
     "output_type": "stream",
     "text": [
      "{1, 2, 3, 4, 5, 6, 7, 8, 9, 15} {3, 8, 9, 11, 15}\n",
      "[8, 9, 3, 15]\n"
     ]
    }
   ],
   "source": [
    "#Rasti pasikartojančius elementus tarp dviejų list.\n",
    "\n",
    "\n",
    "a = [1,2,3,4,5,6,7,8,9,15]\n",
    "b = [3,8,9,11,15]\n",
    "\n",
    "a=set(a)\n",
    "b=set(b)\n",
    "print(a,b)\n",
    "c=a.intersection(b)\n",
    "c=list(c)\n",
    "print(c)\n",
    "\n",
    "#Gauti rezultatą c = [3,8,9,15] nes šie skaičiai pasikartoja abiejuose list."
   ]
  },
  {
   "cell_type": "code",
   "execution_count": 18,
   "metadata": {},
   "outputs": [
    {
     "name": "stdout",
     "output_type": "stream",
     "text": [
      "1275\n",
      "2\n",
      "4\n",
      "6\n",
      "8\n",
      "10\n",
      "12\n",
      "14\n",
      "16\n",
      "18\n",
      "20\n",
      "22\n",
      "24\n",
      "26\n",
      "28\n",
      "30\n",
      "32\n",
      "34\n",
      "36\n",
      "38\n",
      "40\n",
      "42\n",
      "44\n",
      "46\n",
      "48\n",
      "50\n",
      "52\n",
      "54\n",
      "56\n",
      "58\n",
      "60\n",
      "62\n",
      "64\n",
      "66\n",
      "68\n",
      "70\n",
      "72\n",
      "74\n",
      "76\n",
      "78\n",
      "80\n",
      "82\n",
      "84\n",
      "86\n",
      "88\n",
      "90\n",
      "92\n",
      "94\n",
      "96\n",
      "98\n",
      "100\n",
      "100\n"
     ]
    }
   ],
   "source": [
    "#Gaukite sumą pirmų 50 skaičių imtinai\n",
    "\n",
    "suma=0 #teisingai\n",
    "\n",
    "for number in range (1,51):\n",
    "    suma+=number\n",
    "print(suma)\n",
    "\n",
    "\n",
    "for number in range (1,51):\n",
    "    number+=number\n",
    "    print(number)\n",
    "\n",
    "\n",
    "for number in range (1,51): #?\n",
    "    number+=number\n",
    "print(number)\n",
    "\n"
   ]
  },
  {
   "cell_type": "code",
   "execution_count": 40,
   "metadata": {},
   "outputs": [
    {
     "name": "stdout",
     "output_type": "stream",
     "text": [
      "{800, 1, 2, 900, 5, 8, 10, -20, 12, 14, -9, -8, -6, -900}\n"
     ]
    }
   ],
   "source": [
    "# 2. Išfiltruoti unikalius teigiamus numerius iš sąrašo.\n",
    "\n",
    "x = [1, 5, 1, 2, 8, -9, 10, 1, -8, -900, 14, 5, -8, 2, 1, -20, 900, 800, -6, -8, 12, 1]\n",
    "\n",
    "x=set(x)\n",
    "print(x)"
   ]
  },
  {
   "cell_type": "code",
   "execution_count": null,
   "metadata": {},
   "outputs": [],
   "source": [
    "# 3. Parašykite funkciją, kuri priims string tipo kintamąjį, gražinkite kiek tame string'ę yra raidžių, skaičių, skyrybos (specialių) ženklų ir tarpų.\n",
    "# for loop kiekvienam simboliui string'e\n",
    "# ar simbolis yra skaičius/raidė/tarpas/nei tas nei tas +=1\n",
    "# gražinsime f stringą - “raidžiu yra: {raidziu_suma}…”\n"
   ]
  },
  {
   "cell_type": "code",
   "execution_count": null,
   "metadata": {},
   "outputs": [],
   "source": [
    "# 4. Parašyti funkciją, kuri priima vieną list tipo kintamąjį,\n",
    "#  funkcija grąžina skirtumą tarp didžiausio skaičiaus ir mažiausio skaičiaus.\n",
    "\n",
    "\n",
    "# myFunction([1, 5, 6, 10, 4]) ->  9 ( nes 10 - 1)"
   ]
  },
  {
   "cell_type": "code",
   "execution_count": null,
   "metadata": {},
   "outputs": [],
   "source": [
    "# 5. Parašykite funkciją, kuri priims listą ir patikrins ar listo narys n+1 yra 1 didesnis nei n, jeigu visi listo nariai einantys vienas po kito yra didesni per 1, vadinasi anomalijos nėra, jei nors 1 narys neatitinka sekos, vadinasi yra anomalija.\n",
    "\n",
    "# pvz: \n",
    "\n",
    "# list_3 = [17,18,19,21]\n",
    "\n",
    "# Tarp skaiciu 17 ir 18 anomalijos nera \n",
    "# Tarp skaiciu 18 ir 19 anomalijos nera \n",
    "# Anomalija yra! Skaiciai 19 ir 21 nera einantys vienas po kito! Trukstamas skaicius yra 20"
   ]
  },
  {
   "cell_type": "code",
   "execution_count": null,
   "metadata": {},
   "outputs": [],
   "source": [
    "# 6. Parašykite funkciją, kuri priims list’ą, gaukite didžiausią šalia esančių skaičių sandaugą.\n",
    "\n",
    "\n",
    "# my_list = [3, 6, -2, -5, 7, 3]\n",
    "\n",
    "# rezultatas = 21, nes 7 ir 3 sandauga yra didžiausia"
   ]
  },
  {
   "cell_type": "code",
   "execution_count": 21,
   "metadata": {},
   "outputs": [
    {
     "name": "stdout",
     "output_type": "stream",
     "text": [
      "[('Pirmadienis', 10), ('Pirmadienis', 11), ('Pirmadienis', 12), ('Pirmadienis', 13), ('Pirmadienis', 14), ('Pirmadienis', 15), ('Pirmadienis', 16), ('Pirmadienis', 17), ('Pirmadienis', 18), ('Pirmadienis', 19), ('Antradienis', 10), ('Antradienis', 11), ('Antradienis', 12), ('Antradienis', 13), ('Antradienis', 14), ('Antradienis', 15), ('Antradienis', 16), ('Antradienis', 17), ('Antradienis', 18), ('Antradienis', 19), ('Treciadienis', 10), ('Treciadienis', 11), ('Treciadienis', 12), ('Treciadienis', 13), ('Treciadienis', 14), ('Treciadienis', 15), ('Treciadienis', 16), ('Treciadienis', 17), ('Treciadienis', 18), ('Treciadienis', 19), ('Ketvirtadienis', 10), ('Ketvirtadienis', 11), ('Ketvirtadienis', 12), ('Ketvirtadienis', 13), ('Ketvirtadienis', 14), ('Ketvirtadienis', 15), ('Ketvirtadienis', 16), ('Ketvirtadienis', 17), ('Ketvirtadienis', 18), ('Ketvirtadienis', 19), ('Penktadienis', 10), ('Penktadienis', 11), ('Penktadienis', 12), ('Penktadienis', 13), ('Penktadienis', 14), ('Penktadienis', 15), ('Penktadienis', 16), ('Penktadienis', 17), ('Penktadienis', 18), ('Penktadienis', 19), ('Sestadienis', 10), ('Sestadienis', 11), ('Sestadienis', 12), ('Sestadienis', 13), ('Sestadienis', 14), ('Sestadienis', 15), ('Sestadienis', 16), ('Sestadienis', 17), ('Sestadienis', 18), ('Sestadienis', 19), ('Sekmadienis', 10), ('Sekmadienis', 11), ('Sekmadienis', 12), ('Sekmadienis', 13), ('Sekmadienis', 14), ('Sekmadienis', 15), ('Sekmadienis', 16), ('Sekmadienis', 17), ('Sekmadienis', 18), ('Sekmadienis', 19)]\n",
      "['Pirmadienis 10', 'Pirmadienis 11', 'Pirmadienis 12', 'Pirmadienis 13', 'Pirmadienis 14', 'Pirmadienis 15', 'Pirmadienis 16', 'Pirmadienis 17', 'Pirmadienis 18', 'Pirmadienis 19', 'Antradienis 10', 'Antradienis 11', 'Antradienis 12', 'Antradienis 13', 'Antradienis 14', 'Antradienis 15', 'Antradienis 16', 'Antradienis 17', 'Antradienis 18', 'Antradienis 19', 'Treciadienis 10', 'Treciadienis 11', 'Treciadienis 12', 'Treciadienis 13', 'Treciadienis 14', 'Treciadienis 15', 'Treciadienis 16', 'Treciadienis 17', 'Treciadienis 18', 'Treciadienis 19', 'Ketvirtadienis 10', 'Ketvirtadienis 11', 'Ketvirtadienis 12', 'Ketvirtadienis 13', 'Ketvirtadienis 14', 'Ketvirtadienis 15', 'Ketvirtadienis 16', 'Ketvirtadienis 17', 'Ketvirtadienis 18', 'Ketvirtadienis 19', 'Penktadienis 10', 'Penktadienis 11', 'Penktadienis 12', 'Penktadienis 13', 'Penktadienis 14', 'Penktadienis 15', 'Penktadienis 16', 'Penktadienis 17', 'Penktadienis 18', 'Penktadienis 19', 'Sestadienis 10', 'Sestadienis 11', 'Sestadienis 12', 'Sestadienis 13', 'Sestadienis 14', 'Sestadienis 15', 'Sestadienis 16', 'Sestadienis 17', 'Sestadienis 18', 'Sestadienis 19', 'Sekmadienis 10', 'Sekmadienis 11', 'Sekmadienis 12', 'Sekmadienis 13', 'Sekmadienis 14', 'Sekmadienis 15', 'Sekmadienis 16', 'Sekmadienis 17', 'Sekmadienis 18', 'Sekmadienis 19']\n"
     ]
    }
   ],
   "source": [
    "\n",
    "# Gaukite visas įmanomas kombinacijas iš šių sąrašų, įrašykite jas į list’ą\n",
    "\n",
    "#klaseje atliktas\n",
    "dienos = [\"Pirmadienis\", \"Antradienis\", \"Treciadienis\", \"Ketvirtadienis\", \"Penktadienis\", \"Sestadienis\" , \"Sekmadienis\"]\n",
    "valandos = [10, 11, 12, 13, 14, 15, 16, 17, 18, 19]\n",
    "\n",
    "\n",
    "kombinacijos =[]\n",
    "\n",
    "for diena in dienos:\n",
    "    for valanda in valandos:\n",
    "        kombinacijos.append( (diena,valanda) )\n",
    "print(kombinacijos)\n",
    "\n",
    "\n",
    "#mano - ar tinkamas budas?\n",
    "\n",
    "kombinacijos = [ (f'{dienos} ') + valandos for dienos in [\"Pirmadienis\", \"Antradienis\", \"Treciadienis\", \"Ketvirtadienis\", \"Penktadienis\", \"Sestadienis\" , \"Sekmadienis\"] for\n",
    "valandos in [\"10\", \"11\", '12', '13', '14', '15', '16', '17', '18', '19']]\n",
    "print(kombinacijos)"
   ]
  },
  {
   "cell_type": "code",
   "execution_count": 25,
   "metadata": {},
   "outputs": [
    {
     "name": "stdout",
     "output_type": "stream",
     "text": [
      "(1, 5846, 3, 74, 4, 68, 4, 8, 7, 4)\n",
      "(1, 5846, 3, 74, 4, 68, 4, 8, 7)\n"
     ]
    }
   ],
   "source": [
    "my_tuple = (1,5846,3,74) + (4,68,4,8,7,4)\n",
    "print(my_tuple)\n",
    "my_tuple = my_tuple[0:9] # tas pats kaip my_tuple = my_tuple[:-1]\n",
    "print(my_tuple)"
   ]
  }
 ],
 "metadata": {
  "interpreter": {
   "hash": "6b66f59a3f4bed3d737f557ac50d309cac13919fa3d2e68321e2748bd52e6d7e"
  },
  "kernelspec": {
   "display_name": "Python 3.10.2 64-bit",
   "language": "python",
   "name": "python3"
  },
  "language_info": {
   "codemirror_mode": {
    "name": "ipython",
    "version": 3
   },
   "file_extension": ".py",
   "mimetype": "text/x-python",
   "name": "python",
   "nbconvert_exporter": "python",
   "pygments_lexer": "ipython3",
   "version": "3.10.2"
  },
  "orig_nbformat": 4
 },
 "nbformat": 4,
 "nbformat_minor": 2
}
