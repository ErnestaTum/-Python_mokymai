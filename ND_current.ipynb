{
 "cells": [
  {
   "cell_type": "code",
   "execution_count": 3,
   "metadata": {},
   "outputs": [
    {
     "name": "stdout",
     "output_type": "stream",
     "text": [
      "Fizz\n",
      "Buzz\n",
      "Fizz\n",
      "Fizz\n",
      "Buzz\n",
      "FizzBuzz\n",
      "Fizz\n",
      "Buzz\n",
      "Fizz\n",
      "Fizz\n",
      "Buzz\n",
      "FizzBuzz\n",
      "Fizz\n",
      "Buzz\n",
      "Fizz\n",
      "Fizz\n",
      "Buzz\n",
      "FizzBuzz\n",
      "Fizz\n",
      "Buzz\n",
      "Fizz\n",
      "Fizz\n",
      "Buzz\n",
      "FizzBuzz\n",
      "Fizz\n",
      "Buzz\n",
      "Fizz\n",
      "Fizz\n",
      "Buzz\n",
      "FizzBuzz\n",
      "Fizz\n",
      "Buzz\n",
      "Fizz\n",
      "Fizz\n",
      "Buzz\n",
      "FizzBuzz\n",
      "Fizz\n",
      "Buzz\n",
      "Fizz\n",
      "Fizz\n",
      "Buzz\n",
      "FizzBuzz\n",
      "Fizz\n",
      "Buzz\n",
      "Fizz\n",
      "Fizz\n",
      "Buzz\n",
      "FizzBuzz\n",
      "Fizz\n",
      "Buzz\n",
      "Fizz\n",
      "Fizz\n",
      "Buzz\n",
      "FizzBuzz\n",
      "Fizz\n",
      "Buzz\n",
      "Fizz\n",
      "Fizz\n",
      "Buzz\n",
      "FizzBuzz\n",
      "Fizz\n",
      "Buzz\n",
      "Fizz\n",
      "Fizz\n",
      "Buzz\n",
      "FizzBuzz\n",
      "Fizz\n",
      "Buzz\n",
      "Fizz\n",
      "Fizz\n",
      "Buzz\n",
      "FizzBuzz\n",
      "Fizz\n",
      "Buzz\n",
      "Fizz\n",
      "Fizz\n",
      "Buzz\n",
      "FizzBuzz\n",
      "Fizz\n",
      "Buzz\n",
      "Fizz\n",
      "Fizz\n",
      "Buzz\n",
      "FizzBuzz\n",
      "Fizz\n",
      "Buzz\n",
      "Fizz\n",
      "Fizz\n",
      "Buzz\n",
      "FizzBuzz\n",
      "Fizz\n",
      "Buzz\n",
      "Fizz\n",
      "Fizz\n",
      "Buzz\n",
      "FizzBuzz\n",
      "Fizz\n",
      "Buzz\n",
      "Fizz\n",
      "100\n"
     ]
    }
   ],
   "source": [
    "# 1. \n",
    "\n",
    "# Iš pirmų 100 skaičių, jeigu skaičius dalinasi iš 2 be liekanos, \n",
    "# atspausdinkite ‘Fizz’, jeigu skaičius dalinasi iš 3 be liekanos \n",
    "# atspausdinkite ‘Buzz’, \n",
    "# jei skaičius dalinasi iš 2 ir 3 be liekanos, atspausdinkite ‘FizzBuzz’\n",
    "\n",
    "\n",
    "\n",
    "for number in range(1,101):\n",
    "    if number % 2 == 0:\n",
    "        print (\"Fizz\")\n",
    "    if number % 3==0:\n",
    "        print(\"Buzz\")\n",
    "    if number % 2 == 0 and number % 3==0:\n",
    "        print('FizzBuzz')\n",
    "print(number)"
   ]
  },
  {
   "cell_type": "code",
   "execution_count": 15,
   "metadata": {},
   "outputs": [
    {
     "name": "stdout",
     "output_type": "stream",
     "text": [
      "23\n"
     ]
    }
   ],
   "source": [
    "# Leiskite pasirinkti skaičių, jeigu įvestas skaičius yra \n",
    "# daugiau arba lygus 10, atspausdinkite visus skaičius \n",
    "# kurie dalinasi iš 5 su liekana\n",
    "\n",
    "input_number = int(input(\"Iveskite skaiciu:\"))\n",
    "\n",
    "if input_number >= 10 and input_number % 5 != 0:\n",
    "    print(input_number)\n",
    "else:\n",
    "    print (\"Neatitinka salygu\")    \n",
    "\n"
   ]
  },
  {
   "cell_type": "code",
   "execution_count": 16,
   "metadata": {},
   "outputs": [
    {
     "name": "stdout",
     "output_type": "stream",
     "text": [
      "['1', '2', '3', '4', '5'] ['labas', 'vakaras', 'kokia grazi diena', 'siandien uz lango', '10 laipsniu silumos'] ['100', '200', 40, 10]\n"
     ]
    }
   ],
   "source": [
    "# Koks yra sąrašo ilgis sudaryto iš pateiktų sąrašų kombinacijų, \n",
    "# jeigu norime rasti visas įmanomas reikšmes? \n",
    "# Išrikiuokite sąrašą nuo didžiausios iki mažiausios reikšmės\n",
    "\n",
    "a = ['1','2','3','4','5']\n",
    "b = ['labas', 'vakaras', 'kokia grazi diena', 'siandien uz lango', '10 laipsniu silumos']\n",
    "c = ['100', '200', 40, 10]\n",
    "\n",
    "print(a,b,c)"
   ]
  },
  {
   "cell_type": "code",
   "execution_count": 18,
   "metadata": {},
   "outputs": [
    {
     "name": "stdout",
     "output_type": "stream",
     "text": [
      "1275\n",
      "2\n",
      "4\n",
      "6\n",
      "8\n",
      "10\n",
      "12\n",
      "14\n",
      "16\n",
      "18\n",
      "20\n",
      "22\n",
      "24\n",
      "26\n",
      "28\n",
      "30\n",
      "32\n",
      "34\n",
      "36\n",
      "38\n",
      "40\n",
      "42\n",
      "44\n",
      "46\n",
      "48\n",
      "50\n",
      "52\n",
      "54\n",
      "56\n",
      "58\n",
      "60\n",
      "62\n",
      "64\n",
      "66\n",
      "68\n",
      "70\n",
      "72\n",
      "74\n",
      "76\n",
      "78\n",
      "80\n",
      "82\n",
      "84\n",
      "86\n",
      "88\n",
      "90\n",
      "92\n",
      "94\n",
      "96\n",
      "98\n",
      "100\n",
      "100\n"
     ]
    }
   ],
   "source": [
    "#Gaukite sumą pirmų 50 skaičių imtinai\n",
    "\n",
    "suma=0 #teisingai\n",
    "\n",
    "for number in range (1,51):\n",
    "    suma+=number\n",
    "print(suma)\n",
    "\n",
    "\n",
    "for number in range (1,51):\n",
    "    number+=number\n",
    "    print(number)\n",
    "\n",
    "\n",
    "for number in range (1,51): #?\n",
    "    number+=number\n",
    "print(number)\n",
    "\n"
   ]
  },
  {
   "cell_type": "code",
   "execution_count": 21,
   "metadata": {},
   "outputs": [
    {
     "name": "stdout",
     "output_type": "stream",
     "text": [
      "[('Pirmadienis', 10), ('Pirmadienis', 11), ('Pirmadienis', 12), ('Pirmadienis', 13), ('Pirmadienis', 14), ('Pirmadienis', 15), ('Pirmadienis', 16), ('Pirmadienis', 17), ('Pirmadienis', 18), ('Pirmadienis', 19), ('Antradienis', 10), ('Antradienis', 11), ('Antradienis', 12), ('Antradienis', 13), ('Antradienis', 14), ('Antradienis', 15), ('Antradienis', 16), ('Antradienis', 17), ('Antradienis', 18), ('Antradienis', 19), ('Treciadienis', 10), ('Treciadienis', 11), ('Treciadienis', 12), ('Treciadienis', 13), ('Treciadienis', 14), ('Treciadienis', 15), ('Treciadienis', 16), ('Treciadienis', 17), ('Treciadienis', 18), ('Treciadienis', 19), ('Ketvirtadienis', 10), ('Ketvirtadienis', 11), ('Ketvirtadienis', 12), ('Ketvirtadienis', 13), ('Ketvirtadienis', 14), ('Ketvirtadienis', 15), ('Ketvirtadienis', 16), ('Ketvirtadienis', 17), ('Ketvirtadienis', 18), ('Ketvirtadienis', 19), ('Penktadienis', 10), ('Penktadienis', 11), ('Penktadienis', 12), ('Penktadienis', 13), ('Penktadienis', 14), ('Penktadienis', 15), ('Penktadienis', 16), ('Penktadienis', 17), ('Penktadienis', 18), ('Penktadienis', 19), ('Sestadienis', 10), ('Sestadienis', 11), ('Sestadienis', 12), ('Sestadienis', 13), ('Sestadienis', 14), ('Sestadienis', 15), ('Sestadienis', 16), ('Sestadienis', 17), ('Sestadienis', 18), ('Sestadienis', 19), ('Sekmadienis', 10), ('Sekmadienis', 11), ('Sekmadienis', 12), ('Sekmadienis', 13), ('Sekmadienis', 14), ('Sekmadienis', 15), ('Sekmadienis', 16), ('Sekmadienis', 17), ('Sekmadienis', 18), ('Sekmadienis', 19)]\n",
      "['Pirmadienis 10', 'Pirmadienis 11', 'Pirmadienis 12', 'Pirmadienis 13', 'Pirmadienis 14', 'Pirmadienis 15', 'Pirmadienis 16', 'Pirmadienis 17', 'Pirmadienis 18', 'Pirmadienis 19', 'Antradienis 10', 'Antradienis 11', 'Antradienis 12', 'Antradienis 13', 'Antradienis 14', 'Antradienis 15', 'Antradienis 16', 'Antradienis 17', 'Antradienis 18', 'Antradienis 19', 'Treciadienis 10', 'Treciadienis 11', 'Treciadienis 12', 'Treciadienis 13', 'Treciadienis 14', 'Treciadienis 15', 'Treciadienis 16', 'Treciadienis 17', 'Treciadienis 18', 'Treciadienis 19', 'Ketvirtadienis 10', 'Ketvirtadienis 11', 'Ketvirtadienis 12', 'Ketvirtadienis 13', 'Ketvirtadienis 14', 'Ketvirtadienis 15', 'Ketvirtadienis 16', 'Ketvirtadienis 17', 'Ketvirtadienis 18', 'Ketvirtadienis 19', 'Penktadienis 10', 'Penktadienis 11', 'Penktadienis 12', 'Penktadienis 13', 'Penktadienis 14', 'Penktadienis 15', 'Penktadienis 16', 'Penktadienis 17', 'Penktadienis 18', 'Penktadienis 19', 'Sestadienis 10', 'Sestadienis 11', 'Sestadienis 12', 'Sestadienis 13', 'Sestadienis 14', 'Sestadienis 15', 'Sestadienis 16', 'Sestadienis 17', 'Sestadienis 18', 'Sestadienis 19', 'Sekmadienis 10', 'Sekmadienis 11', 'Sekmadienis 12', 'Sekmadienis 13', 'Sekmadienis 14', 'Sekmadienis 15', 'Sekmadienis 16', 'Sekmadienis 17', 'Sekmadienis 18', 'Sekmadienis 19']\n"
     ]
    }
   ],
   "source": [
    "\n",
    "# Gaukite visas įmanomas kombinacijas iš šių sąrašų, įrašykite jas į list’ą\n",
    "\n",
    "#klaseje atliktas\n",
    "dienos = [\"Pirmadienis\", \"Antradienis\", \"Treciadienis\", \"Ketvirtadienis\", \"Penktadienis\", \"Sestadienis\" , \"Sekmadienis\"]\n",
    "valandos = [10, 11, 12, 13, 14, 15, 16, 17, 18, 19]\n",
    "\n",
    "\n",
    "kombinacijos =[]\n",
    "\n",
    "for diena in dienos:\n",
    "    for valanda in valandos:\n",
    "        kombinacijos.append( (diena,valanda) )\n",
    "print(kombinacijos)\n",
    "\n",
    "\n",
    "#mano - ar tinkamas budas?\n",
    "\n",
    "kombinacijos = [ (f'{dienos} ') + valandos for dienos in [\"Pirmadienis\", \"Antradienis\", \"Treciadienis\", \"Ketvirtadienis\", \"Penktadienis\", \"Sestadienis\" , \"Sekmadienis\"] for\n",
    "valandos in [\"10\", \"11\", '12', '13', '14', '15', '16', '17', '18', '19']]\n",
    "print(kombinacijos)"
   ]
  },
  {
   "cell_type": "code",
   "execution_count": 25,
   "metadata": {},
   "outputs": [
    {
     "name": "stdout",
     "output_type": "stream",
     "text": [
      "(1, 5846, 3, 74, 4, 68, 4, 8, 7, 4)\n",
      "(1, 5846, 3, 74, 4, 68, 4, 8, 7)\n"
     ]
    }
   ],
   "source": [
    "my_tuple = (1,5846,3,74) + (4,68,4,8,7,4)\n",
    "print(my_tuple)\n",
    "my_tuple = my_tuple[0:9] # tas pats kaip my_tuple = my_tuple[:-1]\n",
    "print(my_tuple)"
   ]
  }
 ],
 "metadata": {
  "interpreter": {
   "hash": "6b66f59a3f4bed3d737f557ac50d309cac13919fa3d2e68321e2748bd52e6d7e"
  },
  "kernelspec": {
   "display_name": "Python 3.10.2 64-bit",
   "language": "python",
   "name": "python3"
  },
  "language_info": {
   "codemirror_mode": {
    "name": "ipython",
    "version": 3
   },
   "file_extension": ".py",
   "mimetype": "text/x-python",
   "name": "python",
   "nbconvert_exporter": "python",
   "pygments_lexer": "ipython3",
   "version": "3.10.2"
  },
  "orig_nbformat": 4
 },
 "nbformat": 4,
 "nbformat_minor": 2
}
