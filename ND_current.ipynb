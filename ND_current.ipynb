{
 "cells": [
  {
   "cell_type": "code",
   "execution_count": 15,
   "metadata": {},
   "outputs": [
    {
     "name": "stdout",
     "output_type": "stream",
     "text": [
      "2 - Fizz\n",
      "3 - Buzz\n",
      "4 - Fizz\n",
      "6 - Fizz\n",
      "6 - Buzz\n",
      "6 - FizzBuzz\n",
      "8 - Fizz\n",
      "9 - Buzz\n",
      "10 - Fizz\n",
      "12 - Fizz\n",
      "12 - Buzz\n",
      "12 - FizzBuzz\n",
      "14 - Fizz\n",
      "15 - Buzz\n",
      "16 - Fizz\n",
      "18 - Fizz\n",
      "18 - Buzz\n",
      "18 - FizzBuzz\n",
      "20 - Fizz\n",
      "21 - Buzz\n",
      "22 - Fizz\n",
      "24 - Fizz\n",
      "24 - Buzz\n",
      "24 - FizzBuzz\n",
      "26 - Fizz\n",
      "27 - Buzz\n",
      "28 - Fizz\n",
      "30 - Fizz\n",
      "30 - Buzz\n",
      "30 - FizzBuzz\n",
      "32 - Fizz\n",
      "33 - Buzz\n",
      "34 - Fizz\n",
      "36 - Fizz\n",
      "36 - Buzz\n",
      "36 - FizzBuzz\n",
      "38 - Fizz\n",
      "39 - Buzz\n",
      "40 - Fizz\n",
      "42 - Fizz\n",
      "42 - Buzz\n",
      "42 - FizzBuzz\n",
      "44 - Fizz\n",
      "45 - Buzz\n",
      "46 - Fizz\n",
      "48 - Fizz\n",
      "48 - Buzz\n",
      "48 - FizzBuzz\n",
      "50 - Fizz\n",
      "51 - Buzz\n",
      "52 - Fizz\n",
      "54 - Fizz\n",
      "54 - Buzz\n",
      "54 - FizzBuzz\n",
      "56 - Fizz\n",
      "57 - Buzz\n",
      "58 - Fizz\n",
      "60 - Fizz\n",
      "60 - Buzz\n",
      "60 - FizzBuzz\n",
      "62 - Fizz\n",
      "63 - Buzz\n",
      "64 - Fizz\n",
      "66 - Fizz\n",
      "66 - Buzz\n",
      "66 - FizzBuzz\n",
      "68 - Fizz\n",
      "69 - Buzz\n",
      "70 - Fizz\n",
      "72 - Fizz\n",
      "72 - Buzz\n",
      "72 - FizzBuzz\n",
      "74 - Fizz\n",
      "75 - Buzz\n",
      "76 - Fizz\n",
      "78 - Fizz\n",
      "78 - Buzz\n",
      "78 - FizzBuzz\n",
      "80 - Fizz\n",
      "81 - Buzz\n",
      "82 - Fizz\n",
      "84 - Fizz\n",
      "84 - Buzz\n",
      "84 - FizzBuzz\n",
      "86 - Fizz\n",
      "87 - Buzz\n",
      "88 - Fizz\n",
      "90 - Fizz\n",
      "90 - Buzz\n",
      "90 - FizzBuzz\n",
      "92 - Fizz\n",
      "93 - Buzz\n",
      "94 - Fizz\n",
      "96 - Fizz\n",
      "96 - Buzz\n",
      "96 - FizzBuzz\n",
      "98 - Fizz\n",
      "99 - Buzz\n",
      "100 - Fizz\n"
     ]
    }
   ],
   "source": [
    "# 1. \n",
    "\n",
    "# Iš pirmų 100 skaičių, jeigu skaičius dalinasi iš 2 be liekanos, \n",
    "# atspausdinkite ‘Fizz’, jeigu skaičius dalinasi iš 3 be liekanos \n",
    "# atspausdinkite ‘Buzz’, \n",
    "# jei skaičius dalinasi iš 2 ir 3 be liekanos, atspausdinkite ‘FizzBuzz’\n",
    "\n",
    "\n",
    "\n",
    "for number in range(1,101):\n",
    "    if number % 2 == 0:\n",
    "        print (number, \"-\", \"Fizz\")\n",
    "    if number % 3==0:\n",
    "        print(number, \"-\", \"Buzz\")\n",
    "    if number % 2 == 0 and number % 3==0: #    if number % 6 == 0:\n",
    "        print(number, \"-\", 'FizzBuzz')\n",
    "\n",
    "\n",
    "\n",
    "#arba"
   ]
  },
  {
   "cell_type": "code",
   "execution_count": 19,
   "metadata": {},
   "outputs": [
    {
     "name": "stdout",
     "output_type": "stream",
     "text": [
      "1 \n",
      "2 Fizz\n",
      "3 Buzz\n",
      "4 Fizz\n",
      "5 \n",
      "6 FizzBuzz\n",
      "7 \n",
      "8 Fizz\n",
      "9 Buzz\n",
      "10 Fizz\n",
      "11 \n",
      "12 FizzBuzz\n",
      "13 \n",
      "14 Fizz\n",
      "15 Buzz\n",
      "16 Fizz\n",
      "17 \n",
      "18 FizzBuzz\n",
      "19 \n",
      "20 Fizz\n",
      "21 Buzz\n",
      "22 Fizz\n",
      "23 \n",
      "24 FizzBuzz\n",
      "25 \n",
      "26 Fizz\n",
      "27 Buzz\n",
      "28 Fizz\n",
      "29 \n",
      "30 FizzBuzz\n",
      "31 \n",
      "32 Fizz\n",
      "33 Buzz\n",
      "34 Fizz\n",
      "35 \n",
      "36 FizzBuzz\n",
      "37 \n",
      "38 Fizz\n",
      "39 Buzz\n",
      "40 Fizz\n",
      "41 \n",
      "42 FizzBuzz\n",
      "43 \n",
      "44 Fizz\n",
      "45 Buzz\n",
      "46 Fizz\n",
      "47 \n",
      "48 FizzBuzz\n",
      "49 \n",
      "50 Fizz\n",
      "51 Buzz\n",
      "52 Fizz\n",
      "53 \n",
      "54 FizzBuzz\n",
      "55 \n",
      "56 Fizz\n",
      "57 Buzz\n",
      "58 Fizz\n",
      "59 \n",
      "60 FizzBuzz\n",
      "61 \n",
      "62 Fizz\n",
      "63 Buzz\n",
      "64 Fizz\n",
      "65 \n",
      "66 FizzBuzz\n",
      "67 \n",
      "68 Fizz\n",
      "69 Buzz\n",
      "70 Fizz\n",
      "71 \n",
      "72 FizzBuzz\n",
      "73 \n",
      "74 Fizz\n",
      "75 Buzz\n",
      "76 Fizz\n",
      "77 \n",
      "78 FizzBuzz\n",
      "79 \n",
      "80 Fizz\n",
      "81 Buzz\n",
      "82 Fizz\n",
      "83 \n",
      "84 FizzBuzz\n",
      "85 \n",
      "86 Fizz\n",
      "87 Buzz\n",
      "88 Fizz\n",
      "89 \n",
      "90 FizzBuzz\n",
      "91 \n",
      "92 Fizz\n",
      "93 Buzz\n",
      "94 Fizz\n",
      "95 \n",
      "96 FizzBuzz\n",
      "97 \n",
      "98 Fizz\n",
      "99 Buzz\n",
      "100 Fizz\n"
     ]
    }
   ],
   "source": [
    "for number in range(1,101): # du if, kad jei atitinka abi salygas paraso FizzBuzz\n",
    "    result_text = ''\n",
    "    if number % 2 == 0:\n",
    "        result_text += \"Fizz\"\n",
    "    if number % 3==0:\n",
    "        result_text += \"Buzz\"\n",
    "    print(number, result_text)"
   ]
  },
  {
   "cell_type": "code",
   "execution_count": 10,
   "metadata": {},
   "outputs": [
    {
     "name": "stdout",
     "output_type": "stream",
     "text": [
      " 4 neatitinka salygu\n"
     ]
    }
   ],
   "source": [
    "# Leiskite pasirinkti skaičių, jeigu įvestas skaičius yra \n",
    "# daugiau arba lygus 10, atspausdinkite visus skaičius \n",
    "# kurie dalinasi iš 5 su liekana\n",
    "\n",
    "input_number = int(input(\"Iveskite skaiciu:\")) #papildyti\n",
    "\n",
    "\n",
    "if input_number >= 10 and input_number % 5 != 0:\n",
    "    print(input_number)\n",
    "else:\n",
    "    print (f\" {input_number} neatitinka salygu\")    \n",
    "\n"
   ]
  },
  {
   "cell_type": "code",
   "execution_count": 27,
   "metadata": {},
   "outputs": [
    {
     "name": "stdout",
     "output_type": "stream",
     "text": [
      "[('1', 'labas', 100), ('1', 'labas', 200), ('1', 'labas', 40), ('1', 'labas', 10), ('1', 'vakaras', 100), ('1', 'vakaras', 200), ('1', 'vakaras', 40), ('1', 'vakaras', 10), ('1', 'kokia grazi diena', 100), ('1', 'kokia grazi diena', 200), ('1', 'kokia grazi diena', 40), ('1', 'kokia grazi diena', 10), ('1', 'siandien uz lango', 100), ('1', 'siandien uz lango', 200), ('1', 'siandien uz lango', 40), ('1', 'siandien uz lango', 10), ('1', '10 laipsniu silumos', 100), ('1', '10 laipsniu silumos', 200), ('1', '10 laipsniu silumos', 40), ('1', '10 laipsniu silumos', 10), ('2', 'labas', 100), ('2', 'labas', 200), ('2', 'labas', 40), ('2', 'labas', 10), ('2', 'vakaras', 100), ('2', 'vakaras', 200), ('2', 'vakaras', 40), ('2', 'vakaras', 10), ('2', 'kokia grazi diena', 100), ('2', 'kokia grazi diena', 200), ('2', 'kokia grazi diena', 40), ('2', 'kokia grazi diena', 10), ('2', 'siandien uz lango', 100), ('2', 'siandien uz lango', 200), ('2', 'siandien uz lango', 40), ('2', 'siandien uz lango', 10), ('2', '10 laipsniu silumos', 100), ('2', '10 laipsniu silumos', 200), ('2', '10 laipsniu silumos', 40), ('2', '10 laipsniu silumos', 10), ('3', 'labas', 100), ('3', 'labas', 200), ('3', 'labas', 40), ('3', 'labas', 10), ('3', 'vakaras', 100), ('3', 'vakaras', 200), ('3', 'vakaras', 40), ('3', 'vakaras', 10), ('3', 'kokia grazi diena', 100), ('3', 'kokia grazi diena', 200), ('3', 'kokia grazi diena', 40), ('3', 'kokia grazi diena', 10), ('3', 'siandien uz lango', 100), ('3', 'siandien uz lango', 200), ('3', 'siandien uz lango', 40), ('3', 'siandien uz lango', 10), ('3', '10 laipsniu silumos', 100), ('3', '10 laipsniu silumos', 200), ('3', '10 laipsniu silumos', 40), ('3', '10 laipsniu silumos', 10), ('4', 'labas', 100), ('4', 'labas', 200), ('4', 'labas', 40), ('4', 'labas', 10), ('4', 'vakaras', 100), ('4', 'vakaras', 200), ('4', 'vakaras', 40), ('4', 'vakaras', 10), ('4', 'kokia grazi diena', 100), ('4', 'kokia grazi diena', 200), ('4', 'kokia grazi diena', 40), ('4', 'kokia grazi diena', 10), ('4', 'siandien uz lango', 100), ('4', 'siandien uz lango', 200), ('4', 'siandien uz lango', 40), ('4', 'siandien uz lango', 10), ('4', '10 laipsniu silumos', 100), ('4', '10 laipsniu silumos', 200), ('4', '10 laipsniu silumos', 40), ('4', '10 laipsniu silumos', 10), ('5', 'labas', 100), ('5', 'labas', 200), ('5', 'labas', 40), ('5', 'labas', 10), ('5', 'vakaras', 100), ('5', 'vakaras', 200), ('5', 'vakaras', 40), ('5', 'vakaras', 10), ('5', 'kokia grazi diena', 100), ('5', 'kokia grazi diena', 200), ('5', 'kokia grazi diena', 40), ('5', 'kokia grazi diena', 10), ('5', 'siandien uz lango', 100), ('5', 'siandien uz lango', 200), ('5', 'siandien uz lango', 40), ('5', 'siandien uz lango', 10), ('5', '10 laipsniu silumos', 100), ('5', '10 laipsniu silumos', 200), ('5', '10 laipsniu silumos', 40), ('5', '10 laipsniu silumos', 10)]\n",
      "[('1', 'labas', 200), ('1', 'vakaras', 200), ('1', 'kokia grazi diena', 200), ('1', 'siandien uz lango', 200), ('1', '10 laipsniu silumos', 200), ('2', 'labas', 200), ('2', 'vakaras', 200), ('2', 'kokia grazi diena', 200), ('2', 'siandien uz lango', 200), ('2', '10 laipsniu silumos', 200), ('3', 'labas', 200), ('3', 'vakaras', 200), ('3', 'kokia grazi diena', 200), ('3', 'siandien uz lango', 200), ('3', '10 laipsniu silumos', 200), ('4', 'labas', 200), ('4', 'vakaras', 200), ('4', 'kokia grazi diena', 200), ('4', 'siandien uz lango', 200), ('4', '10 laipsniu silumos', 200), ('5', 'labas', 200), ('5', 'vakaras', 200), ('5', 'kokia grazi diena', 200), ('5', 'siandien uz lango', 200), ('5', '10 laipsniu silumos', 200), ('1', 'labas', 100), ('1', 'vakaras', 100), ('1', 'kokia grazi diena', 100), ('1', 'siandien uz lango', 100), ('1', '10 laipsniu silumos', 100), ('2', 'labas', 100), ('2', 'vakaras', 100), ('2', 'kokia grazi diena', 100), ('2', 'siandien uz lango', 100), ('2', '10 laipsniu silumos', 100), ('3', 'labas', 100), ('3', 'vakaras', 100), ('3', 'kokia grazi diena', 100), ('3', 'siandien uz lango', 100), ('3', '10 laipsniu silumos', 100), ('4', 'labas', 100), ('4', 'vakaras', 100), ('4', 'kokia grazi diena', 100), ('4', 'siandien uz lango', 100), ('4', '10 laipsniu silumos', 100), ('5', 'labas', 100), ('5', 'vakaras', 100), ('5', 'kokia grazi diena', 100), ('5', 'siandien uz lango', 100), ('5', '10 laipsniu silumos', 100), ('1', 'labas', 40), ('1', 'vakaras', 40), ('1', 'kokia grazi diena', 40), ('1', 'siandien uz lango', 40), ('1', '10 laipsniu silumos', 40), ('2', 'labas', 40), ('2', 'vakaras', 40), ('2', 'kokia grazi diena', 40), ('2', 'siandien uz lango', 40), ('2', '10 laipsniu silumos', 40), ('3', 'labas', 40), ('3', 'vakaras', 40), ('3', 'kokia grazi diena', 40), ('3', 'siandien uz lango', 40), ('3', '10 laipsniu silumos', 40), ('4', 'labas', 40), ('4', 'vakaras', 40), ('4', 'kokia grazi diena', 40), ('4', 'siandien uz lango', 40), ('4', '10 laipsniu silumos', 40), ('5', 'labas', 40), ('5', 'vakaras', 40), ('5', 'kokia grazi diena', 40), ('5', 'siandien uz lango', 40), ('5', '10 laipsniu silumos', 40), ('1', 'labas', 10), ('1', 'vakaras', 10), ('1', 'kokia grazi diena', 10), ('1', 'siandien uz lango', 10), ('1', '10 laipsniu silumos', 10), ('2', 'labas', 10), ('2', 'vakaras', 10), ('2', 'kokia grazi diena', 10), ('2', 'siandien uz lango', 10), ('2', '10 laipsniu silumos', 10), ('3', 'labas', 10), ('3', 'vakaras', 10), ('3', 'kokia grazi diena', 10), ('3', 'siandien uz lango', 10), ('3', '10 laipsniu silumos', 10), ('4', 'labas', 10), ('4', 'vakaras', 10), ('4', 'kokia grazi diena', 10), ('4', 'siandien uz lango', 10), ('4', '10 laipsniu silumos', 10), ('5', 'labas', 10), ('5', 'vakaras', 10), ('5', 'kokia grazi diena', 10), ('5', 'siandien uz lango', 10), ('5', '10 laipsniu silumos', 10)]\n",
      "100\n"
     ]
    }
   ],
   "source": [
    "# Koks yra sąrašo ilgis sudaryto iš pateiktų sąrašų kombinacijų, \n",
    "# jeigu norime rasti visas įmanomas reikšmes? \n",
    "# Išrikiuokite sąrašą nuo didžiausios iki mažiausios reikšmės\n",
    "\n",
    "#manau ne taip reikejo padaryti, bet kitaip neisgalvojau  :)\n",
    "\n",
    "a = ['1','2','3','4','5']\n",
    "b = ['labas', 'vakaras', 'kokia grazi diena', 'siandien uz lango', '10 laipsniu silumos']\n",
    "c = ['100', '200', 40, 10]\n",
    "\n",
    "\n",
    "# kombinacijos = []\n",
    "\n",
    "# for a_3 in a:\n",
    "#     for b_3 in b:\n",
    "#         for c_3 in c:\n",
    "#             kombinacijos.append((a_3, b_3, c_3))\n",
    "\n",
    "kombinacijos = [(a_3, b_3, int(c_3)) for a_3 in a for b_3 in b for c_3 in c ]\n",
    "\n",
    "print(kombinacijos)\n",
    "\n",
    "print(sorted(kombinacijos, key=lambda x: x[2], reverse=True))\n",
    "\n",
    "\n",
    "print(sorted(kombinacijos, key=lambda x: x[2], reverse=True))\n",
    "\n"
   ]
  },
  {
   "cell_type": "code",
   "execution_count": 30,
   "metadata": {},
   "outputs": [
    {
     "name": "stdout",
     "output_type": "stream",
     "text": [
      " Pajamos yra 14943.96\n",
      "14944 4\n"
     ]
    }
   ],
   "source": [
    "# 4. Paskaičiuoti pelną pardavus visas prekes. Informacija apie kainą ir \n",
    "# kiekius yra pateikiama  kaip dictionary, atsakymą suapvalinti iki 2 skaičių po kablelio.\n",
    "\n",
    "\n",
    "x = { \"cost_price\": 32.67,\n",
    "         \"sell_price\": 45.00,\n",
    "         \"inventory\": 1212 \n",
    "}\n",
    "\n",
    "income = x[\"sell_price\"]*x[\"inventory\"]\n",
    "cost = x[\"cost_price\"]*x[\"inventory\"]\n",
    "print(\" Pajamos yra\", income - cost)\n",
    "\n",
    "#arba\n",
    "pelnas = (x[\"sell_price\"] - x[\"cost_price\"]) * x[\"inventory\"]\n",
    "print(round(pelnas),\n",
    ")\n"
   ]
  },
  {
   "cell_type": "code",
   "execution_count": 67,
   "metadata": {},
   "outputs": [],
   "source": [
    "# 5. Parašykite funkciją, kuri priims listą ir patikrins ar listo narys n+1 yra 1 didesnis nei n, \n",
    "# jeigu visi listo nariai einantys vienas po kito yra didesni per 1, vadinasi anomalijos nėra, \n",
    "# jei nors 1 narys neatitinka sekos, vadinasi yra anomalija.\n",
    "\n",
    "def function_2 (list_3):\n",
    "    number=list_3[0]\n",
    "    for number in range(len(list_3)-1):\n",
    "        if (list_3[number + 1]) >= (list_3[number]):\n",
    "            number+=1\n",
    "            return (f\"Tarp skaiciu {number} ir {number+1} anomalijos nera \")\n",
    "        # return (f'Anomalija yra! Skaiciai {} ir {} nera einantys vienas po kito! Trukstamas skaicius yra {}') - nezinau kaip padaryti\n",
    "\n",
    "#arba -PABAIGTI\n",
    "# def function_2 (list_3):\n",
    "#     for number in range(len(list_3)-1):\n",
    "\n",
    "\n",
    "def anomaly_2 (my_list):\n",
    "    my_list\n",
    "\n",
    "\n",
    "\n",
    "# pvz: \n",
    "\n",
    "# list_3 = [17,18,19,21]\n",
    "\n",
    "# Tarp skaiciu 17 ir 18 anomalijos nera \n",
    "# Tarp skaiciu 18 ir 19 anomalijos nera \n",
    "# Anomalija yra! Skaiciai 19 ir 21 nera einantys vienas po kito! Trukstamas skaicius yra 20"
   ]
  },
  {
   "cell_type": "code",
   "execution_count": null,
   "metadata": {},
   "outputs": [],
   "source": []
  },
  {
   "cell_type": "code",
   "execution_count": 82,
   "metadata": {},
   "outputs": [
    {
     "data": {
      "text/plain": [
       "'Tarp skaiciu 1 ir 2 anomalijos nera '"
      ]
     },
     "execution_count": 82,
     "metadata": {},
     "output_type": "execute_result"
    }
   ],
   "source": [
    "list_3 = [17,18,19,21] # - nepavyko atlikti sios uzduoties\n",
    "\n",
    "function_2(list_3)"
   ]
  },
  {
   "cell_type": "code",
   "execution_count": 12,
   "metadata": {},
   "outputs": [],
   "source": [
    "def anomaly_2 (my_list):# pabaigti\n",
    "\n",
    "    for left_number, right_number in zip(my_list[:-1], my_list[1:]):\n",
    "        print(left_number, right_number)\n",
    "        if left_number + 1 == right_number:\n",
    "            print(\"Anamalijos nera\")\n",
    "        else:\n",
    "\n",
    "\n"
   ]
  },
  {
   "cell_type": "code",
   "execution_count": 13,
   "metadata": {},
   "outputs": [
    {
     "name": "stdout",
     "output_type": "stream",
     "text": [
      "[17, 18, 19, 21]\n",
      "[18, 19, 21, 25]\n"
     ]
    }
   ],
   "source": [
    "my_list = [17,18,19,21, 25]\n",
    "print(my_list[:-1])\n",
    "print(my_list[1:])"
   ]
  },
  {
   "cell_type": "code",
   "execution_count": 11,
   "metadata": {},
   "outputs": [
    {
     "data": {
      "text/plain": [
       "21"
      ]
     },
     "execution_count": 11,
     "metadata": {},
     "output_type": "execute_result"
    }
   ],
   "source": [
    "# 6. Parašykite funkciją, kuri priims list’ą, gaukite didžiausią šalia esančių skaičių sandaugą.\n",
    "\n",
    "def my_fnc(my_list):\n",
    "    max = my_list[0] * my_list[1]\n",
    "    for number in range(1,len(my_list)-1):\n",
    "        multiply = my_list[number] * my_list[number +1]\n",
    "        if max < multiply:\n",
    "            max = multiply\n",
    "    return max\n",
    "\n",
    "my_list = [3, 6, -2, -5, 7, 3]\n",
    "\n",
    "my_fnc(my_list)\n",
    "\n",
    "# rezultatas = 21, nes 7 ir 3 sandauga yra didžiausia"
   ]
  },
  {
   "cell_type": "code",
   "execution_count": 14,
   "metadata": {},
   "outputs": [
    {
     "data": {
      "text/plain": [
       "21"
      ]
     },
     "execution_count": 14,
     "metadata": {},
     "output_type": "execute_result"
    }
   ],
   "source": [
    "def max_neighbors (my_list):\n",
    "    max_value = my_list[0] * my_list[1]\n",
    "    for left_number, right_number in zip(my_list[1:-1], my_list[2:]):\n",
    "        if left_number * right_number >max_value:\n",
    "         max_value=left_number * right_number\n",
    "    return max_value\n",
    "\n",
    "my_list = [3, 6, -2, -5, 7, 3]\n",
    "\n",
    "max_neighbors(my_list)"
   ]
  },
  {
   "cell_type": "markdown",
   "metadata": {},
   "source": [
    "# Klausimai is paskaitu"
   ]
  },
  {
   "cell_type": "code",
   "execution_count": 27,
   "metadata": {},
   "outputs": [
    {
     "name": "stdout",
     "output_type": "stream",
     "text": [
      "[('Pirmadienis', 10), ('Pirmadienis', 11), ('Pirmadienis', 12), ('Pirmadienis', 13), ('Pirmadienis', 14), ('Pirmadienis', 15), ('Pirmadienis', 16), ('Pirmadienis', 17), ('Pirmadienis', 18), ('Pirmadienis', 19), ('Antradienis', 10), ('Antradienis', 11), ('Antradienis', 12), ('Antradienis', 13), ('Antradienis', 14), ('Antradienis', 15), ('Antradienis', 16), ('Antradienis', 17), ('Antradienis', 18), ('Antradienis', 19), ('Treciadienis', 10), ('Treciadienis', 11), ('Treciadienis', 12), ('Treciadienis', 13), ('Treciadienis', 14), ('Treciadienis', 15), ('Treciadienis', 16), ('Treciadienis', 17), ('Treciadienis', 18), ('Treciadienis', 19), ('Ketvirtadienis', 10), ('Ketvirtadienis', 11), ('Ketvirtadienis', 12), ('Ketvirtadienis', 13), ('Ketvirtadienis', 14), ('Ketvirtadienis', 15), ('Ketvirtadienis', 16), ('Ketvirtadienis', 17), ('Ketvirtadienis', 18), ('Ketvirtadienis', 19), ('Penktadienis', 10), ('Penktadienis', 11), ('Penktadienis', 12), ('Penktadienis', 13), ('Penktadienis', 14), ('Penktadienis', 15), ('Penktadienis', 16), ('Penktadienis', 17), ('Penktadienis', 18), ('Penktadienis', 19), ('Sestadienis', 10), ('Sestadienis', 11), ('Sestadienis', 12), ('Sestadienis', 13), ('Sestadienis', 14), ('Sestadienis', 15), ('Sestadienis', 16), ('Sestadienis', 17), ('Sestadienis', 18), ('Sestadienis', 19), ('Sekmadienis', 10), ('Sekmadienis', 11), ('Sekmadienis', 12), ('Sekmadienis', 13), ('Sekmadienis', 14), ('Sekmadienis', 15), ('Sekmadienis', 16), ('Sekmadienis', 17), ('Sekmadienis', 18), ('Sekmadienis', 19)]\n",
      "['Pirmadienis 10', 'Pirmadienis 11', 'Pirmadienis 12', 'Pirmadienis 13', 'Pirmadienis 14', 'Pirmadienis 15', 'Pirmadienis 16', 'Pirmadienis 17', 'Pirmadienis 18', 'Pirmadienis 19', 'Antradienis 10', 'Antradienis 11', 'Antradienis 12', 'Antradienis 13', 'Antradienis 14', 'Antradienis 15', 'Antradienis 16', 'Antradienis 17', 'Antradienis 18', 'Antradienis 19', 'Treciadienis 10', 'Treciadienis 11', 'Treciadienis 12', 'Treciadienis 13', 'Treciadienis 14', 'Treciadienis 15', 'Treciadienis 16', 'Treciadienis 17', 'Treciadienis 18', 'Treciadienis 19', 'Ketvirtadienis 10', 'Ketvirtadienis 11', 'Ketvirtadienis 12', 'Ketvirtadienis 13', 'Ketvirtadienis 14', 'Ketvirtadienis 15', 'Ketvirtadienis 16', 'Ketvirtadienis 17', 'Ketvirtadienis 18', 'Ketvirtadienis 19', 'Penktadienis 10', 'Penktadienis 11', 'Penktadienis 12', 'Penktadienis 13', 'Penktadienis 14', 'Penktadienis 15', 'Penktadienis 16', 'Penktadienis 17', 'Penktadienis 18', 'Penktadienis 19', 'Sestadienis 10', 'Sestadienis 11', 'Sestadienis 12', 'Sestadienis 13', 'Sestadienis 14', 'Sestadienis 15', 'Sestadienis 16', 'Sestadienis 17', 'Sestadienis 18', 'Sestadienis 19', 'Sekmadienis 10', 'Sekmadienis 11', 'Sekmadienis 12', 'Sekmadienis 13', 'Sekmadienis 14', 'Sekmadienis 15', 'Sekmadienis 16', 'Sekmadienis 17', 'Sekmadienis 18', 'Sekmadienis 19']\n"
     ]
    }
   ],
   "source": [
    "\n",
    "# Gaukite visas įmanomas kombinacijas iš šių sąrašų, įrašykite jas į list’ą\n",
    "\n",
    "#klaseje atliktas\n",
    "dienos = [\"Pirmadienis\", \"Antradienis\", \"Treciadienis\", \"Ketvirtadienis\", \"Penktadienis\", \"Sestadienis\" , \"Sekmadienis\"]\n",
    "valandos = [10, 11, 12, 13, 14, 15, 16, 17, 18, 19]\n",
    "\n",
    "\n",
    "kombinacijos =[]\n",
    "\n",
    "for diena in dienos:\n",
    "    for valanda in valandos:\n",
    "        kombinacijos.append( (diena,valanda) )\n",
    "print(kombinacijos)\n",
    "\n",
    "\n",
    "#mano - ar tinkamas budas?\n",
    "\n",
    "kombinacijos = [ (f'{dienos} ') + valandos for dienos in [\"Pirmadienis\", \"Antradienis\", \"Treciadienis\", \"Ketvirtadienis\", \"Penktadienis\", \"Sestadienis\" , \"Sekmadienis\"] for\n",
    "valandos in [\"10\", \"11\", '12', '13', '14', '15', '16', '17', '18', '19']]\n",
    "print(kombinacijos)"
   ]
  },
  {
   "cell_type": "code",
   "execution_count": 22,
   "metadata": {},
   "outputs": [
    {
     "name": "stdout",
     "output_type": "stream",
     "text": [
      "1275\n",
      "100\n"
     ]
    }
   ],
   "source": [
    "#Gaukite sumą pirmų 50 skaičių imtinai\n",
    "\n",
    "suma=0 #teisingai - paskaitoj sprendem\n",
    "\n",
    "for number in range (1,51):\n",
    "    suma+=number\n",
    "print(suma)\n",
    "\n",
    "\n",
    "for number in range (1,51): #? - o ka nurodo tas 100?\n",
    "    number+=number\n",
    "print(number)\n",
    "\n"
   ]
  }
 ],
 "metadata": {
  "interpreter": {
   "hash": "6b66f59a3f4bed3d737f557ac50d309cac13919fa3d2e68321e2748bd52e6d7e"
  },
  "kernelspec": {
   "display_name": "Python 3.10.2 64-bit",
   "language": "python",
   "name": "python3"
  },
  "language_info": {
   "codemirror_mode": {
    "name": "ipython",
    "version": 3
   },
   "file_extension": ".py",
   "mimetype": "text/x-python",
   "name": "python",
   "nbconvert_exporter": "python",
   "pygments_lexer": "ipython3",
   "version": "3.10.2"
  },
  "orig_nbformat": 4
 },
 "nbformat": 4,
 "nbformat_minor": 2
}
