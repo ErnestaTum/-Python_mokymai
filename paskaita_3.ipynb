{
 "cells": [
  {
   "cell_type": "code",
   "execution_count": 8,
   "metadata": {},
   "outputs": [],
   "source": [
    "cities = [\"Vilnius\",\"Kaunas\", \"Siauliai\", \"Panevezys\"]"
   ]
  },
  {
   "cell_type": "code",
   "execution_count": 9,
   "metadata": {},
   "outputs": [
    {
     "name": "stdout",
     "output_type": "stream",
     "text": [
      "Vilnius\n",
      "Sveikiname Vilnius su svente\n",
      "pradedam sekancia ciklo iteracija\n",
      "Kaunas\n",
      "Sveikiname Kaunas su svente\n",
      "pradedam sekancia ciklo iteracija\n",
      "Siauliai\n",
      "Sveikiname Siauliai su svente\n",
      "pradedam sekancia ciklo iteracija\n",
      "Panevezys\n",
      "Sveikiname Panevezys su svente\n",
      "pradedam sekancia ciklo iteracija\n",
      "po ciklo\n"
     ]
    }
   ],
   "source": [
    "for city in cities:\n",
    "    print(city)\n",
    "    print(f'Sveikiname {city} su svente')\n",
    "    print('pradedam sekancia ciklo iteracija')\n",
    "print(\"po ciklo\")"
   ]
  },
  {
   "cell_type": "code",
   "execution_count": 10,
   "metadata": {},
   "outputs": [
    {
     "name": "stdout",
     "output_type": "stream",
     "text": [
      "1\n",
      "2\n",
      "3\n",
      "4\n",
      "5\n",
      "6\n",
      "7\n",
      "8\n",
      "9\n",
      "10\n"
     ]
    }
   ],
   "source": [
    "#Atspausdinkite pirmus 10 imtinai skaičių naudodami for loop\n",
    "\n",
    "for number in range (1,11):\n",
    "    print(number)"
   ]
  },
  {
   "cell_type": "code",
   "execution_count": 11,
   "metadata": {},
   "outputs": [
    {
     "name": "stdout",
     "output_type": "stream",
     "text": [
      "1275\n"
     ]
    }
   ],
   "source": [
    "#Gaukite sumą pirmų 50 skaičių imtinai\n",
    "\n",
    "suma=0\n",
    "\n",
    "for number in range (1,51):\n",
    "    suma+=number\n",
    "print(suma)"
   ]
  },
  {
   "cell_type": "code",
   "execution_count": null,
   "metadata": {},
   "outputs": [],
   "source": [
    "#Gaukite sumą pirmų 50 skaičių imtinai\n",
    "\n",
    "suma=0 #teisingai\n",
    "\n",
    "for number in range (1,51):\n",
    "    suma+=number\n",
    "print(suma)\n",
    "\n",
    "\n",
    "for number in range (1,51):\n",
    "    number+=number\n",
    "    print(number)\n",
    "\n",
    "\n",
    "for number in range (1,51): #?\n",
    "    number+=number\n",
    "print(number)\n",
    "\n"
   ]
  },
  {
   "cell_type": "code",
   "execution_count": 12,
   "metadata": {},
   "outputs": [
    {
     "name": "stdout",
     "output_type": "stream",
     "text": [
      "100\n"
     ]
    }
   ],
   "source": [
    "for number in range (1,51):\n",
    "    number+=number\n",
    "print(number)"
   ]
  },
  {
   "cell_type": "code",
   "execution_count": 13,
   "metadata": {},
   "outputs": [
    {
     "ename": "ValueError",
     "evalue": "invalid literal for int() with base 10: ''",
     "output_type": "error",
     "traceback": [
      "\u001b[1;31m---------------------------------------------------------------------------\u001b[0m",
      "\u001b[1;31mValueError\u001b[0m                                Traceback (most recent call last)",
      "\u001b[1;32mc:\\Users\\arunas\\Documents\\-Python_mokymai\\paskaita_3.ipynb Cell 6'\u001b[0m in \u001b[0;36m<module>\u001b[1;34m\u001b[0m\n\u001b[0;32m      <a href='vscode-notebook-cell:/c%3A/Users/arunas/Documents/-Python_mokymai/paskaita_3.ipynb#ch0000005?line=0'>1</a>\u001b[0m \u001b[39m# Leiskite pasirinkti skaičių, \u001b[39;00m\n\u001b[0;32m      <a href='vscode-notebook-cell:/c%3A/Users/arunas/Documents/-Python_mokymai/paskaita_3.ipynb#ch0000005?line=1'>2</a>\u001b[0m \u001b[39m# atspausdinkite jo sandaugą nuo 1 iki 10 imtinai\u001b[39;00m\n\u001b[1;32m----> <a href='vscode-notebook-cell:/c%3A/Users/arunas/Documents/-Python_mokymai/paskaita_3.ipynb#ch0000005?line=3'>4</a>\u001b[0m input_number \u001b[39m=\u001b[39m \u001b[39mint\u001b[39;49m(\u001b[39minput\u001b[39;49m(\u001b[39m\"\u001b[39;49m\u001b[39mIveskite skaiciu:\u001b[39;49m\u001b[39m\"\u001b[39;49m))\n\u001b[0;32m      <a href='vscode-notebook-cell:/c%3A/Users/arunas/Documents/-Python_mokymai/paskaita_3.ipynb#ch0000005?line=4'>5</a>\u001b[0m \u001b[39mprint\u001b[39m(input_number)\n\u001b[0;32m      <a href='vscode-notebook-cell:/c%3A/Users/arunas/Documents/-Python_mokymai/paskaita_3.ipynb#ch0000005?line=6'>7</a>\u001b[0m \u001b[39mfor\u001b[39;00m number \u001b[39min\u001b[39;00m \u001b[39mrange\u001b[39m(\u001b[39m1\u001b[39m,\u001b[39m11\u001b[39m):\n",
      "\u001b[1;31mValueError\u001b[0m: invalid literal for int() with base 10: ''"
     ]
    }
   ],
   "source": [
    "# Leiskite pasirinkti skaičių, \n",
    "# atspausdinkite jo sandaugą nuo 1 iki 10 imtinai\n",
    "\n",
    "input_number = int(input(\"Iveskite skaiciu:\"))\n",
    "print(input_number)\n",
    "\n",
    "for number in range(1,11):\n",
    "    print(f'{input_number}*{number} = {input_number * number }')\n"
   ]
  },
  {
   "cell_type": "code",
   "execution_count": null,
   "metadata": {},
   "outputs": [
    {
     "name": "stdout",
     "output_type": "stream",
     "text": [
      "[('Pirmadienis', 10), ('Pirmadienis', 11), ('Pirmadienis', 12), ('Pirmadienis', 13), ('Pirmadienis', 14), ('Pirmadienis', 15), ('Pirmadienis', 16), ('Pirmadienis', 17), ('Pirmadienis', 18), ('Pirmadienis', 19), ('Antradienis', 10), ('Antradienis', 11), ('Antradienis', 12), ('Antradienis', 13), ('Antradienis', 14), ('Antradienis', 15), ('Antradienis', 16), ('Antradienis', 17), ('Antradienis', 18), ('Antradienis', 19), ('Treciadienis', 10), ('Treciadienis', 11), ('Treciadienis', 12), ('Treciadienis', 13), ('Treciadienis', 14), ('Treciadienis', 15), ('Treciadienis', 16), ('Treciadienis', 17), ('Treciadienis', 18), ('Treciadienis', 19), ('Ketvirtadienis', 10), ('Ketvirtadienis', 11), ('Ketvirtadienis', 12), ('Ketvirtadienis', 13), ('Ketvirtadienis', 14), ('Ketvirtadienis', 15), ('Ketvirtadienis', 16), ('Ketvirtadienis', 17), ('Ketvirtadienis', 18), ('Ketvirtadienis', 19), ('Penktadienis', 10), ('Penktadienis', 11), ('Penktadienis', 12), ('Penktadienis', 13), ('Penktadienis', 14), ('Penktadienis', 15), ('Penktadienis', 16), ('Penktadienis', 17), ('Penktadienis', 18), ('Penktadienis', 19), ('Sestadienis', 10), ('Sestadienis', 11), ('Sestadienis', 12), ('Sestadienis', 13), ('Sestadienis', 14), ('Sestadienis', 15), ('Sestadienis', 16), ('Sestadienis', 17), ('Sestadienis', 18), ('Sestadienis', 19), ('Sekmadienis', 10), ('Sekmadienis', 11), ('Sekmadienis', 12), ('Sekmadienis', 13), ('Sekmadienis', 14), ('Sekmadienis', 15), ('Sekmadienis', 16), ('Sekmadienis', 17), ('Sekmadienis', 18), ('Sekmadienis', 19)]\n"
     ]
    }
   ],
   "source": [
    "# Gaukite visas įmanomas kombinacijas iš šių sąrašų, įrašykite jas į list’ą\n",
    "\n",
    "\n",
    "dienos = [\"Pirmadienis\", \"Antradienis\", \"Treciadienis\", \"Ketvirtadienis\", \"Penktadienis\", \"Sestadienis\" , \"Sekmadienis\"]\n",
    "valandos = [10, 11, 12, 13, 14, 15, 16, 17, 18, 19]\n",
    "\n",
    "#rr = [x+y for x in ['Python ','C '] for y in ['Language','Programming']]\n",
    "\n",
    "# kombinacijos = [dienos + valandos for dienos in [\"Pirmadienis\", \"Antradienis\", \"Treciadienis\", \"Ketvirtadienis\", \"Penktadienis\", \"Sestadienis\" , \"Sekmadienis\"] for\n",
    "# valandos in [\"10\", \"11\", '12', '13', '14', '15', '16', '17', '18', '19']]\n",
    "# print(kombinacijos)\n",
    "\n",
    "\n",
    "kombinacijos =[]\n",
    "\n",
    "for diena in dienos:\n",
    "    for valanda in valandos:\n",
    "        kombinacijos.append( (diena,valanda) )\n",
    "        #print('antras ciklas', diena,valanda)\n",
    "    #print(diena,valanda)    \n",
    "print(kombinacijos)\n",
    "\n"
   ]
  },
  {
   "cell_type": "code",
   "execution_count": null,
   "metadata": {},
   "outputs": [
    {
     "name": "stdout",
     "output_type": "stream",
     "text": [
      "Pirmadienis 10\n",
      "Pirmadienis 11\n",
      "Pirmadienis 12\n",
      "Pirmadienis 13\n",
      "Pirmadienis 14\n",
      "Pirmadienis 15\n",
      "Pirmadienis 16\n",
      "Pirmadienis 17\n",
      "Pirmadienis 18\n",
      "Pirmadienis 19\n",
      "Antradienis 10\n",
      "Antradienis 11\n",
      "Antradienis 12\n",
      "Antradienis 13\n",
      "Antradienis 14\n",
      "Antradienis 15\n",
      "Antradienis 16\n",
      "Antradienis 17\n",
      "Antradienis 18\n",
      "Antradienis 19\n",
      "Treciadienis 10\n",
      "Treciadienis 11\n",
      "Treciadienis 12\n",
      "Treciadienis 13\n",
      "Treciadienis 14\n",
      "Treciadienis 15\n",
      "Treciadienis 16\n",
      "Treciadienis 17\n",
      "Treciadienis 18\n",
      "Treciadienis 19\n",
      "Ketvirtadienis 10\n",
      "Ketvirtadienis 11\n",
      "Ketvirtadienis 12\n",
      "Ketvirtadienis 13\n",
      "Ketvirtadienis 14\n",
      "Ketvirtadienis 15\n",
      "Ketvirtadienis 16\n",
      "Ketvirtadienis 17\n",
      "Ketvirtadienis 18\n",
      "Ketvirtadienis 19\n",
      "Penktadienis 10\n",
      "Penktadienis 11\n",
      "Penktadienis 12\n",
      "Penktadienis 13\n",
      "Penktadienis 14\n",
      "Penktadienis 15\n",
      "Penktadienis 16\n",
      "Penktadienis 17\n",
      "Penktadienis 18\n",
      "Penktadienis 19\n",
      "Sestadienis 10\n",
      "Sestadienis 11\n",
      "Sestadienis 12\n",
      "Sestadienis 13\n",
      "Sestadienis 14\n",
      "Sestadienis 15\n",
      "Sestadienis 16\n",
      "Sestadienis 17\n",
      "Sestadienis 18\n",
      "Sestadienis 19\n",
      "Sekmadienis 10\n",
      "Sekmadienis 11\n",
      "Sekmadienis 12\n",
      "Sekmadienis 13\n",
      "Sekmadienis 14\n",
      "Sekmadienis 15\n",
      "Sekmadienis 16\n",
      "Sekmadienis 17\n",
      "Sekmadienis 18\n",
      "Sekmadienis 19\n"
     ]
    }
   ],
   "source": [
    "\n",
    "\n",
    "for diena in dienos:\n",
    "    for valanda in valandos:\n",
    "        print( diena,valanda)   \n"
   ]
  },
  {
   "cell_type": "code",
   "execution_count": null,
   "metadata": {},
   "outputs": [
    {
     "name": "stdout",
     "output_type": "stream",
     "text": [
      "['Python Language', 'Python Programming', 'C Language', 'C Programming']\n",
      "['Pirmadienis 10', 'Pirmadienis 11', 'Pirmadienis 12', 'Pirmadienis 13', 'Pirmadienis 14', 'Pirmadienis 15', 'Pirmadienis 16', 'Pirmadienis 17', 'Pirmadienis 18', 'Pirmadienis 19', 'Antradienis 10', 'Antradienis 11', 'Antradienis 12', 'Antradienis 13', 'Antradienis 14', 'Antradienis 15', 'Antradienis 16', 'Antradienis 17', 'Antradienis 18', 'Antradienis 19', 'Treciadienis 10', 'Treciadienis 11', 'Treciadienis 12', 'Treciadienis 13', 'Treciadienis 14', 'Treciadienis 15', 'Treciadienis 16', 'Treciadienis 17', 'Treciadienis 18', 'Treciadienis 19', 'Ketvirtadienis 10', 'Ketvirtadienis 11', 'Ketvirtadienis 12', 'Ketvirtadienis 13', 'Ketvirtadienis 14', 'Ketvirtadienis 15', 'Ketvirtadienis 16', 'Ketvirtadienis 17', 'Ketvirtadienis 18', 'Ketvirtadienis 19', 'Penktadienis 10', 'Penktadienis 11', 'Penktadienis 12', 'Penktadienis 13', 'Penktadienis 14', 'Penktadienis 15', 'Penktadienis 16', 'Penktadienis 17', 'Penktadienis 18', 'Penktadienis 19', 'Sestadienis 10', 'Sestadienis 11', 'Sestadienis 12', 'Sestadienis 13', 'Sestadienis 14', 'Sestadienis 15', 'Sestadienis 16', 'Sestadienis 17', 'Sestadienis 18', 'Sestadienis 19', 'Sekmadienis 10', 'Sekmadienis 11', 'Sekmadienis 12', 'Sekmadienis 13', 'Sekmadienis 14', 'Sekmadienis 15', 'Sekmadienis 16', 'Sekmadienis 17', 'Sekmadienis 18', 'Sekmadienis 19']\n"
     ]
    }
   ],
   "source": [
    "rr = [x+y for x in ['Python ','C '] for y in ['Language','Programming']]\n",
    "print(rr)\n",
    "\n",
    "kombinacijos = [ (f'{dienos} ') +  valandos for dienos in [\"Pirmadienis\", \"Antradienis\", \"Treciadienis\", \"Ketvirtadienis\", \"Penktadienis\", \"Sestadienis\" , \"Sekmadienis\"] for\n",
    "valandos in [\"10\", \"11\", '12', '13', '14', '15', '16', '17', '18', '19']]\n",
    "print(kombinacijos)"
   ]
  },
  {
   "cell_type": "code",
   "execution_count": null,
   "metadata": {},
   "outputs": [
    {
     "name": "stdout",
     "output_type": "stream",
     "text": [
      "x yra daugiau uz du\n",
      "po if salygos\n"
     ]
    }
   ],
   "source": [
    "x = 5\n",
    "\n",
    "if x>2:\n",
    "    print('x yra daugiau uz du')\n",
    "\n",
    "print ('po if salygos')"
   ]
  },
  {
   "cell_type": "code",
   "execution_count": null,
   "metadata": {},
   "outputs": [
    {
     "name": "stdout",
     "output_type": "stream",
     "text": [
      "x nera daugiau uz du\n"
     ]
    }
   ],
   "source": [
    "x=0\n",
    "if x>2:\n",
    "    print('x yra daugiau uz du')\n",
    "else:\n",
    "    print('x nera daugiau uz du')"
   ]
  },
  {
   "cell_type": "code",
   "execution_count": null,
   "metadata": {},
   "outputs": [
    {
     "name": "stdout",
     "output_type": "stream",
     "text": [
      "atitinka antra elif salyga\n",
      "po if salygos\n"
     ]
    }
   ],
   "source": [
    "x = 0\n",
    "y= 38\n",
    "\n",
    "if x>10:\n",
    "    print('if salyga atitinka')\n",
    "elif x>0 and y>10:\n",
    "    print ('atitinka elif salyga')\n",
    "elif x>-5 and y>30:\n",
    "    print ('atitinka antra elif salyga')\n",
    "else:\n",
    "    print('else salyga')\n",
    "\n",
    "print('po if salygos')"
   ]
  },
  {
   "cell_type": "code",
   "execution_count": null,
   "metadata": {},
   "outputs": [
    {
     "name": "stdout",
     "output_type": "stream",
     "text": [
      "3\n",
      "6\n",
      "9\n",
      "12\n",
      "15\n",
      "18\n"
     ]
    }
   ],
   "source": [
    "# Atspausdinkite pirmus 20 skaičių, jeigu jis dalinasi iš 3 be \n",
    "# liekanos naudodami for loop ir if \n",
    "\n",
    "for number in range(1,21):\n",
    "    if number % 3 == 0:\n",
    "        print(number)"
   ]
  },
  {
   "cell_type": "code",
   "execution_count": null,
   "metadata": {},
   "outputs": [
    {
     "name": "stdout",
     "output_type": "stream",
     "text": [
      "650\n"
     ]
    }
   ],
   "source": [
    "# Gaukite sumą pirmų 50 skaičių imtinai, tik tada, \n",
    "# jei nauja einama suma bus lyginė\n",
    "\n",
    "suma=0\n",
    "\n",
    "for number in range (1,51):\n",
    "    if (suma + number) % 2 == 0:\n",
    "        suma+=number\n",
    "    #print(suma)    \n",
    "print(suma)\n"
   ]
  },
  {
   "cell_type": "code",
   "execution_count": null,
   "metadata": {},
   "outputs": [
    {
     "name": "stdout",
     "output_type": "stream",
     "text": [
      "3\n",
      "3*1 = 3\n",
      "3*2 = 6\n",
      "3*3 = 9\n",
      "3*4 = 12\n",
      "3*5 = 15\n",
      "3*6 = 18\n",
      "3*7 = 21\n",
      "3*8 = 24\n",
      "3*9 = 27\n",
      "3*10 = 30\n"
     ]
    }
   ],
   "source": [
    "#Leiskite pasirinkti skaičių, atspausdinkite jo sandaugą nuo 1 iki 10 \n",
    "# tik tada, jei pasirinktas skaičius pakeltas kvadratu yra nelyginis\n",
    "\n",
    "\n",
    "input_number = int(input(\"Iveskite skaiciu:\"))\n",
    "print(input_number)\n",
    "\n",
    "for number in range(1,11):\n",
    "    if (input_number **2 ) % 2 != 0:\n",
    "        print(f'{input_number}*{number} = {input_number * number }')"
   ]
  },
  {
   "cell_type": "code",
   "execution_count": null,
   "metadata": {},
   "outputs": [
    {
     "name": "stdout",
     "output_type": "stream",
     "text": [
      "6\n",
      "skaicius pakeltas kvadratu yra lyginis\n"
     ]
    }
   ],
   "source": [
    "#gerenis variantas nes sutaupo laiko\n",
    "\n",
    "input_number = int(input(\"Iveskite skaiciu:\"))\n",
    "print(input_number)\n",
    "\n",
    "if (input_number **2 ) % 2 != 0:\n",
    "    for number in range(1,11):\n",
    "        print(f'{input_number}*{number} = {input_number * number }')\n",
    "else:\n",
    "    print('skaicius pakeltas kvadratu yra lyginis')"
   ]
  },
  {
   "cell_type": "code",
   "execution_count": null,
   "metadata": {},
   "outputs": [
    {
     "name": "stdout",
     "output_type": "stream",
     "text": [
      "antras ciklas Pirmadienis 19\n",
      "antras ciklas Treciadienis 19\n"
     ]
    }
   ],
   "source": [
    "# Gaukite visas įmanomas kombinacijas iš šių sąrašų tik tada, \n",
    "# jei diena yra arba pirmadienis arba trečiadienis, \n",
    "# o valandos yra nuo 12 iki 17, įrašykite jas į list’ą\n",
    "\n",
    "\n",
    "dienos = [\"Pirmadienis\", \"Antradienis\", \"Treciadienis\", \"Ketvirtadienis\", \"Penktadienis\", \"Sestadienis\" , \"Sekmadienis\"]\n",
    "valandos = [10, 11, 12, 13, 14, 15, 16, 17, 18, 19]\n",
    "\n",
    "darbo_dienos = [\"Pirmadienis\", \"Treciadienis\"]\n",
    "darbo_valandos= list(range(12,18))\n",
    "\n",
    "kombinacijos =[]\n",
    "\n",
    "for diena in dienos:\n",
    "    #if diena == 'Pirmadienis' or diena == 'Treciadienis':\n",
    "    #if diena in [\"Pirmadienis\", \"Treciadienis\"]:\n",
    "    if diena in darbo_dienos:\n",
    "        for valanda in valandos:\n",
    "            #if valanda in range (12,18):\n",
    "            if valanda in darbo_valandos:\n",
    "                kombinacijos.append( (diena,valanda) )\n",
    "        #print('antras ciklas', diena,valanda)\n",
    "    #print(diena,valanda)    \n",
    "print(kombinacijos)"
   ]
  },
  {
   "cell_type": "code",
   "execution_count": null,
   "metadata": {},
   "outputs": [
    {
     "name": "stdout",
     "output_type": "stream",
     "text": [
      "[('Pirmadienis', 12), ('Pirmadienis', 13), ('Pirmadienis', 14), ('Pirmadienis', 15), ('Pirmadienis', 16), ('Pirmadienis', 17), ('Treciadienis', 12), ('Treciadienis', 13), ('Treciadienis', 14), ('Treciadienis', 15), ('Treciadienis', 16), ('Treciadienis', 17)]\n"
     ]
    }
   ],
   "source": [
    "dienos = [\"Pirmadienis\", \"Antradienis\", \"Treciadienis\", \"Ketvirtadienis\", \"Penktadienis\", \"Sestadienis\" , \"Sekmadienis\"]\n",
    "valandos = [10, 11, 12, 13, 14, 15, 16, 17, 18, 19]\n",
    "\n",
    "darbo_dienos = [\"Pirmadienis\", \"Treciadienis\"]\n",
    "darbo_valandos= list(range(12,18))\n",
    "\n",
    "kombinacijos =[]\n",
    "\n",
    "for diena in dienos:\n",
    "    if diena in darbo_dienos:\n",
    "        for valanda in valandos:\n",
    "            if valanda in darbo_valandos:\n",
    "                kombinacijos.append( (diena,valanda) )\n",
    "print(kombinacijos)"
   ]
  },
  {
   "cell_type": "code",
   "execution_count": null,
   "metadata": {},
   "outputs": [
    {
     "name": "stdout",
     "output_type": "stream",
     "text": [
      "None\n",
      "<class 'NoneType'>\n"
     ]
    }
   ],
   "source": [
    "niekas = None \n",
    "print(niekas)\n",
    "print(type(niekas))"
   ]
  },
  {
   "cell_type": "code",
   "execution_count": null,
   "metadata": {},
   "outputs": [],
   "source": [
    "user_name = ''\n",
    "user_name = input(\"irasykite varda\")\n",
    "\n",
    "if user_name: "
   ]
  },
  {
   "cell_type": "code",
   "execution_count": null,
   "metadata": {},
   "outputs": [
    {
     "name": "stdout",
     "output_type": "stream",
     "text": [
      "variable 'name' has no value (None), assigning name\n",
      "variable 'name' has value of None\n",
      "variable 'name' has value of None\n",
      "variable 'name' has value of None\n",
      "variable 'name' has value of None\n"
     ]
    }
   ],
   "source": [
    "name = None\n",
    "# name = \"\"\n",
    "for i in range(5):\n",
    "    if name == None:\n",
    "        print(f\"variable 'name' has no value (None), assigning name\")\n",
    "        value = input(\"Enter your name:\")\n",
    "        if value:\n",
    "            name = value\n",
    "    else:\n",
    "        print(f\"variable 'name' has value of {name}\")"
   ]
  },
  {
   "cell_type": "code",
   "execution_count": null,
   "metadata": {},
   "outputs": [
    {
     "name": "stdout",
     "output_type": "stream",
     "text": [
      "None\n"
     ]
    }
   ],
   "source": [
    "print (name)"
   ]
  },
  {
   "cell_type": "code",
   "execution_count": null,
   "metadata": {},
   "outputs": [
    {
     "name": "stdout",
     "output_type": "stream",
     "text": [
      "[3, 6, 9, 12, 15, 18]\n"
     ]
    }
   ],
   "source": [
    "numbers = list(range(1,21) )\n",
    "dividible_by_3 = []\n",
    "for number in numbers:\n",
    "    if number % 3 == 0:\n",
    "        dividible_by_3.append(number)\n",
    "print (dividible_by_3)"
   ]
  },
  {
   "cell_type": "code",
   "execution_count": null,
   "metadata": {},
   "outputs": [
    {
     "name": "stdout",
     "output_type": "stream",
     "text": [
      "[1, 2, 3, 4, 5, 6, 7, 8, 9, 10, 11, 12, 13, 14, 15, 16, 17, 18, 19, 20]\n",
      "[3, 6, 9, 12, 15, 18]\n",
      "[9, 36, 81, 144, 225, 324]\n",
      "[(3, 9), (6, 36), (9, 81), (12, 144), (15, 225), (18, 324)]\n"
     ]
    }
   ],
   "source": [
    "numbers = list(range(1,21))\n",
    "dividible_by_3 = [ number for number in numbers ]\n",
    "\n",
    "print(dividible_by_3)\n",
    "\n",
    "dividible_by_3 = [ number for number in numbers if number % 3 ==0 ]\n",
    "print(dividible_by_3)\n",
    "\n",
    "dividible_by_3 = [ number**2 for number in numbers if number % 3 ==0 ]\n",
    "print(dividible_by_3)\n",
    "\n",
    "dividible_by_3 = [ (number, number**2) for number in numbers if number % 3 ==0 ]\n",
    "print(dividible_by_3)"
   ]
  },
  {
   "cell_type": "code",
   "execution_count": null,
   "metadata": {},
   "outputs": [
    {
     "name": "stdout",
     "output_type": "stream",
     "text": [
      "[100, 100, 3, 100, 100, 6, 100, 100, 9, 100, 100, 12, 100, 100, 15, 100, 100, 18, 100, 100]\n"
     ]
    }
   ],
   "source": [
    "dividible_by_3 = [number if number % 3 ==0 else 100 for number in numbers ]\n",
    "print(dividible_by_3) "
   ]
  },
  {
   "cell_type": "code",
   "execution_count": null,
   "metadata": {},
   "outputs": [
    {
     "name": "stdout",
     "output_type": "stream",
     "text": [
      "[5, 4, 8, 3, 10, 8, 16, 6, 15, 12, 24, 9, 20, 16, 32, 12]\n",
      "[5, 8, 24, 12]\n"
     ]
    }
   ],
   "source": [
    "x_axis = [1,2,3,4] \n",
    "y_axis= (5,4,8,3)\n",
    "mult = [x*y for x in x_axis for y in y_axis]\n",
    "print(mult)\n",
    "mult = [x*y for x,y in zip(x_axis,y_axis)]\n",
    "print(mult)"
   ]
  },
  {
   "cell_type": "code",
   "execution_count": null,
   "metadata": {},
   "outputs": [],
   "source": [
    "my_dictionary = {\n",
    "    \"name\": \"Ernesta\",\n",
    "    \"surname\": \"Tumavice\",\n",
    "    \"age\": 26,\n",
    "    \"hobbies\": [\"books\", \"films\"]\n",
    "}"
   ]
  },
  {
   "cell_type": "code",
   "execution_count": null,
   "metadata": {},
   "outputs": [
    {
     "name": "stdout",
     "output_type": "stream",
     "text": [
      "Ernesta\n"
     ]
    }
   ],
   "source": [
    "print(my_dictionary['name'])"
   ]
  },
  {
   "cell_type": "code",
   "execution_count": null,
   "metadata": {},
   "outputs": [
    {
     "name": "stdout",
     "output_type": "stream",
     "text": [
      "{'name': 'Ernesta', 'surname': 'Tumavice', 'age': 34, 'hobbies': ['books', 'films']}\n"
     ]
    }
   ],
   "source": [
    "my_dictionary[\"age\"]=34\n",
    "print(my_dictionary)"
   ]
  },
  {
   "cell_type": "code",
   "execution_count": null,
   "metadata": {},
   "outputs": [
    {
     "name": "stdout",
     "output_type": "stream",
     "text": [
      "{'name': 'Ernesta', 'surname': 'Tumavice', 'age': 34, 'hobbies': ['books', 'films'], 'city': 'Vilnius'}\n",
      "5\n"
     ]
    }
   ],
   "source": [
    "my_dictionary[\"city\"]=\"Vilnius\"\n",
    "print(my_dictionary)\n",
    "print(len(my_dictionary))"
   ]
  },
  {
   "cell_type": "markdown",
   "metadata": {},
   "source": [
    "# Dictiniory is mutable\n"
   ]
  },
  {
   "cell_type": "code",
   "execution_count": null,
   "metadata": {},
   "outputs": [],
   "source": [
    "my_dictionary.copy() "
   ]
  },
  {
   "cell_type": "code",
   "execution_count": null,
   "metadata": {},
   "outputs": [
    {
     "name": "stdout",
     "output_type": "stream",
     "text": [
      "Vilnius\n"
     ]
    }
   ],
   "source": [
    "print(my_dictionary.get('city'))"
   ]
  },
  {
   "cell_type": "code",
   "execution_count": null,
   "metadata": {},
   "outputs": [
    {
     "ename": "KeyError",
     "evalue": "'car'",
     "output_type": "error",
     "traceback": [
      "\u001b[1;31m---------------------------------------------------------------------------\u001b[0m",
      "\u001b[1;31mKeyError\u001b[0m                                  Traceback (most recent call last)",
      "\u001b[1;32mc:\\Users\\arunas\\Documents\\-Python_mokymai\\paskaita_3.ipynb Cell 28'\u001b[0m in \u001b[0;36m<module>\u001b[1;34m\u001b[0m\n\u001b[1;32m----> <a href='vscode-notebook-cell:/c%3A/Users/arunas/Documents/-Python_mokymai/paskaita_3.ipynb#ch0000028?line=0'>1</a>\u001b[0m \u001b[39mprint\u001b[39m(my_dictionary[\u001b[39m\"\u001b[39;49m\u001b[39mcar\u001b[39;49m\u001b[39m\"\u001b[39;49m])\n",
      "\u001b[1;31mKeyError\u001b[0m: 'car'"
     ]
    }
   ],
   "source": [
    "print(my_dictionary[\"car\"]) "
   ]
  },
  {
   "cell_type": "code",
   "execution_count": null,
   "metadata": {},
   "outputs": [
    {
     "name": "stdout",
     "output_type": "stream",
     "text": [
      "None\n",
      "No car\n"
     ]
    }
   ],
   "source": [
    "print(my_dictionary.get('car'))\n",
    "print(my_dictionary.get('car', \"No car\"))"
   ]
  },
  {
   "cell_type": "code",
   "execution_count": null,
   "metadata": {},
   "outputs": [
    {
     "name": "stdout",
     "output_type": "stream",
     "text": [
      "{'name': 'Ernesta', 'surname': 'Tumavice', 'age': 34, 'hobbies': ['books', 'films'], 'city': 'Vilnius'}\n"
     ]
    }
   ],
   "source": [
    "print(my_dictionary)"
   ]
  },
  {
   "cell_type": "code",
   "execution_count": null,
   "metadata": {},
   "outputs": [
    {
     "ename": "NameError",
     "evalue": "name 'my_dictionary' is not defined",
     "output_type": "error",
     "traceback": [
      "\u001b[1;31m---------------------------------------------------------------------------\u001b[0m",
      "\u001b[1;31mNameError\u001b[0m                                 Traceback (most recent call last)",
      "\u001b[1;32mc:\\Users\\arunas\\Documents\\-Python_mokymai\\paskaita_3.ipynb Cell 37'\u001b[0m in \u001b[0;36m<module>\u001b[1;34m\u001b[0m\n\u001b[1;32m----> <a href='vscode-notebook-cell:/c%3A/Users/arunas/Documents/-Python_mokymai/paskaita_3.ipynb#ch0000035?line=0'>1</a>\u001b[0m my_dictionary[\u001b[39m10\u001b[39m] \u001b[39m=\u001b[39m \u001b[39m\"\u001b[39m\u001b[39mdesimt\u001b[39m\u001b[39m\"\u001b[39m\n\u001b[0;32m      <a href='vscode-notebook-cell:/c%3A/Users/arunas/Documents/-Python_mokymai/paskaita_3.ipynb#ch0000035?line=1'>2</a>\u001b[0m \u001b[39mprint\u001b[39m(my_dictionary)\n\u001b[0;32m      <a href='vscode-notebook-cell:/c%3A/Users/arunas/Documents/-Python_mokymai/paskaita_3.ipynb#ch0000035?line=2'>3</a>\u001b[0m \u001b[39mprint\u001b[39m(my_dictionary\u001b[39m.\u001b[39mpop(\u001b[39m10\u001b[39m))\n",
      "\u001b[1;31mNameError\u001b[0m: name 'my_dictionary' is not defined"
     ]
    }
   ],
   "source": [
    "my_dictionary[10] = \"desimt\"\n",
    "print(my_dictionary)\n",
    "print(my_dictionary.pop(10))\n",
    "my_dictionary.pop(10)\n",
    "print(my_dictionary)"
   ]
  },
  {
   "cell_type": "code",
   "execution_count": 16,
   "metadata": {},
   "outputs": [
    {
     "name": "stdout",
     "output_type": "stream",
     "text": [
      "{'name': 'Ernesta', 'surname': 'Tumavice', 'age': 26, 'hobbies': ['books', 'films'], None: 'niekas'}\n"
     ]
    }
   ],
   "source": [
    "my_dictionary = {\n",
    "    \"name\": \"Ernesta\",\n",
    "    \"surname\": \"Tumavice\",\n",
    "    \"age\": 26,\n",
    "    \"hobbies\": [\"books\", \"films\"]\n",
    "}\n",
    "\n",
    "my_dictionary[None] = \"niekas\" \n",
    "print(my_dictionary)"
   ]
  },
  {
   "cell_type": "code",
   "execution_count": 17,
   "metadata": {},
   "outputs": [
    {
     "name": "stdout",
     "output_type": "stream",
     "text": [
      "{'name': 'Ernesta', 'surname': 'Tumavice', 'age': 26, 'hobbies': ['books', 'films']}\n",
      "None niekas\n"
     ]
    }
   ],
   "source": [
    "\n",
    "\n",
    "my_dictionary[None] = \"niekas\"  \n",
    "key, value = my_dictionary.popitem() # nereikia jokiu reiksmiu, pasalina viena pora k,v ir galima po to tas reiksmes atsispausdinti\n",
    "print(my_dictionary)\n",
    "print(key, value)"
   ]
  },
  {
   "cell_type": "code",
   "execution_count": 18,
   "metadata": {},
   "outputs": [
    {
     "name": "stdout",
     "output_type": "stream",
     "text": [
      "{'name': 'Ernesta', 'surname': 'Tumavice', 'age': 26, 'hobbies': 'swimming'}\n"
     ]
    }
   ],
   "source": [
    "new_dictionary = {\n",
    "    \"name\":\"Ernesta\",\n",
    "    \"age\":20,\n",
    "    \"hobbies\":\"swimming\",\n",
    "    \"age\":26\n",
    "\n",
    "}\n",
    "\n",
    "my_dictionary.update(new_dictionary)\n",
    "\n",
    "print(my_dictionary)"
   ]
  },
  {
   "cell_type": "code",
   "execution_count": null,
   "metadata": {},
   "outputs": [
    {
     "name": "stdout",
     "output_type": "stream",
     "text": [
      "Ernesta\n",
      "Tumavice\n",
      "26\n",
      "swimming\n",
      "Vilnius\n"
     ]
    }
   ],
   "source": [
    "for value in my_dictionary.values():\n",
    "    print(value)"
   ]
  },
  {
   "cell_type": "code",
   "execution_count": null,
   "metadata": {},
   "outputs": [
    {
     "name": "stdout",
     "output_type": "stream",
     "text": [
      "name\n",
      "surname\n",
      "age\n",
      "hobbies\n",
      "city\n"
     ]
    }
   ],
   "source": [
    "for key in my_dictionary.keys():\n",
    "    print(key)"
   ]
  },
  {
   "cell_type": "code",
   "execution_count": null,
   "metadata": {},
   "outputs": [
    {
     "name": "stdout",
     "output_type": "stream",
     "text": [
      "key name has a value of: Ernesta\n",
      "key surname has a value of: Tumavice\n",
      "key age has a value of: 26\n",
      "key hobbies has a value of: swimming\n",
      "key city has a value of: Vilnius\n"
     ]
    }
   ],
   "source": [
    "for k, v in my_dictionary.items():\n",
    "    print(f'key {k} has a value of: {v}')"
   ]
  },
  {
   "cell_type": "code",
   "execution_count": null,
   "metadata": {},
   "outputs": [
    {
     "name": "stdout",
     "output_type": "stream",
     "text": [
      "Ford\n",
      "Ford\n",
      "3\n",
      "{'brand': 'Ford', 'model': 'Mustang', 'year': 2022}\n"
     ]
    }
   ],
   "source": [
    "# Atspausdinkite ‘Ford’, gaukite žodyno car ilgį, \n",
    "# pakeiskite metus į 2022\n",
    "\n",
    "car =\t{\n",
    "  \"brand\": \"Ford\",\n",
    "  \"model\": \"Mustang\",\n",
    "  \"year\": 1964\n",
    "}\n",
    "\n",
    "print(car.get(\"brand\"))\n",
    "print(car['brand'])\n",
    "print(len(car))\n",
    "car[\"year\"]= 2022\n",
    "print(car)"
   ]
  },
  {
   "cell_type": "code",
   "execution_count": null,
   "metadata": {},
   "outputs": [
    {
     "name": "stdout",
     "output_type": "stream",
     "text": [
      "{'brand': 'Ford', 'model': 'Mustang', 'year': 2022, 'color': 'red', 'used': True}\n"
     ]
    }
   ],
   "source": [
    "\n",
    "\n",
    "# I variantas\n",
    "# car[\"color\"] = \"red\"\n",
    "# car[\"used\"] = True\n",
    "# print(car)\n",
    "\n",
    "#II variantas\n",
    "car.update({\"color\":\"red\",\"used\":True} )\n",
    "print(car)"
   ]
  },
  {
   "cell_type": "code",
   "execution_count": null,
   "metadata": {},
   "outputs": [
    {
     "name": "stdout",
     "output_type": "stream",
     "text": [
      "{'year': None, 'color': 'red', 'used': True}\n"
     ]
    }
   ],
   "source": [
    "# Iš esamo žodyno ištrinti ‘brand’ raktą ir reikšmę, \n",
    "# o year reikšmę paverskite į None\n",
    "\n",
    "car =\t{\n",
    "  \"brand\": \"Ford\",\n",
    "  \"year\": 1992,\n",
    "  \"color\" : \"red\",\n",
    "  \"used\" :  True\n",
    "}\n",
    "\n",
    "\n",
    "car.pop('brand')\n",
    "car['year'] = None\n",
    "print(car)"
   ]
  }
 ],
 "metadata": {
  "interpreter": {
   "hash": "6b66f59a3f4bed3d737f557ac50d309cac13919fa3d2e68321e2748bd52e6d7e"
  },
  "kernelspec": {
   "display_name": "Python 3.10.2 64-bit",
   "language": "python",
   "name": "python3"
  },
  "language_info": {
   "codemirror_mode": {
    "name": "ipython",
    "version": 3
   },
   "file_extension": ".py",
   "mimetype": "text/x-python",
   "name": "python",
   "nbconvert_exporter": "python",
   "pygments_lexer": "ipython3",
   "version": "3.10.2"
  },
  "orig_nbformat": 4
 },
 "nbformat": 4,
 "nbformat_minor": 2
}
