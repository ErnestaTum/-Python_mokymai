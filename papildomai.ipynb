{
 "cells": [
  {
   "cell_type": "code",
   "execution_count": 1,
   "metadata": {},
   "outputs": [
    {
     "name": "stdout",
     "output_type": "stream",
     "text": [
      "5 3.2 Hello\n",
      "5\n",
      "3.2\n",
      "Hello\n"
     ]
    }
   ],
   "source": [
    "a,b,c=5, 3.2 , \"Hello\"\n",
    "print(a,b,c)\n",
    "print(a)\n",
    "print(b)\n",
    "print(c)"
   ]
  },
  {
   "cell_type": "code",
   "execution_count": 30,
   "metadata": {},
   "outputs": [
    {
     "name": "stdout",
     "output_type": "stream",
     "text": [
      "same\n",
      "same\n",
      "same\n",
      "same\n"
     ]
    }
   ],
   "source": [
    "x=y=z=\"same\"\n",
    "\n",
    "print(x)\n",
    "print(y)\n",
    "print(z)\n"
   ]
  },
  {
   "cell_type": "code",
   "execution_count": 4,
   "metadata": {},
   "outputs": [
    {
     "name": "stdout",
     "output_type": "stream",
     "text": [
      "This is Python\n",
      "C\n",
      "This is a multiline \n",
      "string with more than one line code.\n",
      "Ünicöde\n",
      "raw \\n string\n"
     ]
    }
   ],
   "source": [
    "strings = \"This is Python\"\n",
    "char = \"C\"\n",
    "multiline_str = \"\"\"This is a multiline \n",
    "string with more than one line code.\"\"\"\n",
    "unicode = u\"\\u00dcnic\\u00f6de\"\n",
    "raw_str = r\"raw \\n string\"\n",
    "\n",
    "print(strings)\n",
    "print(char)\n",
    "print(multiline_str)\n",
    "print(unicode)\n",
    "print(raw_str)"
   ]
  },
  {
   "cell_type": "code",
   "execution_count": 5,
   "metadata": {},
   "outputs": [
    {
     "name": "stdout",
     "output_type": "stream",
     "text": [
      "x is True\n",
      "y is False\n",
      "a: 5\n",
      "b: 10\n"
     ]
    }
   ],
   "source": [
    "x = (1 == True)\n",
    "y = (1 == False)\n",
    "a = True + 4\n",
    "b = False + 10\n",
    "\n",
    "print(\"x is\", x)\n",
    "print(\"y is\", y)\n",
    "print(\"a:\", a)\n",
    "print(\"b:\", b)"
   ]
  },
  {
   "cell_type": "code",
   "execution_count": 28,
   "metadata": {},
   "outputs": [
    {
     "name": "stdout",
     "output_type": "stream",
     "text": [
      "Available\n",
      "None\n"
     ]
    }
   ],
   "source": [
    "drink = \"Available\"\n",
    "food = None\n",
    "\n",
    "def menu(x):\n",
    "    if x == drink:\n",
    "        print(drink)\n",
    "    else:\n",
    "        print(food)\n",
    "\n",
    "menu(drink)\n",
    "menu(food)\n"
   ]
  },
  {
   "cell_type": "code",
   "execution_count": null,
   "metadata": {},
   "outputs": [],
   "source": [
    "fruits = [\"apple\", \"mango\", \"orange\"] #list\n",
    "numbers = (1, 2, 3) #tuple\n",
    "alphabets = {'a':'apple', 'b':'ball', 'c':'cat'} #dictionary\n",
    "vowels = {'a', 'e', 'i' , 'o', 'u'} #set\n",
    "\n",
    "print(fruits)\n",
    "print(numbers)\n",
    "print(alphabets)\n",
    "print(vowels)"
   ]
  },
  {
   "cell_type": "code",
   "execution_count": 12,
   "metadata": {},
   "outputs": [
    {
     "name": "stdout",
     "output_type": "stream",
     "text": [
      "Value available at index 2 : \n",
      "1997\n",
      "New value available at index 2 : \n",
      "2001\n"
     ]
    }
   ],
   "source": [
    "#updating lists\n",
    "\n",
    "list = ['physics', 'chemistry', 1997, 2000]\n",
    "print (\"Value available at index 2 : \")\n",
    "print (list[2])\n",
    "list[2] = 2001\n",
    "print (\"New value available at index 2 : \")\n",
    "print (list[2])\n",
    "\n"
   ]
  },
  {
   "cell_type": "code",
   "execution_count": 22,
   "metadata": {},
   "outputs": [
    {
     "name": "stdout",
     "output_type": "stream",
     "text": [
      "['physics', 'chemistry', 1997, 2000]\n",
      "physics\n",
      "['physics', 1997]\n",
      "['chemistry', 1997, 2000]\n",
      "['physics', 'english', 1997, 2000]\n",
      "['physics', 'english', 1997, '1111']\n"
     ]
    }
   ],
   "source": [
    "list = ['physics', 'chemistry', 1997, 2000]\n",
    "print(list)\n",
    "print(list[0])\n",
    "print(list[::2])\n",
    "print(list[1:])\n",
    "list[1]=\"english\"\n",
    "print(list)\n",
    "list[-1]=\"1111\"\n",
    "print(list)"
   ]
  },
  {
   "cell_type": "code",
   "execution_count": null,
   "metadata": {},
   "outputs": [],
   "source": []
  }
 ],
 "metadata": {
  "interpreter": {
   "hash": "6b66f59a3f4bed3d737f557ac50d309cac13919fa3d2e68321e2748bd52e6d7e"
  },
  "kernelspec": {
   "display_name": "Python 3.10.2 64-bit",
   "language": "python",
   "name": "python3"
  },
  "language_info": {
   "codemirror_mode": {
    "name": "ipython",
    "version": 3
   },
   "file_extension": ".py",
   "mimetype": "text/x-python",
   "name": "python",
   "nbconvert_exporter": "python",
   "pygments_lexer": "ipython3",
   "version": "3.10.2"
  },
  "orig_nbformat": 4
 },
 "nbformat": 4,
 "nbformat_minor": 2
}
