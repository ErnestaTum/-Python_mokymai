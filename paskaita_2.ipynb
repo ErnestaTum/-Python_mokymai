{
 "cells": [
  {
   "cell_type": "code",
   "execution_count": 18,
   "metadata": {},
   "outputs": [
    {
     "name": "stdout",
     "output_type": "stream",
     "text": [
      "<class 'int'>\n",
      "<class 'float'>\n",
      "<class 'float'>\n"
     ]
    }
   ],
   "source": [
    "print (type(420))\n",
    "print (type(420.))\n",
    "print (type(420.5))"
   ]
  },
  {
   "cell_type": "code",
   "execution_count": 19,
   "metadata": {},
   "outputs": [
    {
     "name": "stdout",
     "output_type": "stream",
     "text": [
      "5\n",
      "11\n",
      "18\n"
     ]
    }
   ],
   "source": [
    "suma = 0\n",
    "suma = suma + 5\n",
    "print (suma)\n",
    "suma = suma + 6\n",
    "print (suma)\n",
    "suma +=7\n",
    "print(suma) # veikia su visom aritmetinem f-jom\n"
   ]
  },
  {
   "cell_type": "code",
   "execution_count": 20,
   "metadata": {},
   "outputs": [
    {
     "name": "stdout",
     "output_type": "stream",
     "text": [
      "10\n",
      "45.0\n",
      "2025.0\n"
     ]
    }
   ],
   "source": [
    "sandauga =1\n",
    "sandauga *=10\n",
    "print (sandauga)\n",
    "sandauga *=4.5\n",
    "print (sandauga)\n",
    "sandauga **=2 #kelimas kvadratu\n",
    "print (sandauga)"
   ]
  },
  {
   "cell_type": "code",
   "execution_count": 21,
   "metadata": {},
   "outputs": [
    {
     "name": "stdout",
     "output_type": "stream",
     "text": [
      "27\n",
      "19\n",
      "92\n",
      "dalybos liekana: 3\n",
      "sveikoji dalis dalybos: 5\n",
      "5.75\n"
     ]
    }
   ],
   "source": [
    "n_1= 23\n",
    "n_2=4\n",
    "\n",
    "print(n_1+n_2)\n",
    "print(n_1-n_2)\n",
    "print(n_1*n_2)\n",
    "print('dalybos liekana:', n_1%n_2)\n",
    "print('sveikoji dalis dalybos:', n_1//n_2)\n",
    "print(n_1/n_2)\n"
   ]
  },
  {
   "cell_type": "code",
   "execution_count": 22,
   "metadata": {},
   "outputs": [
    {
     "name": "stdout",
     "output_type": "stream",
     "text": [
      "9.95\n",
      "-0.75\n",
      "24.609999999999996\n",
      "dalybos liekana 4.6\n",
      "sveikoji dalis dalyboje 0.0\n",
      "0.8598130841121495\n"
     ]
    }
   ],
   "source": [
    "\n",
    "N1= 4.6\n",
    "N2= 5.35\n",
    "print(N1+N2)\n",
    "print(N1-N2)\n",
    "print(N1*N2)\n",
    "print(\"dalybos liekana\", N1%N2)\n",
    "print(\"sveikoji dalis dalyboje\", N1//N2)\n",
    "print(N1/N2)\n"
   ]
  },
  {
   "cell_type": "code",
   "execution_count": 23,
   "metadata": {},
   "outputs": [
    {
     "name": "stdout",
     "output_type": "stream",
     "text": [
      "Atstumas iki saules yra 390.625 kartu didesnis nei iki menulio\n"
     ]
    }
   ],
   "source": [
    "dist_moon = 384000 #km\n",
    "dist_sun = 150000000#km\n",
    "print(f'Atstumas iki saules yra {dist_sun/dist_moon} kartu didesnis nei iki menulio')"
   ]
  },
  {
   "cell_type": "code",
   "execution_count": 24,
   "metadata": {},
   "outputs": [
    {
     "name": "stdout",
     "output_type": "stream",
     "text": [
      "valandu: 2560.0\n"
     ]
    }
   ],
   "source": [
    "car_speed = 150 # km/h\n",
    "print ('valandu:',dist_moon/car_speed)"
   ]
  },
  {
   "cell_type": "code",
   "execution_count": 25,
   "metadata": {},
   "outputs": [
    {
     "name": "stdout",
     "output_type": "stream",
     "text": [
      "<class 'bool'>\n",
      "True\n"
     ]
    }
   ],
   "source": [
    "loginis_kintamsis = True\n",
    "print (type(loginis_kintamsis))\n",
    "print(loginis_kintamsis)"
   ]
  },
  {
   "cell_type": "code",
   "execution_count": 26,
   "metadata": {},
   "outputs": [
    {
     "name": "stdout",
     "output_type": "stream",
     "text": [
      "1\n",
      "0\n"
     ]
    }
   ],
   "source": [
    "print(int(loginis_kintamsis)) #pakeicia i sveika skaiciu\n",
    "print(int(False))"
   ]
  },
  {
   "cell_type": "code",
   "execution_count": 27,
   "metadata": {},
   "outputs": [
    {
     "name": "stdout",
     "output_type": "stream",
     "text": [
      "True\n",
      "False\n",
      "False\n",
      "True\n",
      "True\n",
      "50== numbb True\n",
      "100== numbb False\n",
      "50! == numbb False\n",
      "100!= numbb True\n"
     ]
    }
   ],
   "source": [
    "numbb=50\n",
    "print(10>5)\n",
    "print(10<5)\n",
    "print(10<10)\n",
    "print(10<=10)\n",
    "print(10>=10)\n",
    "print('50== numbb', 50==numbb)\n",
    "print('100== numbb', 100==numbb)\n",
    "print('50! == numbb', 50!=numbb)\n",
    "print('100!= numbb', 100!=numbb) #!= nelygu \n",
    "\n",
    "#== lygu reiskai, = priskiria reiksme, #!= nelygu "
   ]
  },
  {
   "cell_type": "code",
   "execution_count": 28,
   "metadata": {},
   "outputs": [
    {
     "name": "stdout",
     "output_type": "stream",
     "text": [
      "bool (1654): True\n",
      "False\n",
      "True\n"
     ]
    }
   ],
   "source": [
    "print('bool (1654):', bool (1654))\n",
    "print(bool (0))\n",
    "print(bool (-1))"
   ]
  },
  {
   "cell_type": "code",
   "execution_count": 29,
   "metadata": {},
   "outputs": [
    {
     "name": "stdout",
     "output_type": "stream",
     "text": [
      "bool (tekstas): True\n",
      "bool (): False\n",
      "bool (\" \"): True\n"
     ]
    }
   ],
   "source": [
    "print('bool (tekstas):', bool (\"tekstas\"))\n",
    "print('bool ():', bool (\"\")) #nieko nera\n",
    "print('bool (\" \"):', bool (\" \")) #tarpas"
   ]
  },
  {
   "cell_type": "code",
   "execution_count": 30,
   "metadata": {},
   "outputs": [
    {
     "name": "stdout",
     "output_type": "stream",
     "text": [
      "False\n",
      "True\n",
      "True\n",
      "True\n",
      "False\n",
      "True\n"
     ]
    }
   ],
   "source": [
    "print(10<5 and 10>8)\n",
    "#False and True = bendras bus False\n",
    "print(10<50 and 10>8)\n",
    "print(10<5 or 10>8)\n",
    "#False and True = bendras bus True\n",
    "print (not 5>10) #priesinga ats paduoda - not\n",
    "print(not True)\n",
    "print(not False)\n"
   ]
  },
  {
   "cell_type": "code",
   "execution_count": 31,
   "metadata": {},
   "outputs": [
    {
     "name": "stdout",
     "output_type": "stream",
     "text": [
      "True\n",
      "False\n",
      "True\n",
      "True\n",
      "False\n"
     ]
    }
   ],
   "source": [
    "print( \"Vilnius\" in \"Vilnius, Kaunas\")\n",
    "print( \"Klaipeda\" in \"Vilnius, Kaunas\")\n",
    "print( \"s\" in \"Vilnius, Kaunas\")\n",
    "print( \"Kau\" in \"Vilnius, Kaunas\")\n",
    "print( \"kau\" in \"Vilnius, Kaunas\")"
   ]
  },
  {
   "cell_type": "code",
   "execution_count": 32,
   "metadata": {},
   "outputs": [
    {
     "name": "stdout",
     "output_type": "stream",
     "text": [
      "True\n",
      "False\n",
      "False\n",
      "True\n"
     ]
    }
   ],
   "source": [
    "print(True ==1)\n",
    "print(False ==1)\n",
    "print(False ==8)\n",
    "print(False ==0)"
   ]
  },
  {
   "cell_type": "code",
   "execution_count": 33,
   "metadata": {},
   "outputs": [
    {
     "name": "stdout",
     "output_type": "stream",
     "text": [
      "True\n",
      "True\n",
      "True\n",
      "True\n",
      "True\n"
     ]
    }
   ],
   "source": [
    "print(\"ba\" in \"bananas\")\n",
    "print(True==1)\n",
    "print(20>10 and 2>=1)\n",
    "print(bool(12))\n",
    "print( not \"s\" in \"Lova\")"
   ]
  },
  {
   "cell_type": "code",
   "execution_count": 34,
   "metadata": {},
   "outputs": [
    {
     "name": "stdout",
     "output_type": "stream",
     "text": [
      "False\n",
      "False\n",
      "False\n",
      "False\n",
      "False\n"
     ]
    }
   ],
   "source": [
    "print(\"r\" in \"bananas\")\n",
    "print(True==8)\n",
    "print(20<10 and 2>=1)\n",
    "print(bool())\n",
    "print( \"s\" in \"Lova\" and 2>10)"
   ]
  },
  {
   "cell_type": "code",
   "execution_count": 35,
   "metadata": {},
   "outputs": [
    {
     "name": "stdout",
     "output_type": "stream",
     "text": [
      "True\n"
     ]
    }
   ],
   "source": [
    "print(str(True))"
   ]
  },
  {
   "cell_type": "code",
   "execution_count": 36,
   "metadata": {},
   "outputs": [
    {
     "name": "stdout",
     "output_type": "stream",
     "text": [
      "-1.0999999999999996\n"
     ]
    }
   ],
   "source": [
    "float_1=2.2\n",
    "float_2=3.3\n",
    "print(float_1-float_2) # tai nera klaida, taip kompiuteriai veikia dvejetaineje sistemoje"
   ]
  },
  {
   "cell_type": "markdown",
   "metadata": {},
   "source": [
    "# List"
   ]
  },
  {
   "cell_type": "code",
   "execution_count": 37,
   "metadata": {},
   "outputs": [
    {
     "name": "stdout",
     "output_type": "stream",
     "text": [
      "<class 'list'>\n",
      "<class 'list'>\n",
      "Vilnius\n",
      "Klaipeda\n",
      "['Kaunas', 'Klaipeda']\n",
      "0\n"
     ]
    }
   ],
   "source": [
    "cities =['Vilnius', \"Kaunas\", 'Klaipeda']\n",
    "print(type(cities))\n",
    "print(type([]))\n",
    "print(cities[0])\n",
    "print(cities[-1])\n",
    "print(cities[1:]) #slicing\n",
    "print(cities.index(\"Vilnius\"))"
   ]
  },
  {
   "cell_type": "code",
   "execution_count": 77,
   "metadata": {},
   "outputs": [
    {
     "name": "stdout",
     "output_type": "stream",
     "text": [
      "['Vilius', 'Marijampole', 'Siauliai', 'Klaipeda', 'Kaunas', 'Siauliai']\n",
      "['kar kar', 'Marijampole', 'Siauliai', 'Klaipeda', 'Kaunas', 'Siauliai']\n",
      "['Vilnius', 'Marijampole', 'Siauliai', 'Klaipeda', 'Kaunas', 'Siauliai']\n"
     ]
    }
   ],
   "source": [
    "cities [-1]= \"Siauliai\"\n",
    "print(cities)\n",
    "cities [0] = \"kar kar\"\n",
    "print(cities)\n",
    "cities [0] = \"Vilnius\"\n",
    "print(cities)"
   ]
  },
  {
   "cell_type": "code",
   "execution_count": 101,
   "metadata": {},
   "outputs": [
    {
     "name": "stdout",
     "output_type": "stream",
     "text": [
      "['Vilnius', 'Siauliai', 'Klaipeda', 'Kaunas', 'Panevezys', 'Panevezys', 'Panevezys', 'Marijampole']\n"
     ]
    }
   ],
   "source": [
    "cities.append('Panevezys') #prideda str gale kiekviena karta paleidziant f-ja\n",
    "cities.append('Marijampole')\n",
    "print(cities)"
   ]
  },
  {
   "cell_type": "code",
   "execution_count": 112,
   "metadata": {},
   "outputs": [
    {
     "name": "stdout",
     "output_type": "stream",
     "text": [
      "['Vilnius', 'Siauliai', 'Klaipeda', 'Panevezys', 'New York', 'London', 'New York', 'London', 'New York', 'London', 'Panevezys']\n"
     ]
    }
   ],
   "source": [
    "cities.remove(\"Panevezys\") #pasalina pirma pasitaikiusia verte\n",
    "print(cities)"
   ]
  },
  {
   "cell_type": "code",
   "execution_count": 110,
   "metadata": {},
   "outputs": [
    {
     "name": "stdout",
     "output_type": "stream",
     "text": [
      "['Vilnius', 'Siauliai', 'Klaipeda', 'Panevezys', 'Panevezys', 'New York', 'London', 'New York', 'London', 'New York', 'London', 'Panevezys']\n"
     ]
    }
   ],
   "source": [
    "cities.append('Panevezys') #prideda str gale kiekviena karta paleidziant f-ja\n",
    "print(cities)"
   ]
  },
  {
   "cell_type": "code",
   "execution_count": 121,
   "metadata": {},
   "outputs": [
    {
     "name": "stdout",
     "output_type": "stream",
     "text": [
      "['Vilnius', 'Siauliai']\n"
     ]
    }
   ],
   "source": [
    "cities.pop() #pasalina paskutine verte\n",
    "\n",
    "print(cities)"
   ]
  },
  {
   "cell_type": "code",
   "execution_count": 127,
   "metadata": {},
   "outputs": [
    {
     "name": "stdout",
     "output_type": "stream",
     "text": [
      "['Vilnius', 'Siauliai', 'Kaunas', 'Kaunas']\n"
     ]
    }
   ],
   "source": [
    "cities.append(\"Kaunas\")\n",
    "print(cities)\n"
   ]
  },
  {
   "cell_type": "code",
   "execution_count": 128,
   "metadata": {},
   "outputs": [
    {
     "name": "stdout",
     "output_type": "stream",
     "text": [
      "['Vilnius', 'Siauliai', 'Kaunas']\n"
     ]
    }
   ],
   "source": [
    "cities.remove('Kaunas')\n",
    "print(cities)"
   ]
  },
  {
   "cell_type": "code",
   "execution_count": 129,
   "metadata": {},
   "outputs": [
    {
     "name": "stdout",
     "output_type": "stream",
     "text": [
      "['Vilnius', 'Kaunas', 'Kaunas']\n"
     ]
    }
   ],
   "source": [
    "cities[1]=\"Kaunas\"\n",
    "print(cities)"
   ]
  },
  {
   "cell_type": "code",
   "execution_count": 130,
   "metadata": {},
   "outputs": [
    {
     "name": "stdout",
     "output_type": "stream",
     "text": [
      "['Vilnius', 'Kaunas', 'Klaipeda']\n"
     ]
    }
   ],
   "source": [
    "cities[2]=\"Klaipeda\"\n",
    "print(cities)"
   ]
  },
  {
   "cell_type": "code",
   "execution_count": 142,
   "metadata": {},
   "outputs": [
    {
     "name": "stdout",
     "output_type": "stream",
     "text": [
      "['Vilnius', 'Kaunas']\n",
      "po extend\n",
      "['Vilnius', 'Kaunas', 'New York', 'London']\n",
      "4\n",
      "po append\n",
      "3\n",
      "['Vilnius', 'Kaunas', ['New York', 'London']]\n"
     ]
    }
   ],
   "source": [
    "new_cities = [\"New York\", \"London\"]\n",
    "print(cities)\n",
    "cities.extend(new_cities)\n",
    "print ('po extend')\n",
    "print(cities)\n",
    "print(len(cities))\n",
    "cities.pop()\n",
    "cities.pop()\n",
    "print ('po append')\n",
    "cities.append(new_cities)\n",
    "print(len(cities))\n",
    "print(cities)"
   ]
  },
  {
   "cell_type": "code",
   "execution_count": 141,
   "metadata": {},
   "outputs": [
    {
     "name": "stdout",
     "output_type": "stream",
     "text": [
      "['Vilnius', 'Kaunas']\n"
     ]
    }
   ],
   "source": [
    "cities.pop()\n",
    "cities.pop()\n",
    "print(cities)"
   ]
  },
  {
   "cell_type": "code",
   "execution_count": 143,
   "metadata": {},
   "outputs": [
    {
     "name": "stdout",
     "output_type": "stream",
     "text": [
      "[]\n"
     ]
    }
   ],
   "source": [
    "cities.clear()\n",
    "print(cities)"
   ]
  },
  {
   "cell_type": "code",
   "execution_count": 148,
   "metadata": {},
   "outputs": [
    {
     "name": "stdout",
     "output_type": "stream",
     "text": [
      "1\n"
     ]
    }
   ],
   "source": [
    "cities = ['Vilnius', 'Kaunas', 'Siauliai', 'Marijampole', 'Panevezys']\n",
    "print(cities.count(\"Vilnius\"))\n"
   ]
  },
  {
   "cell_type": "code",
   "execution_count": 153,
   "metadata": {},
   "outputs": [
    {
     "name": "stdout",
     "output_type": "stream",
     "text": [
      "7\n"
     ]
    }
   ],
   "source": [
    "print(cities.index(\"Panevezys\"))"
   ]
  },
  {
   "cell_type": "code",
   "execution_count": 154,
   "metadata": {},
   "outputs": [
    {
     "name": "stdout",
     "output_type": "stream",
     "text": [
      "['Vilnius', 'Plunge', 'Kaunas', 'Klaipeda', 'Klaipeda', 'Klaipeda', 'Siauliai', 'Marijampole', 'Panevezys']\n"
     ]
    }
   ],
   "source": [
    "cities.insert(1, \"Plunge\")\n",
    "print(cities)"
   ]
  },
  {
   "cell_type": "code",
   "execution_count": 158,
   "metadata": {},
   "outputs": [
    {
     "name": "stdout",
     "output_type": "stream",
     "text": [
      "['Vilnius', 'Plunge', 'Kaunas', 'Klaipeda', 'Klaipeda', 'Klaipeda', 'Siauliai', 'Marijampole', 'Panevezys']\n"
     ]
    }
   ],
   "source": [
    "cities.reverse() # f-ja galutinai pakeicia lista\n",
    "print(cities)"
   ]
  },
  {
   "cell_type": "code",
   "execution_count": 47,
   "metadata": {},
   "outputs": [
    {
     "name": "stdout",
     "output_type": "stream",
     "text": [
      "['Vilnius', 'Kaunas', 'Klaipeda', 'Siauliai', 'Marijampole', 'Panevezys']\n",
      "['Panevezys', 'Marijampole', 'Siauliai', 'Klaipeda', 'Kaunas', 'Vilnius']\n"
     ]
    }
   ],
   "source": [
    "print(cities[::-1]) #apsuka sarasa, bet ne visam, tik tam paleidimui\n",
    "print(cities)"
   ]
  },
  {
   "cell_type": "code",
   "execution_count": 48,
   "metadata": {},
   "outputs": [
    {
     "name": "stdout",
     "output_type": "stream",
     "text": [
      "[1223, 4556, 667, 8889, 7665]\n"
     ]
    }
   ],
   "source": [
    "number=[1223,4556,667,8889,7665]\n",
    "print(number)"
   ]
  },
  {
   "cell_type": "code",
   "execution_count": 49,
   "metadata": {},
   "outputs": [
    {
     "name": "stdout",
     "output_type": "stream",
     "text": [
      "[667, 1223, 4556, 7665, 8889]\n"
     ]
    }
   ],
   "source": [
    "number.sort() #didejimo tvarka\n",
    "print(number)"
   ]
  },
  {
   "cell_type": "code",
   "execution_count": 50,
   "metadata": {},
   "outputs": [
    {
     "name": "stdout",
     "output_type": "stream",
     "text": [
      "[8889, 7665, 4556, 1223, 667]\n"
     ]
    }
   ],
   "source": [
    "number.sort(reverse=True) # mazejimo tvarka\n",
    "print(number)"
   ]
  },
  {
   "cell_type": "code",
   "execution_count": 51,
   "metadata": {},
   "outputs": [
    {
     "name": "stdout",
     "output_type": "stream",
     "text": [
      "False\n",
      "True\n",
      "True\n",
      "True\n",
      "False\n"
     ]
    }
   ],
   "source": [
    "print(bool([]))\n",
    "print(bool([5]))\n",
    "print(bool([False, 0 , '']))\n",
    "\n",
    "print(\"Vilnius\" in cities)\n",
    "print(\"Berlin\" in cities)"
   ]
  },
  {
   "cell_type": "code",
   "execution_count": 159,
   "metadata": {},
   "outputs": [
    {
     "name": "stdout",
     "output_type": "stream",
     "text": [
      "[1, 3, 45, 'A', False]\n"
     ]
    }
   ],
   "source": [
    "my_list = [1,3,45]+[\"A\", False]\n",
    "print(my_list)\n",
    "# my_list = [1,3,45]-[\"A\", False] neveikia"
   ]
  },
  {
   "cell_type": "code",
   "execution_count": 53,
   "metadata": {},
   "outputs": [
    {
     "name": "stdout",
     "output_type": "stream",
     "text": [
      "['first', 3, 54, 'first', 3, 54, 'first', 3, 54, 'first', 3, 54, 'first', 3, 54, 'first', 3, 54, 'first', 3, 54, 'first', 3, 54, 'first', 3, 54, 'first', 3, 54, 'first', 3, 54, 'first', 3, 54, 'first', 3, 54, 'first', 3, 54, 'first', 3, 54, 'first', 3, 54, 'first', 3, 54, 'first', 3, 54, 'first', 3, 54, 'first', 3, 54, 'first', 3, 54, 'first', 3, 54, 'first', 3, 54]\n"
     ]
    }
   ],
   "source": [
    "my_list= ['first', 3, 54] * 23\n",
    "print(my_list)"
   ]
  },
  {
   "cell_type": "markdown",
   "metadata": {},
   "source": [
    "# Mutable vs. Imutable variables"
   ]
  },
  {
   "cell_type": "code",
   "execution_count": 54,
   "metadata": {},
   "outputs": [
    {
     "name": "stdout",
     "output_type": "stream",
     "text": [
      "2233831063952\n",
      "2233831063952\n",
      "number_1 6\n",
      "number_2 13\n",
      "2233831064176\n",
      "2233831063952\n"
     ]
    }
   ],
   "source": [
    "# Imutable\n",
    "number_1= 6\n",
    "number_2= number_1\n",
    "print(id(number_2))\n",
    "print(id(number_1))\n",
    "number_2=13\n",
    "print(\"number_1\", number_1)\n",
    "print(\"number_2\",number_2)\n",
    "print(id(number_2))\n",
    "print(id(number_1))"
   ]
  },
  {
   "cell_type": "code",
   "execution_count": 55,
   "metadata": {},
   "outputs": [
    {
     "name": "stdout",
     "output_type": "stream",
     "text": [
      "2233944184064\n",
      "2233944184064\n",
      "number_1 [1, 5, 10, 13]\n",
      "number_2 [1, 5, 10, 13]\n",
      "2233944184064\n",
      "2233944184064\n"
     ]
    }
   ],
   "source": [
    "#Mutable - list, set, dict\n",
    "\n",
    "number_1= [1,5,10]\n",
    "number_2= number_1\n",
    "print(id(number_1))\n",
    "print(id(number_2))\n",
    "number_2.append(13)\n",
    "print(\"number_1\", number_1)\n",
    "print(\"number_2\",number_2)\n",
    "print(id(number_2))\n",
    "print(id(number_1))"
   ]
  },
  {
   "cell_type": "code",
   "execution_count": 56,
   "metadata": {},
   "outputs": [
    {
     "name": "stdout",
     "output_type": "stream",
     "text": [
      "2233944175168\n",
      "2233944183232\n",
      "number_1 [1, 5, 10]\n",
      "number_2 [1, 5, 10, 13]\n",
      "2233944183232\n",
      "2233944175168\n"
     ]
    }
   ],
   "source": [
    "# fix 1 for mutable variables - daug uzima atminties ir laiko\n",
    "number_1= [1,5,10]\n",
    "number_2= number_1.copy()\n",
    "print(id(number_1))\n",
    "print(id(number_2))\n",
    "number_2.append(13)\n",
    "print(\"number_1\", number_1)\n",
    "print(\"number_2\",number_2)\n",
    "print(id(number_2))\n",
    "print(id(number_1))"
   ]
  },
  {
   "cell_type": "code",
   "execution_count": 57,
   "metadata": {},
   "outputs": [
    {
     "name": "stdout",
     "output_type": "stream",
     "text": [
      "2233944158592\n",
      "2233944156480\n",
      "2233944152832\n",
      "2233944152832\n",
      "number_1 [1, 5, [10, 20, 13]]\n",
      "number_2 [1, 5, [10, 20, 13]]\n",
      "2233944156480\n",
      "2233944158592\n"
     ]
    }
   ],
   "source": [
    "\n",
    "number_1= [1,5,[10, 20]]\n",
    "number_2= number_1.copy() #will fail\n",
    "print(id(number_1))\n",
    "print(id(number_2))\n",
    "print(id(number_1[2]))\n",
    "print(id(number_2[2]))\n",
    "number_2[2].append(13)\n",
    "print(\"number_1\", number_1)\n",
    "print(\"number_2\",number_2)\n",
    "print(id(number_2))\n",
    "print(id(number_1))"
   ]
  },
  {
   "cell_type": "code",
   "execution_count": 58,
   "metadata": {},
   "outputs": [
    {
     "name": "stdout",
     "output_type": "stream",
     "text": [
      "2233944154944\n",
      "2233944158400\n",
      "2233944156608\n",
      "2233944173376\n",
      "number_1 [1, 5, [10, 20]]\n",
      "number_2 [1, 5, [10, 20, 13]]\n",
      "2233944158400\n",
      "2233944154944\n"
     ]
    }
   ],
   "source": [
    "#Best fix for mutable variables\n",
    "import copy\n",
    "\n",
    "number_1= [1,5,[10, 20]]\n",
    "number_2= copy.deepcopy (number_1)\n",
    "print(id(number_1))\n",
    "print(id(number_2))\n",
    "print(id(number_1[2]))\n",
    "print(id(number_2[2]))\n",
    "number_2[2].append(13)\n",
    "print(\"number_1\", number_1)\n",
    "print(\"number_2\",number_2)\n",
    "print(id(number_2))\n",
    "print(id(number_1))"
   ]
  },
  {
   "cell_type": "code",
   "execution_count": 170,
   "metadata": {},
   "outputs": [
    {
     "name": "stdout",
     "output_type": "stream",
     "text": [
      "['mama', 'tetis', 'mociute']\n",
      "3\n",
      "['mama', 'tetis', 'mociute', 'senelis']\n",
      "False\n"
     ]
    }
   ],
   "source": [
    "sarasas=[\"mama\", 'tetis', 'mociute']\n",
    "print(sarasas)\n",
    "print(len(sarasas))\n",
    "sarasas.append('senelis')\n",
    "print(sarasas)\n",
    "print ('sese' in sarasas)"
   ]
  },
  {
   "cell_type": "code",
   "execution_count": 171,
   "metadata": {},
   "outputs": [
    {
     "name": "stdout",
     "output_type": "stream",
     "text": [
      "False\n"
     ]
    }
   ],
   "source": [
    "print ('sese' in sarasas)"
   ]
  },
  {
   "cell_type": "code",
   "execution_count": 61,
   "metadata": {},
   "outputs": [
    {
     "name": "stdout",
     "output_type": "stream",
     "text": [
      "['batas', 'ratas', 'puodukas']\n",
      "['mama', 'tetis', 'mociute', 'senelis', 'batas', 'ratas', 'puodukas']\n",
      "['mama', 'tetis', 'mociute', 'senelis', 'batas', 'ratas']\n",
      "['mama', 'tetis', 'mociute', 'senelis', 'batas', 'ratas']\n",
      "1\n"
     ]
    }
   ],
   "source": [
    "sarasas_2= [\"batas\", \"ratas\", \"puodukas\"]\n",
    "print(sarasas_2)\n",
    "viskas = sarasas+sarasas_2\n",
    "print(viskas)\n",
    "viskas.pop()\n",
    "print(viskas)\n",
    "viskas.sort\n",
    "print(viskas)\n",
    "print(viskas.count(\"batas\"))\n",
    "\n",
    "\n",
    "\n"
   ]
  },
  {
   "cell_type": "code",
   "execution_count": 172,
   "metadata": {},
   "outputs": [
    {
     "name": "stdout",
     "output_type": "stream",
     "text": [
      "[1, [[5416, 3], 521, 4], 54]\n",
      "[[5416, 3], 521, 4]\n",
      "[5416, 3]\n",
      "3\n"
     ]
    }
   ],
   "source": [
    "my_list_2 = [1, [[5416, 3], 521,4], 54]\n",
    "print(my_list_2)\n",
    "print(my_list_2[1])\n",
    "print(my_list_2[1][0])\n",
    "print(my_list_2[1][0][1])"
   ]
  },
  {
   "cell_type": "markdown",
   "metadata": {},
   "source": [
    "# Tuple"
   ]
  },
  {
   "cell_type": "markdown",
   "metadata": {},
   "source": []
  },
  {
   "cell_type": "code",
   "execution_count": 184,
   "metadata": {},
   "outputs": [],
   "source": [
    "my_tuple=(1,2,3)"
   ]
  },
  {
   "cell_type": "code",
   "execution_count": 185,
   "metadata": {},
   "outputs": [
    {
     "name": "stdout",
     "output_type": "stream",
     "text": [
      "(1, 2, 3)\n",
      "2\n",
      "(1, 2)\n"
     ]
    }
   ],
   "source": [
    "print(my_tuple)\n",
    "print(my_tuple[1])\n",
    "print(my_tuple[:2])"
   ]
  },
  {
   "cell_type": "code",
   "execution_count": 186,
   "metadata": {},
   "outputs": [
    {
     "name": "stdout",
     "output_type": "stream",
     "text": [
      "1\n",
      "2\n"
     ]
    }
   ],
   "source": [
    "print(my_tuple.count(3))\n",
    "print(my_tuple.index(3))"
   ]
  },
  {
   "cell_type": "code",
   "execution_count": 192,
   "metadata": {},
   "outputs": [
    {
     "name": "stdout",
     "output_type": "stream",
     "text": [
      "(1, 2, 3, 5, 10, 5, 10, 5, 10, 2, 3, 2, 3, 2, 3)\n"
     ]
    }
   ],
   "source": [
    "# my_tuple[2]= 5 neveiks - negalima perrasyti reiksmiu\n",
    "#my_tuple=my_tuple +(5,10)\n",
    "my_tuple+=(2,3)\n",
    "print(my_tuple)"
   ]
  },
  {
   "cell_type": "code",
   "execution_count": 196,
   "metadata": {},
   "outputs": [
    {
     "name": "stdout",
     "output_type": "stream",
     "text": [
      "(1, 4, 4, 5, 5, 5)\n",
      "True\n",
      "6\n",
      "3\n"
     ]
    }
   ],
   "source": [
    "combined = (1,4,4) + (5,5,5)\n",
    "print(combined)\n",
    "print(5 in combined)\n",
    "print(len(combined))\n",
    "print(combined.count(5))"
   ]
  },
  {
   "cell_type": "code",
   "execution_count": 197,
   "metadata": {},
   "outputs": [
    {
     "name": "stdout",
     "output_type": "stream",
     "text": [
      "(1, 5, [4, 8])\n"
     ]
    }
   ],
   "source": [
    "my_tuple_2 = ( 1,5,[4,8])\n",
    "print (my_tuple_2)"
   ]
  },
  {
   "cell_type": "code",
   "execution_count": 198,
   "metadata": {},
   "outputs": [
    {
     "name": "stdout",
     "output_type": "stream",
     "text": [
      "(1, 5, [4, 8, 100])\n"
     ]
    }
   ],
   "source": [
    "my_tuple_2[2].append(100)\n",
    "print (my_tuple_2) "
   ]
  },
  {
   "cell_type": "code",
   "execution_count": 68,
   "metadata": {},
   "outputs": [
    {
     "name": "stdout",
     "output_type": "stream",
     "text": [
      "8\n",
      "8\n"
     ]
    }
   ],
   "source": [
    "my_tuple = (1, 2, ['3', 4, 5], [6, [7, (8)]])\n",
    "print (my_tuple [3][1][1])\n",
    "print (my_tuple [-1][-1][-1])\n"
   ]
  },
  {
   "cell_type": "code",
   "execution_count": 74,
   "metadata": {},
   "outputs": [
    {
     "name": "stdout",
     "output_type": "stream",
     "text": [
      "(11, [222, 22], 44, 55)\n"
     ]
    }
   ],
   "source": [
    "tuple1 = (11, [222, 33], 44, 55)\n",
    "# tuple_1[1] = [222, 22] # neveiks\n",
    "tuple1[1][-1]=22\n",
    "print(tuple1)\n"
   ]
  },
  {
   "cell_type": "code",
   "execution_count": 200,
   "metadata": {},
   "outputs": [
    {
     "name": "stdout",
     "output_type": "stream",
     "text": [
      "[11, [222, 33], 44, 55]\n",
      "(11, [222, 22], 44, 55)\n"
     ]
    }
   ],
   "source": [
    "# 2 budas\n",
    "tuple_1 = (11, [222, 33], 44, 55)\n",
    "tmp_list = list(tuple_1)\n",
    "print(tmp_list)\n",
    "tmp_list[1] = [222, 22]\n",
    "tuple_1 = tuple(tmp_list)\n",
    "print (tuple_1)"
   ]
  },
  {
   "cell_type": "code",
   "execution_count": 201,
   "metadata": {},
   "outputs": [
    {
     "name": "stdout",
     "output_type": "stream",
     "text": [
      "<class 'tuple'>\n",
      "<class 'tuple'>\n"
     ]
    }
   ],
   "source": [
    "print (type(tuple_1))\n",
    "print (type( () ))"
   ]
  },
  {
   "cell_type": "markdown",
   "metadata": {},
   "source": [
    "# Range"
   ]
  },
  {
   "cell_type": "code",
   "execution_count": null,
   "metadata": {},
   "outputs": [],
   "source": [
    "my_numbers = range(54,158,3)"
   ]
  },
  {
   "cell_type": "code",
   "execution_count": null,
   "metadata": {},
   "outputs": [
    {
     "name": "stdout",
     "output_type": "stream",
     "text": [
      "<class 'range'>\n",
      "range(54, 158, 3)\n",
      "[54, 57, 60, 63, 66, 69, 72, 75, 78, 81, 84, 87, 90, 93, 96, 99, 102, 105, 108, 111, 114, 117, 120, 123, 126, 129, 132, 135, 138, 141, 144, 147, 150, 153, 156]\n"
     ]
    }
   ],
   "source": [
    "print(type(my_numbers))\n",
    "print(my_numbers)\n",
    "print(list(my_numbers))"
   ]
  },
  {
   "cell_type": "code",
   "execution_count": null,
   "metadata": {},
   "outputs": [
    {
     "name": "stdout",
     "output_type": "stream",
     "text": [
      "[50, 43, 36, 29, 22, 15, 8, 1, -6, -13, -20, -27, -34, -41, -48, -55, -62, -69, -76, -83, -90, -97, -104, -111, -118, -125, -132, -139, -146, -153]\n",
      "[20, 22, 24, 26, 28, 30, 32, 34, 36, 38, 40, 42, 44, 46, 48, 50, 52, 54, 56, 58, 60, 62, 64, 66, 68, 70, 72, 74, 76, 78, 80]\n"
     ]
    }
   ],
   "source": [
    "print(list(range(50, -158,-7)))\n",
    "print(list(range(20,81,2))) # paskutinis bus 80"
   ]
  },
  {
   "cell_type": "code",
   "execution_count": 205,
   "metadata": {},
   "outputs": [
    {
     "name": "stdout",
     "output_type": "stream",
     "text": [
      "ciklas prasidejo\n",
      "3\n",
      "ciklas prasidejo\n",
      "5\n",
      "ciklas prasidejo\n",
      "7\n",
      "ciklas prasidejo\n",
      "9\n",
      "pabaiga\n"
     ]
    }
   ],
   "source": [
    "for number in range (3,11,2):\n",
    "    print ('ciklas prasidejo')\n",
    "    print(number)\n",
    "print('pabaiga')"
   ]
  },
  {
   "cell_type": "code",
   "execution_count": null,
   "metadata": {},
   "outputs": [],
   "source": []
  }
 ],
 "metadata": {
  "interpreter": {
   "hash": "6b66f59a3f4bed3d737f557ac50d309cac13919fa3d2e68321e2748bd52e6d7e"
  },
  "kernelspec": {
   "display_name": "Python 3.10.2 64-bit",
   "language": "python",
   "name": "python3"
  },
  "language_info": {
   "codemirror_mode": {
    "name": "ipython",
    "version": 3
   },
   "file_extension": ".py",
   "mimetype": "text/x-python",
   "name": "python",
   "nbconvert_exporter": "python",
   "pygments_lexer": "ipython3",
   "version": "3.10.2"
  },
  "orig_nbformat": 4
 },
 "nbformat": 4,
 "nbformat_minor": 2
}
