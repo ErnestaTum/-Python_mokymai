{
 "cells": [
  {
   "cell_type": "code",
   "execution_count": 4,
   "metadata": {},
   "outputs": [
    {
     "name": "stdout",
     "output_type": "stream",
     "text": [
      "<class 'int'>\n",
      "<class 'float'>\n",
      "<class 'float'>\n"
     ]
    }
   ],
   "source": [
    "print (type(420))\n",
    "print (type(420.))\n",
    "print (type(420.5))"
   ]
  },
  {
   "cell_type": "code",
   "execution_count": 7,
   "metadata": {},
   "outputs": [
    {
     "name": "stdout",
     "output_type": "stream",
     "text": [
      "5\n",
      "11\n",
      "18\n"
     ]
    }
   ],
   "source": [
    "suma = 0\n",
    "suma = suma + 5\n",
    "print (suma)\n",
    "suma = suma + 6\n",
    "print (suma)\n",
    "suma +=7\n",
    "print(suma) # veikia su visom aritmetinem f-jom\n"
   ]
  },
  {
   "cell_type": "code",
   "execution_count": 13,
   "metadata": {},
   "outputs": [
    {
     "name": "stdout",
     "output_type": "stream",
     "text": [
      "10\n",
      "45.0\n",
      "2025.0\n"
     ]
    }
   ],
   "source": [
    "sandauga =1\n",
    "sandauga *=10\n",
    "print (sandauga)\n",
    "sandauga *=4.5\n",
    "print (sandauga)\n",
    "sandauga **=2 #kelimas kvadratu\n",
    "print (sandauga)"
   ]
  },
  {
   "cell_type": "code",
   "execution_count": 16,
   "metadata": {},
   "outputs": [
    {
     "name": "stdout",
     "output_type": "stream",
     "text": [
      "27\n",
      "19\n",
      "92\n",
      "3\n",
      "5\n",
      "5.75\n"
     ]
    }
   ],
   "source": [
    "n_1= 23\n",
    "n_2=4\n",
    "\n",
    "print(n_1+n_2)\n",
    "print(n_1-n_2)\n",
    "print(n_1*n_2)\n",
    "print(n_1%n_2)\n",
    "print(n_1//n_2)\n",
    "print(n_1/n_2)\n"
   ]
  },
  {
   "cell_type": "code",
   "execution_count": 18,
   "metadata": {},
   "outputs": [
    {
     "name": "stdout",
     "output_type": "stream",
     "text": [
      "9.95\n",
      "-0.75\n",
      "24.609999999999996\n",
      "dalybos liekana 4.6\n",
      "sveikoji dalis dalyboje 0.0\n",
      "0.8598130841121495\n"
     ]
    }
   ],
   "source": [
    "\n",
    "N1= 4.6\n",
    "N2= 5.35\n",
    "print(N1+N2)\n",
    "print(N1-N2)\n",
    "print(N1*N2)\n",
    "print(\"dalybos liekana\", N1%N2)\n",
    "print(\"sveikoji dalis dalyboje\", N1//N2)\n",
    "print(N1/N2)\n"
   ]
  },
  {
   "cell_type": "code",
   "execution_count": 19,
   "metadata": {},
   "outputs": [
    {
     "name": "stdout",
     "output_type": "stream",
     "text": [
      "Atstumas iki saules yra 390.625 kartu didesnis nei iki menulio\n"
     ]
    }
   ],
   "source": [
    "dist_moon = 384000 #km\n",
    "dist_sun = 150000000#km\n",
    "print(f'Atstumas iki saules yra {dist_sun/dist_moon} kartu didesnis nei iki menulio')"
   ]
  },
  {
   "cell_type": "code",
   "execution_count": 21,
   "metadata": {},
   "outputs": [
    {
     "name": "stdout",
     "output_type": "stream",
     "text": [
      "valandu: 2560.0\n"
     ]
    }
   ],
   "source": [
    "car_speed = 150 # km/h\n",
    "print ('valandu:',dist_moon/car_speed)"
   ]
  },
  {
   "cell_type": "code",
   "execution_count": 23,
   "metadata": {},
   "outputs": [
    {
     "name": "stdout",
     "output_type": "stream",
     "text": [
      "<class 'bool'>\n",
      "True\n"
     ]
    }
   ],
   "source": [
    "loginis_kintamsis = True\n",
    "print (type(loginis_kintamsis))\n",
    "print(loginis_kintamsis)"
   ]
  },
  {
   "cell_type": "code",
   "execution_count": 25,
   "metadata": {},
   "outputs": [
    {
     "name": "stdout",
     "output_type": "stream",
     "text": [
      "1\n",
      "0\n"
     ]
    }
   ],
   "source": [
    "print(int(loginis_kintamsis)) #pakeicia i sveika skaiciu\n",
    "print(int(False))"
   ]
  },
  {
   "cell_type": "code",
   "execution_count": 35,
   "metadata": {},
   "outputs": [
    {
     "name": "stdout",
     "output_type": "stream",
     "text": [
      "True\n",
      "False\n",
      "False\n",
      "True\n",
      "True\n",
      "50== numbb True\n",
      "100== numbb False\n",
      "100== numbb False\n",
      "100!= numbb True\n"
     ]
    }
   ],
   "source": [
    "numbb=50\n",
    "print(10>5)\n",
    "print(10<5)\n",
    "print(10<10)\n",
    "print(10<=10)\n",
    "print(10>=10)\n",
    "print('50== numbb', 50==numbb)\n",
    "print('100== numbb', 100==numbb)\n",
    "print('100== numbb', 100==numbb)\n",
    "print('100!= numbb', 100!=numbb)\n",
    "\n",
    "#== lygu reiskai, = priskiria reiksme"
   ]
  },
  {
   "cell_type": "code",
   "execution_count": 40,
   "metadata": {},
   "outputs": [
    {
     "name": "stdout",
     "output_type": "stream",
     "text": [
      "bool (1654): True\n",
      "False\n",
      "True\n"
     ]
    }
   ],
   "source": [
    "print('bool (1654):', bool (1654))\n",
    "print(bool (0))\n",
    "print(bool (-1))"
   ]
  },
  {
   "cell_type": "code",
   "execution_count": 44,
   "metadata": {},
   "outputs": [
    {
     "name": "stdout",
     "output_type": "stream",
     "text": [
      "bool (tekstas): True\n",
      "bool (): False\n",
      "bool (\" \"): True\n"
     ]
    }
   ],
   "source": [
    "print('bool (tekstas):', bool (\"tekstas\"))\n",
    "print('bool ():', bool (\"\")) #nieko nera\n",
    "print('bool (\" \"):', bool (\" \")) #tarpas"
   ]
  },
  {
   "cell_type": "code",
   "execution_count": 54,
   "metadata": {},
   "outputs": [
    {
     "name": "stdout",
     "output_type": "stream",
     "text": [
      "False\n",
      "True\n",
      "True\n",
      "True\n",
      "False\n",
      "True\n"
     ]
    }
   ],
   "source": [
    "print(10<5 and 10>8)\n",
    "#False and True = bendras bus False\n",
    "print(10<50 and 10>8)\n",
    "print(10<5 or 10>8)\n",
    "#False and True = bendras bus True\n",
    "print (not 5>10) #priesinga ats paduoda - not\n",
    "print(not True)\n",
    "print(not False)\n"
   ]
  },
  {
   "cell_type": "code",
   "execution_count": 61,
   "metadata": {},
   "outputs": [
    {
     "name": "stdout",
     "output_type": "stream",
     "text": [
      "True\n",
      "False\n",
      "True\n",
      "True\n",
      "False\n"
     ]
    }
   ],
   "source": [
    "print( \"Vilnius\" in \"Vilnius, Kaunas\")\n",
    "print( \"Klaipeda\" in \"Vilnius, Kaunas\")\n",
    "print( \"s\" in \"Vilnius, Kaunas\")\n",
    "print( \"Kau\" in \"Vilnius, Kaunas\")\n",
    "print( \"kau\" in \"Vilnius, Kaunas\")"
   ]
  },
  {
   "cell_type": "code",
   "execution_count": null,
   "metadata": {},
   "outputs": [],
   "source": []
  }
 ],
 "metadata": {
  "interpreter": {
   "hash": "6b66f59a3f4bed3d737f557ac50d309cac13919fa3d2e68321e2748bd52e6d7e"
  },
  "kernelspec": {
   "display_name": "Python 3.10.2 64-bit",
   "language": "python",
   "name": "python3"
  },
  "language_info": {
   "codemirror_mode": {
    "name": "ipython",
    "version": 3
   },
   "file_extension": ".py",
   "mimetype": "text/x-python",
   "name": "python",
   "nbconvert_exporter": "python",
   "pygments_lexer": "ipython3",
   "version": "3.10.2"
  },
  "orig_nbformat": 4
 },
 "nbformat": 4,
 "nbformat_minor": 2
}
