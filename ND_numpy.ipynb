{
 "cells": [
  {
   "cell_type": "code",
   "execution_count": 29,
   "metadata": {},
   "outputs": [
    {
     "name": "stdout",
     "output_type": "stream",
     "text": [
      "[[5 4 3]\n",
      " [3 2 1]\n",
      " [1 0 6]\n",
      " [6 5 4]]\n"
     ]
    }
   ],
   "source": [
    "# 1. Sukurkite tokį ndarray ir išsaugokite kintamąjame arr:\n",
    "# [[5 4 3]\n",
    "#  [3 2 1]\n",
    "#  [1 0 6]\n",
    "#  [6 5 4]]\n",
    "\n",
    "import numpy as np\n",
    "\n",
    "arr = np.array ( [\n",
    "    [5,4,3],\n",
    "    [3,2,1],\n",
    "    [1,0,6],\n",
    "    [6,5,4]\n",
    "]\n",
    ")\n",
    "\n",
    "print(arr)\n",
    "\n"
   ]
  },
  {
   "cell_type": "code",
   "execution_count": 8,
   "metadata": {},
   "outputs": [
    {
     "name": "stdout",
     "output_type": "stream",
     "text": [
      "2\n",
      "(4, 3)\n"
     ]
    }
   ],
   "source": [
    "\n",
    "# 2. Kiek dimensijų turi arr? Kokios jos?\n",
    "# # arr = [[5 4 3]\n",
    "# #        [3 2 1]\n",
    "# #        [1 0 6]\n",
    "# #        [6 5 4]]\n",
    "\n",
    "print(len(arr.shape)) #turi 2 dimensijas\n",
    "print(arr.shape) \n"
   ]
  },
  {
   "cell_type": "code",
   "execution_count": 12,
   "metadata": {},
   "outputs": [
    {
     "name": "stdout",
     "output_type": "stream",
     "text": [
      "0\n"
     ]
    }
   ],
   "source": [
    "# 3. Atspausdinkite 3-ios eilutės antrąjį narį\n",
    "# # arr = [[5 4 3]\n",
    "# #        [3 2 1]\n",
    "# #        [1 0 6]\n",
    "#     #    [6 5 4]]\n",
    "\n",
    "print(arr[2][1])"
   ]
  },
  {
   "cell_type": "code",
   "execution_count": 11,
   "metadata": {},
   "outputs": [
    {
     "name": "stdout",
     "output_type": "stream",
     "text": [
      "[3 2]\n"
     ]
    }
   ],
   "source": [
    "# 4. Atspausdinkite 2-os eilutės pirmą ir antrą narius\n",
    "# # arr = [[5 4 3]\n",
    "# #        [3 2 1]\n",
    "# #        [1 0 6]\n",
    "# #        [6 5 4]]\n",
    "\n",
    "print(arr[1][:2])"
   ]
  },
  {
   "cell_type": "code",
   "execution_count": 33,
   "metadata": {},
   "outputs": [
    {
     "name": "stdout",
     "output_type": "stream",
     "text": [
      "[[6 5 4]]\n"
     ]
    }
   ],
   "source": [
    "# 5. Atspausdinkite 3-ios ir 4 eilučių antrą ir trečią narius (t.y. iš viso 4 skaičius iš dešiniojo apatinio kampo)\n",
    "# # arr = [[5 4 3]\n",
    "# #        [3 2 1]\n",
    "# #        [1 0 6]\n",
    "# #        [6 5 4]]\n",
    "\n",
    "print(arr[2:][1:]) # bandziau ieskotis, bet neradau kaip padaryti, kad 0 rodytu"
   ]
  },
  {
   "cell_type": "code",
   "execution_count": 41,
   "metadata": {},
   "outputs": [
    {
     "name": "stdout",
     "output_type": "stream",
     "text": [
      "[[5 2]\n",
      " [6 4]\n",
      " [1 6]\n",
      " [3 1]\n",
      " [5 3]\n",
      " [0 4]]\n"
     ]
    }
   ],
   "source": [
    "# 6. Naudodami reshape() metodą pakeiskite arr taip, kad jo dimensijos būtų (6, 2)\n",
    "# # arr = [[5, 4, 3],\n",
    "# #        [3, 2, 1],\n",
    "# #        [1, 0, 6],\n",
    "# #        [6, 5, 4]]\n",
    "\n",
    "print(arr.reshape(6,2))\n"
   ]
  },
  {
   "cell_type": "code",
   "execution_count": 43,
   "metadata": {},
   "outputs": [
    {
     "name": "stdout",
     "output_type": "stream",
     "text": [
      "[[5 6 1 3 5 0]\n",
      " [2 4 6 1 3 4]]\n"
     ]
    }
   ],
   "source": [
    "# 7. Transponuokite arr (po transponavimo shape turi būti (2, 6))\n",
    "# # arr = [[5, 4, 3],\n",
    "# #        [3, 2, 1],\n",
    "# #        [1, 0, 6],\n",
    "# #        [6, 5, 4]]\n",
    "\n",
    "print(np.transpose(arr.reshape(6,2)))"
   ]
  },
  {
   "cell_type": "code",
   "execution_count": 47,
   "metadata": {},
   "outputs": [
    {
     "name": "stdout",
     "output_type": "stream",
     "text": [
      "[[5 3 2 1 6 5]\n",
      " [4 3 1 0 6 4]]\n",
      "[[ 10  -6 -14 -22  18  10]\n",
      " [  2  -6 -22 -30  18   2]]\n"
     ]
    }
   ],
   "source": [
    "# 8. Padauginkite visus šio array skaičius iš 8 ir atimkite iš visų 30, išsaugokite rezultatą kintamąjame arr_2\n",
    "# # arr = [[5 3 2 1 6 5]\n",
    "# #        [4 3 1 0 6 4]]\n",
    "\n",
    "arr = np.array ( [\n",
    "    [5,3,2,1,6,5],\n",
    "    [4,3,1,0,6,4]\n",
    "]\n",
    ")\n",
    "\n",
    "print(arr)\n",
    "\n",
    "arr_2 =(arr * 8) - 30\n",
    "print(arr_2)\n"
   ]
  },
  {
   "cell_type": "code",
   "execution_count": 49,
   "metadata": {},
   "outputs": [
    {
     "name": "stdout",
     "output_type": "stream",
     "text": [
      "[ -6 -14 -22  -6 -22 -30]\n"
     ]
    }
   ],
   "source": [
    "\n",
    "# 9. Priskirkite visus neigiamus arr_2 narius kintamąjam arr_2_neg\n",
    "# # arr_2 = [[ 10  -6 -14 -22  18  10]\n",
    "# #        [  2  -6 -22 -30  18   2]]\n",
    "\n",
    "\n",
    "arr_2_neg = arr_2[arr_2<0]\n",
    "print(arr_2_neg)"
   ]
  },
  {
   "cell_type": "code",
   "execution_count": 57,
   "metadata": {},
   "outputs": [
    {
     "name": "stdout",
     "output_type": "stream",
     "text": [
      "Suma: -100\n",
      "Sandauga: 7318080\n"
     ]
    }
   ],
   "source": [
    "\n",
    "# 10. Atspausdinkite arr_2_neg narių sumą ir sandaugą\n",
    "# # arr_2_neg = [ -6 -14 -22  -6 -22 -30]\n",
    "\n",
    "print(\"Suma:\", arr_2_neg.sum())\n",
    "#print(np.sum(arr_2_neg)) - kuo skiriasi sita funkcija nuo pirmiau parasytos?\n",
    "print(\"Sandauga:\", arr_2_neg.prod())"
   ]
  },
  {
   "cell_type": "code",
   "execution_count": 54,
   "metadata": {},
   "outputs": [
    {
     "name": "stdout",
     "output_type": "stream",
     "text": [
      "-18.0\n"
     ]
    }
   ],
   "source": [
    "\n",
    "# 11. Atspausdinkite arr_2_neg medianą\n",
    "# # arr_2_neg = [ -6 -14 -22  -6 -22 -30]\n",
    "\n",
    "\n",
    "print(np.median(arr_2_neg))\n",
    "\n",
    "\n"
   ]
  }
 ],
 "metadata": {
  "interpreter": {
   "hash": "6b66f59a3f4bed3d737f557ac50d309cac13919fa3d2e68321e2748bd52e6d7e"
  },
  "kernelspec": {
   "display_name": "Python 3.10.2 64-bit",
   "language": "python",
   "name": "python3"
  },
  "language_info": {
   "codemirror_mode": {
    "name": "ipython",
    "version": 3
   },
   "file_extension": ".py",
   "mimetype": "text/x-python",
   "name": "python",
   "nbconvert_exporter": "python",
   "pygments_lexer": "ipython3",
   "version": "3.10.2"
  },
  "orig_nbformat": 4
 },
 "nbformat": 4,
 "nbformat_minor": 2
}
